{
 "cells": [
  {
   "cell_type": "markdown",
   "metadata": {},
   "source": [
    "# Overview"
   ]
  },
  {
   "cell_type": "markdown",
   "metadata": {},
   "source": [
    "# Project Instructions"
   ]
  },
  {
   "cell_type": "markdown",
   "metadata": {},
   "source": [
    "**Context**: EHR data is becoming a key source of real-world evidence (RWE) for the pharmaceutical industry and regulators to [make decisions on clinical trials](https://www.fda.gov/news-events/speeches-fda-officials/breaking-down-barriers-between-clinical-trials-and-clinical-care-incorporating-real-world-evidence). You are a data scientist for an exciting unicorn healthcare startup that has created a groundbreaking diabetes drug that is ready for clinical trial testing. It is a very unique and sensitive drug that requires administering the drug over at least 5-7 days of time in the hospital with frequent monitoring/testing and patient medication adherence training with a mobile application. You have been provided a patient dataset from a client partner and are tasked with building a predictive model that can identify which type of patients the company should focus their efforts testing this drug on. Target patients are people that are likely to be in the hospital for this duration of time and will not incur significant additional costs for administering this drug to the patient and monitoring.  \n",
    "\n",
    "In order to achieve your goal you must build a regression model that can predict the estimated hospitalization time for a patient and use this to select/filter patients for your study.\n"
   ]
  },
  {
   "cell_type": "markdown",
   "metadata": {},
   "source": [
    "**Expected Hospitalization Time Regression Model:** Utilizing a synthetic dataset(denormalized at the line level augmentation) built off of the UCI Diabetes readmission dataset, students will build a regression model that predicts the expected days of hospitalization time and then convert this to a binary prediction of whether to include or exclude that patient from the clinical trial.\n",
    "\n",
    "This project will demonstrate the importance of building the right data representation at the encounter level, with appropriate filtering and preprocessing/feature engineering of key medical code sets. This project will also require students to analyze and interpret their model for biases across key demographic groups. \n",
    "\n",
    "Please see the project rubric online for more details on the areas your project will be evaluated."
   ]
  },
  {
   "cell_type": "markdown",
   "metadata": {},
   "source": [
    "### Dataset"
   ]
  },
  {
   "cell_type": "markdown",
   "metadata": {},
   "source": [
    "Due to healthcare PHI regulations (HIPAA, HITECH), there are limited number of publicly available datasets and some datasets require training and approval. So, for the purpose of this exercise, we are using a dataset from UC Irvine(https://archive.ics.uci.edu/ml/datasets/Diabetes+130-US+hospitals+for+years+1999-2008) that has been modified for this course. Please note that it is limited in its representation of some key features such as diagnosis codes which are usually an unordered list in 835s/837s (the HL7 standard interchange formats used for claims and remits)."
   ]
  },
  {
   "cell_type": "markdown",
   "metadata": {},
   "source": [
    "**Data Schema**\n",
    "The dataset reference information can be https://github.com/udacity/nd320-c1-emr-data-starter/blob/master/project/data_schema_references/\n",
    ". There are two CSVs that provide more details on the fields and some of the mapped values."
   ]
  },
  {
   "cell_type": "markdown",
   "metadata": {},
   "source": [
    "## Environment Setup"
   ]
  },
  {
   "cell_type": "markdown",
   "metadata": {},
   "source": [
    "For step by step instructions on creating your environment, please go to https://github.com/udacity/nd320-c1-emr-data-starter/blob/master/project/README.md."
   ]
  },
  {
   "cell_type": "markdown",
   "metadata": {},
   "source": [
    "# Learning Objectives\n",
    "   - Use the Tensorflow Dataset API to scalably extract, transform, and load datasets and build datasets aggregated at the line, encounter, and patient data levels(longitudinal)\n",
    "   - Analyze EHR datasets to check for common issues (data leakage, statistical properties, missing values, high cardinality) by performing exploratory data analysis.\n",
    "   - Create categorical features from Key Industry Code Sets (ICD, CPT, NDC) and reduce dimensionality for high cardinality features by using embeddings \n",
    "   - Create derived features(bucketing, cross-features, embeddings) utilizing Tensorflow feature columns on both continuous and categorical input features\n",
    "   - SWBAT use the Tensorflow Probability library to train a model that provides uncertainty range predictions that allow for risk adjustment/prioritization and triaging of predictions\n",
    "   - Analyze and determine biases for a model for key demographic groups by evaluating performance metrics across groups by using the Aequitas framework "
   ]
  },
  {
   "cell_type": "markdown",
   "metadata": {},
   "source": [
    "# Contents\n",
    "- [Data Loading](#data-loading)\n",
    "- [Determine Level of EHR](#determine-level-of-EHR)\n",
    "- [EDA](#eda)\n",
    "- [Reduce Dimensionality of the NDC Code Feature](#reduce-dimensionality-of-the-ndc-code-feature)\n",
    "- [Select First Encounter for each Patient](#select-first-encounter-for-each-patient)\n",
    "- [Aggregate Dataset](#aggregate-dataset)\n",
    "- [Prepare Fields and Cast Dataset](#prepare-fields-and-cast-dataset)\n",
    "- [Split Dataset](#split-dataset)\n",
    "- [Create Features with TF Feature Columns](#create-features-with-tf-feature-columns)\n",
    "- [Build Model](#build-model)\n",
    "- [Process Model's Prediction Outputs](#process-model's-prediction-outputs)\n",
    "- [Model Evaluation Metrics](#model-evaluation-metrics)\n",
    "- [Evaluating Potential Model Biases with Aequitas Toolkit](#evaluating-potential-model-biases-with-aequitas-toolkit)"
   ]
  },
  {
   "cell_type": "code",
   "execution_count": 1,
   "metadata": {},
   "outputs": [],
   "source": [
    "import student_utils as stu\n",
    "from utils import build_vocab_files, show_group_stats_viz, aggregate_dataset, preprocess_df, df_to_dataset, posterior_mean_field, prior_trainable\n",
    "import os\n",
    "import numpy as np\n",
    "import tensorflow as tf\n",
    "from tensorflow.keras import layers\n",
    "import tensorflow_probability as tfp\n",
    "import matplotlib.pyplot as plt\n",
    "import pandas as pd\n",
    "import aequitas as ae\n",
    "import seaborn as sns\n",
    "sns.set_style('darkgrid')\n",
    "\n",
    "pd.set_option('display.max_columns', 500)\n",
    "\n",
    "%load_ext autoreload\n",
    "%autoreload\n",
    "%matplotlib inline"
   ]
  },
  {
   "cell_type": "code",
   "execution_count": 2,
   "metadata": {},
   "outputs": [],
   "source": [
    "%reload_ext autoreload"
   ]
  },
  {
   "cell_type": "code",
   "execution_count": 3,
   "metadata": {},
   "outputs": [],
   "source": [
    "import os\n",
    "os.environ['KMP_DUPLICATE_LIB_OK']='True'"
   ]
  },
  {
   "cell_type": "markdown",
   "metadata": {},
   "source": [
    "## Data Loading"
   ]
  },
  {
   "cell_type": "markdown",
   "metadata": {},
   "source": [
    "TThe dataset is located at the following path `./data/final_project_dataset.csv`. Also, review the information found in the data schema `./data_schema_references`/ for the EDA."
   ]
  },
  {
   "cell_type": "code",
   "execution_count": 4,
   "metadata": {},
   "outputs": [],
   "source": [
    "dataset_path = \"./data/final_project_dataset.csv\"\n",
    "df = pd.read_csv(dataset_path)"
   ]
  },
  {
   "cell_type": "code",
   "execution_count": 5,
   "metadata": {},
   "outputs": [],
   "source": [
    "# Conver the `payer_code_bin` into binary to distinguish self-pay (SP) from \n",
    "# patients with other paying options.\n",
    "df['payer_code_bin'] = df['payer_code'].apply(lambda x: 1. if x=='SP' else 0.)"
   ]
  },
  {
   "cell_type": "code",
   "execution_count": 6,
   "metadata": {},
   "outputs": [
    {
     "name": "stdout",
     "output_type": "stream",
     "text": [
      "<class 'pandas.core.frame.DataFrame'>\n",
      "RangeIndex: 143424 entries, 0 to 143423\n",
      "Data columns (total 27 columns):\n",
      " #   Column                    Non-Null Count   Dtype  \n",
      "---  ------                    --------------   -----  \n",
      " 0   encounter_id              143424 non-null  int64  \n",
      " 1   patient_nbr               143424 non-null  int64  \n",
      " 2   race                      143424 non-null  object \n",
      " 3   gender                    143424 non-null  object \n",
      " 4   age                       143424 non-null  object \n",
      " 5   weight                    143424 non-null  object \n",
      " 6   admission_type_id         143424 non-null  int64  \n",
      " 7   discharge_disposition_id  143424 non-null  int64  \n",
      " 8   admission_source_id       143424 non-null  int64  \n",
      " 9   time_in_hospital          143424 non-null  int64  \n",
      " 10  payer_code                143424 non-null  object \n",
      " 11  medical_specialty         143424 non-null  object \n",
      " 12  primary_diagnosis_code    143424 non-null  object \n",
      " 13  other_diagnosis_codes     143424 non-null  object \n",
      " 14  number_outpatient         143424 non-null  int64  \n",
      " 15  number_inpatient          143424 non-null  int64  \n",
      " 16  number_emergency          143424 non-null  int64  \n",
      " 17  num_lab_procedures        143424 non-null  int64  \n",
      " 18  number_diagnoses          143424 non-null  int64  \n",
      " 19  num_medications           143424 non-null  int64  \n",
      " 20  num_procedures            143424 non-null  int64  \n",
      " 21  ndc_code                  119962 non-null  object \n",
      " 22  max_glu_serum             143424 non-null  object \n",
      " 23  A1Cresult                 143424 non-null  object \n",
      " 24  change                    143424 non-null  object \n",
      " 25  readmitted                143424 non-null  object \n",
      " 26  payer_code_bin            143424 non-null  float64\n",
      "dtypes: float64(1), int64(13), object(13)\n",
      "memory usage: 29.5+ MB\n"
     ]
    }
   ],
   "source": [
    "df.info()"
   ]
  },
  {
   "cell_type": "code",
   "execution_count": 7,
   "metadata": {},
   "outputs": [
    {
     "data": {
      "text/html": [
       "<div>\n",
       "<style scoped>\n",
       "    .dataframe tbody tr th:only-of-type {\n",
       "        vertical-align: middle;\n",
       "    }\n",
       "\n",
       "    .dataframe tbody tr th {\n",
       "        vertical-align: top;\n",
       "    }\n",
       "\n",
       "    .dataframe thead th {\n",
       "        text-align: right;\n",
       "    }\n",
       "</style>\n",
       "<table border=\"1\" class=\"dataframe\">\n",
       "  <thead>\n",
       "    <tr style=\"text-align: right;\">\n",
       "      <th></th>\n",
       "      <th>encounter_id</th>\n",
       "      <th>patient_nbr</th>\n",
       "      <th>race</th>\n",
       "      <th>gender</th>\n",
       "      <th>age</th>\n",
       "      <th>weight</th>\n",
       "      <th>admission_type_id</th>\n",
       "      <th>discharge_disposition_id</th>\n",
       "      <th>admission_source_id</th>\n",
       "      <th>time_in_hospital</th>\n",
       "      <th>payer_code</th>\n",
       "      <th>medical_specialty</th>\n",
       "      <th>primary_diagnosis_code</th>\n",
       "      <th>other_diagnosis_codes</th>\n",
       "      <th>number_outpatient</th>\n",
       "      <th>number_inpatient</th>\n",
       "      <th>number_emergency</th>\n",
       "      <th>num_lab_procedures</th>\n",
       "      <th>number_diagnoses</th>\n",
       "      <th>num_medications</th>\n",
       "      <th>num_procedures</th>\n",
       "      <th>ndc_code</th>\n",
       "      <th>max_glu_serum</th>\n",
       "      <th>A1Cresult</th>\n",
       "      <th>change</th>\n",
       "      <th>readmitted</th>\n",
       "      <th>payer_code_bin</th>\n",
       "    </tr>\n",
       "  </thead>\n",
       "  <tbody>\n",
       "    <tr>\n",
       "      <th>0</th>\n",
       "      <td>2278392</td>\n",
       "      <td>8222157</td>\n",
       "      <td>Caucasian</td>\n",
       "      <td>Female</td>\n",
       "      <td>[0-10)</td>\n",
       "      <td>?</td>\n",
       "      <td>6</td>\n",
       "      <td>25</td>\n",
       "      <td>1</td>\n",
       "      <td>1</td>\n",
       "      <td>?</td>\n",
       "      <td>Pediatrics-Endocrinology</td>\n",
       "      <td>250.83</td>\n",
       "      <td>?|?</td>\n",
       "      <td>0</td>\n",
       "      <td>0</td>\n",
       "      <td>0</td>\n",
       "      <td>41</td>\n",
       "      <td>1</td>\n",
       "      <td>1</td>\n",
       "      <td>0</td>\n",
       "      <td>NaN</td>\n",
       "      <td>None</td>\n",
       "      <td>None</td>\n",
       "      <td>No</td>\n",
       "      <td>NO</td>\n",
       "      <td>0.0</td>\n",
       "    </tr>\n",
       "    <tr>\n",
       "      <th>1</th>\n",
       "      <td>149190</td>\n",
       "      <td>55629189</td>\n",
       "      <td>Caucasian</td>\n",
       "      <td>Female</td>\n",
       "      <td>[10-20)</td>\n",
       "      <td>?</td>\n",
       "      <td>1</td>\n",
       "      <td>1</td>\n",
       "      <td>7</td>\n",
       "      <td>3</td>\n",
       "      <td>?</td>\n",
       "      <td>?</td>\n",
       "      <td>276</td>\n",
       "      <td>250.01|255</td>\n",
       "      <td>0</td>\n",
       "      <td>0</td>\n",
       "      <td>0</td>\n",
       "      <td>59</td>\n",
       "      <td>9</td>\n",
       "      <td>18</td>\n",
       "      <td>0</td>\n",
       "      <td>68071-1701</td>\n",
       "      <td>None</td>\n",
       "      <td>None</td>\n",
       "      <td>Ch</td>\n",
       "      <td>&gt;30</td>\n",
       "      <td>0.0</td>\n",
       "    </tr>\n",
       "    <tr>\n",
       "      <th>2</th>\n",
       "      <td>64410</td>\n",
       "      <td>86047875</td>\n",
       "      <td>AfricanAmerican</td>\n",
       "      <td>Female</td>\n",
       "      <td>[20-30)</td>\n",
       "      <td>?</td>\n",
       "      <td>1</td>\n",
       "      <td>1</td>\n",
       "      <td>7</td>\n",
       "      <td>2</td>\n",
       "      <td>?</td>\n",
       "      <td>?</td>\n",
       "      <td>648</td>\n",
       "      <td>250|V27</td>\n",
       "      <td>2</td>\n",
       "      <td>1</td>\n",
       "      <td>0</td>\n",
       "      <td>11</td>\n",
       "      <td>6</td>\n",
       "      <td>13</td>\n",
       "      <td>5</td>\n",
       "      <td>0378-1110</td>\n",
       "      <td>None</td>\n",
       "      <td>None</td>\n",
       "      <td>No</td>\n",
       "      <td>NO</td>\n",
       "      <td>0.0</td>\n",
       "    </tr>\n",
       "    <tr>\n",
       "      <th>3</th>\n",
       "      <td>500364</td>\n",
       "      <td>82442376</td>\n",
       "      <td>Caucasian</td>\n",
       "      <td>Male</td>\n",
       "      <td>[30-40)</td>\n",
       "      <td>?</td>\n",
       "      <td>1</td>\n",
       "      <td>1</td>\n",
       "      <td>7</td>\n",
       "      <td>2</td>\n",
       "      <td>?</td>\n",
       "      <td>?</td>\n",
       "      <td>8</td>\n",
       "      <td>250.43|403</td>\n",
       "      <td>0</td>\n",
       "      <td>0</td>\n",
       "      <td>0</td>\n",
       "      <td>44</td>\n",
       "      <td>7</td>\n",
       "      <td>16</td>\n",
       "      <td>1</td>\n",
       "      <td>68071-1701</td>\n",
       "      <td>None</td>\n",
       "      <td>None</td>\n",
       "      <td>Ch</td>\n",
       "      <td>NO</td>\n",
       "      <td>0.0</td>\n",
       "    </tr>\n",
       "    <tr>\n",
       "      <th>4</th>\n",
       "      <td>16680</td>\n",
       "      <td>42519267</td>\n",
       "      <td>Caucasian</td>\n",
       "      <td>Male</td>\n",
       "      <td>[40-50)</td>\n",
       "      <td>?</td>\n",
       "      <td>1</td>\n",
       "      <td>1</td>\n",
       "      <td>7</td>\n",
       "      <td>1</td>\n",
       "      <td>?</td>\n",
       "      <td>?</td>\n",
       "      <td>197</td>\n",
       "      <td>157|250</td>\n",
       "      <td>0</td>\n",
       "      <td>0</td>\n",
       "      <td>0</td>\n",
       "      <td>51</td>\n",
       "      <td>5</td>\n",
       "      <td>8</td>\n",
       "      <td>0</td>\n",
       "      <td>0049-4110</td>\n",
       "      <td>None</td>\n",
       "      <td>None</td>\n",
       "      <td>Ch</td>\n",
       "      <td>NO</td>\n",
       "      <td>0.0</td>\n",
       "    </tr>\n",
       "    <tr>\n",
       "      <th>5</th>\n",
       "      <td>16680</td>\n",
       "      <td>42519267</td>\n",
       "      <td>Caucasian</td>\n",
       "      <td>Male</td>\n",
       "      <td>[40-50)</td>\n",
       "      <td>?</td>\n",
       "      <td>1</td>\n",
       "      <td>1</td>\n",
       "      <td>7</td>\n",
       "      <td>1</td>\n",
       "      <td>?</td>\n",
       "      <td>?</td>\n",
       "      <td>197</td>\n",
       "      <td>157|250</td>\n",
       "      <td>0</td>\n",
       "      <td>0</td>\n",
       "      <td>0</td>\n",
       "      <td>51</td>\n",
       "      <td>5</td>\n",
       "      <td>8</td>\n",
       "      <td>0</td>\n",
       "      <td>68071-1701</td>\n",
       "      <td>None</td>\n",
       "      <td>None</td>\n",
       "      <td>Ch</td>\n",
       "      <td>NO</td>\n",
       "      <td>0.0</td>\n",
       "    </tr>\n",
       "    <tr>\n",
       "      <th>6</th>\n",
       "      <td>35754</td>\n",
       "      <td>82637451</td>\n",
       "      <td>Caucasian</td>\n",
       "      <td>Male</td>\n",
       "      <td>[50-60)</td>\n",
       "      <td>?</td>\n",
       "      <td>2</td>\n",
       "      <td>1</td>\n",
       "      <td>2</td>\n",
       "      <td>3</td>\n",
       "      <td>?</td>\n",
       "      <td>?</td>\n",
       "      <td>414</td>\n",
       "      <td>411|250</td>\n",
       "      <td>0</td>\n",
       "      <td>0</td>\n",
       "      <td>0</td>\n",
       "      <td>31</td>\n",
       "      <td>9</td>\n",
       "      <td>16</td>\n",
       "      <td>6</td>\n",
       "      <td>47918-902</td>\n",
       "      <td>None</td>\n",
       "      <td>None</td>\n",
       "      <td>No</td>\n",
       "      <td>&gt;30</td>\n",
       "      <td>0.0</td>\n",
       "    </tr>\n",
       "    <tr>\n",
       "      <th>7</th>\n",
       "      <td>55842</td>\n",
       "      <td>84259809</td>\n",
       "      <td>Caucasian</td>\n",
       "      <td>Male</td>\n",
       "      <td>[60-70)</td>\n",
       "      <td>?</td>\n",
       "      <td>3</td>\n",
       "      <td>1</td>\n",
       "      <td>2</td>\n",
       "      <td>4</td>\n",
       "      <td>?</td>\n",
       "      <td>?</td>\n",
       "      <td>414</td>\n",
       "      <td>411|V45</td>\n",
       "      <td>0</td>\n",
       "      <td>0</td>\n",
       "      <td>0</td>\n",
       "      <td>70</td>\n",
       "      <td>7</td>\n",
       "      <td>21</td>\n",
       "      <td>1</td>\n",
       "      <td>35208-001</td>\n",
       "      <td>None</td>\n",
       "      <td>None</td>\n",
       "      <td>Ch</td>\n",
       "      <td>NO</td>\n",
       "      <td>0.0</td>\n",
       "    </tr>\n",
       "    <tr>\n",
       "      <th>8</th>\n",
       "      <td>55842</td>\n",
       "      <td>84259809</td>\n",
       "      <td>Caucasian</td>\n",
       "      <td>Male</td>\n",
       "      <td>[60-70)</td>\n",
       "      <td>?</td>\n",
       "      <td>3</td>\n",
       "      <td>1</td>\n",
       "      <td>2</td>\n",
       "      <td>4</td>\n",
       "      <td>?</td>\n",
       "      <td>?</td>\n",
       "      <td>414</td>\n",
       "      <td>411|V45</td>\n",
       "      <td>0</td>\n",
       "      <td>0</td>\n",
       "      <td>0</td>\n",
       "      <td>70</td>\n",
       "      <td>7</td>\n",
       "      <td>21</td>\n",
       "      <td>1</td>\n",
       "      <td>16729-001</td>\n",
       "      <td>None</td>\n",
       "      <td>None</td>\n",
       "      <td>Ch</td>\n",
       "      <td>NO</td>\n",
       "      <td>0.0</td>\n",
       "    </tr>\n",
       "    <tr>\n",
       "      <th>9</th>\n",
       "      <td>55842</td>\n",
       "      <td>84259809</td>\n",
       "      <td>Caucasian</td>\n",
       "      <td>Male</td>\n",
       "      <td>[60-70)</td>\n",
       "      <td>?</td>\n",
       "      <td>3</td>\n",
       "      <td>1</td>\n",
       "      <td>2</td>\n",
       "      <td>4</td>\n",
       "      <td>?</td>\n",
       "      <td>?</td>\n",
       "      <td>414</td>\n",
       "      <td>411|V45</td>\n",
       "      <td>0</td>\n",
       "      <td>0</td>\n",
       "      <td>0</td>\n",
       "      <td>70</td>\n",
       "      <td>7</td>\n",
       "      <td>21</td>\n",
       "      <td>1</td>\n",
       "      <td>47918-891</td>\n",
       "      <td>None</td>\n",
       "      <td>None</td>\n",
       "      <td>Ch</td>\n",
       "      <td>NO</td>\n",
       "      <td>0.0</td>\n",
       "    </tr>\n",
       "    <tr>\n",
       "      <th>10</th>\n",
       "      <td>63768</td>\n",
       "      <td>114882984</td>\n",
       "      <td>Caucasian</td>\n",
       "      <td>Male</td>\n",
       "      <td>[70-80)</td>\n",
       "      <td>?</td>\n",
       "      <td>1</td>\n",
       "      <td>1</td>\n",
       "      <td>7</td>\n",
       "      <td>5</td>\n",
       "      <td>?</td>\n",
       "      <td>?</td>\n",
       "      <td>428</td>\n",
       "      <td>492|250</td>\n",
       "      <td>0</td>\n",
       "      <td>0</td>\n",
       "      <td>0</td>\n",
       "      <td>73</td>\n",
       "      <td>8</td>\n",
       "      <td>12</td>\n",
       "      <td>0</td>\n",
       "      <td>0115-1742</td>\n",
       "      <td>None</td>\n",
       "      <td>None</td>\n",
       "      <td>No</td>\n",
       "      <td>&gt;30</td>\n",
       "      <td>0.0</td>\n",
       "    </tr>\n",
       "    <tr>\n",
       "      <th>11</th>\n",
       "      <td>12522</td>\n",
       "      <td>48330783</td>\n",
       "      <td>Caucasian</td>\n",
       "      <td>Female</td>\n",
       "      <td>[80-90)</td>\n",
       "      <td>?</td>\n",
       "      <td>2</td>\n",
       "      <td>1</td>\n",
       "      <td>4</td>\n",
       "      <td>13</td>\n",
       "      <td>?</td>\n",
       "      <td>?</td>\n",
       "      <td>398</td>\n",
       "      <td>427|38</td>\n",
       "      <td>0</td>\n",
       "      <td>0</td>\n",
       "      <td>0</td>\n",
       "      <td>68</td>\n",
       "      <td>8</td>\n",
       "      <td>28</td>\n",
       "      <td>2</td>\n",
       "      <td>0049-4110</td>\n",
       "      <td>None</td>\n",
       "      <td>None</td>\n",
       "      <td>Ch</td>\n",
       "      <td>NO</td>\n",
       "      <td>0.0</td>\n",
       "    </tr>\n",
       "    <tr>\n",
       "      <th>12</th>\n",
       "      <td>12522</td>\n",
       "      <td>48330783</td>\n",
       "      <td>Caucasian</td>\n",
       "      <td>Female</td>\n",
       "      <td>[80-90)</td>\n",
       "      <td>?</td>\n",
       "      <td>2</td>\n",
       "      <td>1</td>\n",
       "      <td>4</td>\n",
       "      <td>13</td>\n",
       "      <td>?</td>\n",
       "      <td>?</td>\n",
       "      <td>398</td>\n",
       "      <td>427|38</td>\n",
       "      <td>0</td>\n",
       "      <td>0</td>\n",
       "      <td>0</td>\n",
       "      <td>68</td>\n",
       "      <td>8</td>\n",
       "      <td>28</td>\n",
       "      <td>2</td>\n",
       "      <td>47918-902</td>\n",
       "      <td>None</td>\n",
       "      <td>None</td>\n",
       "      <td>Ch</td>\n",
       "      <td>NO</td>\n",
       "      <td>0.0</td>\n",
       "    </tr>\n",
       "    <tr>\n",
       "      <th>13</th>\n",
       "      <td>15738</td>\n",
       "      <td>63555939</td>\n",
       "      <td>Caucasian</td>\n",
       "      <td>Female</td>\n",
       "      <td>[90-100)</td>\n",
       "      <td>?</td>\n",
       "      <td>3</td>\n",
       "      <td>3</td>\n",
       "      <td>4</td>\n",
       "      <td>12</td>\n",
       "      <td>?</td>\n",
       "      <td>InternalMedicine</td>\n",
       "      <td>434</td>\n",
       "      <td>198|486</td>\n",
       "      <td>0</td>\n",
       "      <td>0</td>\n",
       "      <td>0</td>\n",
       "      <td>33</td>\n",
       "      <td>8</td>\n",
       "      <td>18</td>\n",
       "      <td>3</td>\n",
       "      <td>0173-0863</td>\n",
       "      <td>None</td>\n",
       "      <td>None</td>\n",
       "      <td>Ch</td>\n",
       "      <td>NO</td>\n",
       "      <td>0.0</td>\n",
       "    </tr>\n",
       "    <tr>\n",
       "      <th>14</th>\n",
       "      <td>15738</td>\n",
       "      <td>63555939</td>\n",
       "      <td>Caucasian</td>\n",
       "      <td>Female</td>\n",
       "      <td>[90-100)</td>\n",
       "      <td>?</td>\n",
       "      <td>3</td>\n",
       "      <td>3</td>\n",
       "      <td>4</td>\n",
       "      <td>12</td>\n",
       "      <td>?</td>\n",
       "      <td>InternalMedicine</td>\n",
       "      <td>434</td>\n",
       "      <td>198|486</td>\n",
       "      <td>0</td>\n",
       "      <td>0</td>\n",
       "      <td>0</td>\n",
       "      <td>33</td>\n",
       "      <td>8</td>\n",
       "      <td>18</td>\n",
       "      <td>3</td>\n",
       "      <td>68071-1701</td>\n",
       "      <td>None</td>\n",
       "      <td>None</td>\n",
       "      <td>Ch</td>\n",
       "      <td>NO</td>\n",
       "      <td>0.0</td>\n",
       "    </tr>\n",
       "    <tr>\n",
       "      <th>15</th>\n",
       "      <td>28236</td>\n",
       "      <td>89869032</td>\n",
       "      <td>AfricanAmerican</td>\n",
       "      <td>Female</td>\n",
       "      <td>[40-50)</td>\n",
       "      <td>?</td>\n",
       "      <td>1</td>\n",
       "      <td>1</td>\n",
       "      <td>7</td>\n",
       "      <td>9</td>\n",
       "      <td>?</td>\n",
       "      <td>?</td>\n",
       "      <td>250.7</td>\n",
       "      <td>403|996</td>\n",
       "      <td>0</td>\n",
       "      <td>0</td>\n",
       "      <td>0</td>\n",
       "      <td>47</td>\n",
       "      <td>9</td>\n",
       "      <td>17</td>\n",
       "      <td>2</td>\n",
       "      <td>68071-1701</td>\n",
       "      <td>None</td>\n",
       "      <td>None</td>\n",
       "      <td>No</td>\n",
       "      <td>&gt;30</td>\n",
       "      <td>0.0</td>\n",
       "    </tr>\n",
       "    <tr>\n",
       "      <th>16</th>\n",
       "      <td>36900</td>\n",
       "      <td>77391171</td>\n",
       "      <td>AfricanAmerican</td>\n",
       "      <td>Male</td>\n",
       "      <td>[60-70)</td>\n",
       "      <td>?</td>\n",
       "      <td>2</td>\n",
       "      <td>1</td>\n",
       "      <td>4</td>\n",
       "      <td>7</td>\n",
       "      <td>?</td>\n",
       "      <td>?</td>\n",
       "      <td>157</td>\n",
       "      <td>288|197</td>\n",
       "      <td>0</td>\n",
       "      <td>0</td>\n",
       "      <td>0</td>\n",
       "      <td>62</td>\n",
       "      <td>7</td>\n",
       "      <td>11</td>\n",
       "      <td>0</td>\n",
       "      <td>0115-1743</td>\n",
       "      <td>None</td>\n",
       "      <td>None</td>\n",
       "      <td>Ch</td>\n",
       "      <td>&lt;30</td>\n",
       "      <td>0.0</td>\n",
       "    </tr>\n",
       "    <tr>\n",
       "      <th>17</th>\n",
       "      <td>36900</td>\n",
       "      <td>77391171</td>\n",
       "      <td>AfricanAmerican</td>\n",
       "      <td>Male</td>\n",
       "      <td>[60-70)</td>\n",
       "      <td>?</td>\n",
       "      <td>2</td>\n",
       "      <td>1</td>\n",
       "      <td>4</td>\n",
       "      <td>7</td>\n",
       "      <td>?</td>\n",
       "      <td>?</td>\n",
       "      <td>157</td>\n",
       "      <td>288|197</td>\n",
       "      <td>0</td>\n",
       "      <td>0</td>\n",
       "      <td>0</td>\n",
       "      <td>62</td>\n",
       "      <td>7</td>\n",
       "      <td>11</td>\n",
       "      <td>0</td>\n",
       "      <td>50090-0353</td>\n",
       "      <td>None</td>\n",
       "      <td>None</td>\n",
       "      <td>Ch</td>\n",
       "      <td>&lt;30</td>\n",
       "      <td>0.0</td>\n",
       "    </tr>\n",
       "    <tr>\n",
       "      <th>18</th>\n",
       "      <td>40926</td>\n",
       "      <td>85504905</td>\n",
       "      <td>Caucasian</td>\n",
       "      <td>Female</td>\n",
       "      <td>[40-50)</td>\n",
       "      <td>?</td>\n",
       "      <td>1</td>\n",
       "      <td>3</td>\n",
       "      <td>7</td>\n",
       "      <td>7</td>\n",
       "      <td>?</td>\n",
       "      <td>Family/GeneralPractice</td>\n",
       "      <td>428</td>\n",
       "      <td>250.43|250.6</td>\n",
       "      <td>0</td>\n",
       "      <td>0</td>\n",
       "      <td>1</td>\n",
       "      <td>60</td>\n",
       "      <td>8</td>\n",
       "      <td>15</td>\n",
       "      <td>0</td>\n",
       "      <td>0378-7185</td>\n",
       "      <td>None</td>\n",
       "      <td>None</td>\n",
       "      <td>Ch</td>\n",
       "      <td>&lt;30</td>\n",
       "      <td>0.0</td>\n",
       "    </tr>\n",
       "    <tr>\n",
       "      <th>19</th>\n",
       "      <td>40926</td>\n",
       "      <td>85504905</td>\n",
       "      <td>Caucasian</td>\n",
       "      <td>Female</td>\n",
       "      <td>[40-50)</td>\n",
       "      <td>?</td>\n",
       "      <td>1</td>\n",
       "      <td>3</td>\n",
       "      <td>7</td>\n",
       "      <td>7</td>\n",
       "      <td>?</td>\n",
       "      <td>Family/GeneralPractice</td>\n",
       "      <td>428</td>\n",
       "      <td>250.43|250.6</td>\n",
       "      <td>0</td>\n",
       "      <td>0</td>\n",
       "      <td>1</td>\n",
       "      <td>60</td>\n",
       "      <td>8</td>\n",
       "      <td>15</td>\n",
       "      <td>0</td>\n",
       "      <td>60429-484</td>\n",
       "      <td>None</td>\n",
       "      <td>None</td>\n",
       "      <td>Ch</td>\n",
       "      <td>&lt;30</td>\n",
       "      <td>0.0</td>\n",
       "    </tr>\n",
       "  </tbody>\n",
       "</table>\n",
       "</div>"
      ],
      "text/plain": [
       "    encounter_id  patient_nbr             race  gender       age weight  \\\n",
       "0        2278392      8222157        Caucasian  Female    [0-10)      ?   \n",
       "1         149190     55629189        Caucasian  Female   [10-20)      ?   \n",
       "2          64410     86047875  AfricanAmerican  Female   [20-30)      ?   \n",
       "3         500364     82442376        Caucasian    Male   [30-40)      ?   \n",
       "4          16680     42519267        Caucasian    Male   [40-50)      ?   \n",
       "5          16680     42519267        Caucasian    Male   [40-50)      ?   \n",
       "6          35754     82637451        Caucasian    Male   [50-60)      ?   \n",
       "7          55842     84259809        Caucasian    Male   [60-70)      ?   \n",
       "8          55842     84259809        Caucasian    Male   [60-70)      ?   \n",
       "9          55842     84259809        Caucasian    Male   [60-70)      ?   \n",
       "10         63768    114882984        Caucasian    Male   [70-80)      ?   \n",
       "11         12522     48330783        Caucasian  Female   [80-90)      ?   \n",
       "12         12522     48330783        Caucasian  Female   [80-90)      ?   \n",
       "13         15738     63555939        Caucasian  Female  [90-100)      ?   \n",
       "14         15738     63555939        Caucasian  Female  [90-100)      ?   \n",
       "15         28236     89869032  AfricanAmerican  Female   [40-50)      ?   \n",
       "16         36900     77391171  AfricanAmerican    Male   [60-70)      ?   \n",
       "17         36900     77391171  AfricanAmerican    Male   [60-70)      ?   \n",
       "18         40926     85504905        Caucasian  Female   [40-50)      ?   \n",
       "19         40926     85504905        Caucasian  Female   [40-50)      ?   \n",
       "\n",
       "    admission_type_id  discharge_disposition_id  admission_source_id  \\\n",
       "0                   6                        25                    1   \n",
       "1                   1                         1                    7   \n",
       "2                   1                         1                    7   \n",
       "3                   1                         1                    7   \n",
       "4                   1                         1                    7   \n",
       "5                   1                         1                    7   \n",
       "6                   2                         1                    2   \n",
       "7                   3                         1                    2   \n",
       "8                   3                         1                    2   \n",
       "9                   3                         1                    2   \n",
       "10                  1                         1                    7   \n",
       "11                  2                         1                    4   \n",
       "12                  2                         1                    4   \n",
       "13                  3                         3                    4   \n",
       "14                  3                         3                    4   \n",
       "15                  1                         1                    7   \n",
       "16                  2                         1                    4   \n",
       "17                  2                         1                    4   \n",
       "18                  1                         3                    7   \n",
       "19                  1                         3                    7   \n",
       "\n",
       "    time_in_hospital payer_code         medical_specialty  \\\n",
       "0                  1          ?  Pediatrics-Endocrinology   \n",
       "1                  3          ?                         ?   \n",
       "2                  2          ?                         ?   \n",
       "3                  2          ?                         ?   \n",
       "4                  1          ?                         ?   \n",
       "5                  1          ?                         ?   \n",
       "6                  3          ?                         ?   \n",
       "7                  4          ?                         ?   \n",
       "8                  4          ?                         ?   \n",
       "9                  4          ?                         ?   \n",
       "10                 5          ?                         ?   \n",
       "11                13          ?                         ?   \n",
       "12                13          ?                         ?   \n",
       "13                12          ?          InternalMedicine   \n",
       "14                12          ?          InternalMedicine   \n",
       "15                 9          ?                         ?   \n",
       "16                 7          ?                         ?   \n",
       "17                 7          ?                         ?   \n",
       "18                 7          ?    Family/GeneralPractice   \n",
       "19                 7          ?    Family/GeneralPractice   \n",
       "\n",
       "   primary_diagnosis_code other_diagnosis_codes  number_outpatient  \\\n",
       "0                  250.83                   ?|?                  0   \n",
       "1                     276            250.01|255                  0   \n",
       "2                     648               250|V27                  2   \n",
       "3                       8            250.43|403                  0   \n",
       "4                     197               157|250                  0   \n",
       "5                     197               157|250                  0   \n",
       "6                     414               411|250                  0   \n",
       "7                     414               411|V45                  0   \n",
       "8                     414               411|V45                  0   \n",
       "9                     414               411|V45                  0   \n",
       "10                    428               492|250                  0   \n",
       "11                    398                427|38                  0   \n",
       "12                    398                427|38                  0   \n",
       "13                    434               198|486                  0   \n",
       "14                    434               198|486                  0   \n",
       "15                  250.7               403|996                  0   \n",
       "16                    157               288|197                  0   \n",
       "17                    157               288|197                  0   \n",
       "18                    428          250.43|250.6                  0   \n",
       "19                    428          250.43|250.6                  0   \n",
       "\n",
       "    number_inpatient  number_emergency  num_lab_procedures  number_diagnoses  \\\n",
       "0                  0                 0                  41                 1   \n",
       "1                  0                 0                  59                 9   \n",
       "2                  1                 0                  11                 6   \n",
       "3                  0                 0                  44                 7   \n",
       "4                  0                 0                  51                 5   \n",
       "5                  0                 0                  51                 5   \n",
       "6                  0                 0                  31                 9   \n",
       "7                  0                 0                  70                 7   \n",
       "8                  0                 0                  70                 7   \n",
       "9                  0                 0                  70                 7   \n",
       "10                 0                 0                  73                 8   \n",
       "11                 0                 0                  68                 8   \n",
       "12                 0                 0                  68                 8   \n",
       "13                 0                 0                  33                 8   \n",
       "14                 0                 0                  33                 8   \n",
       "15                 0                 0                  47                 9   \n",
       "16                 0                 0                  62                 7   \n",
       "17                 0                 0                  62                 7   \n",
       "18                 0                 1                  60                 8   \n",
       "19                 0                 1                  60                 8   \n",
       "\n",
       "    num_medications  num_procedures    ndc_code max_glu_serum A1Cresult  \\\n",
       "0                 1               0         NaN          None      None   \n",
       "1                18               0  68071-1701          None      None   \n",
       "2                13               5   0378-1110          None      None   \n",
       "3                16               1  68071-1701          None      None   \n",
       "4                 8               0   0049-4110          None      None   \n",
       "5                 8               0  68071-1701          None      None   \n",
       "6                16               6   47918-902          None      None   \n",
       "7                21               1   35208-001          None      None   \n",
       "8                21               1   16729-001          None      None   \n",
       "9                21               1   47918-891          None      None   \n",
       "10               12               0   0115-1742          None      None   \n",
       "11               28               2   0049-4110          None      None   \n",
       "12               28               2   47918-902          None      None   \n",
       "13               18               3   0173-0863          None      None   \n",
       "14               18               3  68071-1701          None      None   \n",
       "15               17               2  68071-1701          None      None   \n",
       "16               11               0   0115-1743          None      None   \n",
       "17               11               0  50090-0353          None      None   \n",
       "18               15               0   0378-7185          None      None   \n",
       "19               15               0   60429-484          None      None   \n",
       "\n",
       "   change readmitted  payer_code_bin  \n",
       "0      No         NO             0.0  \n",
       "1      Ch        >30             0.0  \n",
       "2      No         NO             0.0  \n",
       "3      Ch         NO             0.0  \n",
       "4      Ch         NO             0.0  \n",
       "5      Ch         NO             0.0  \n",
       "6      No        >30             0.0  \n",
       "7      Ch         NO             0.0  \n",
       "8      Ch         NO             0.0  \n",
       "9      Ch         NO             0.0  \n",
       "10     No        >30             0.0  \n",
       "11     Ch         NO             0.0  \n",
       "12     Ch         NO             0.0  \n",
       "13     Ch         NO             0.0  \n",
       "14     Ch         NO             0.0  \n",
       "15     No        >30             0.0  \n",
       "16     Ch        <30             0.0  \n",
       "17     Ch        <30             0.0  \n",
       "18     Ch        <30             0.0  \n",
       "19     Ch        <30             0.0  "
      ]
     },
     "execution_count": 7,
     "metadata": {},
     "output_type": "execute_result"
    }
   ],
   "source": [
    "df.head(20)"
   ]
  },
  {
   "cell_type": "markdown",
   "metadata": {},
   "source": [
    "## Determine Level of EHR"
   ]
  },
  {
   "cell_type": "markdown",
   "metadata": {},
   "source": [
    "**Question 1**: Based off of analysis of the data, what level is this dataset? Is it at the line or encounter level? Are there any key fields besides the encounter_id and patient_nbr fields that we should use to aggregate on? Knowing this information will help inform us what level of aggregation is necessary for future steps and is a step that is often overlooked. "
   ]
  },
  {
   "cell_type": "markdown",
   "metadata": {},
   "source": [
    "Student Response: \n",
    "- EHR dataset could be at the line level because the number of rows is larger than the total amount of unique encounter_ids. \n",
    "- Additional field to aggregate on: `primary_diagnosis_code`"
   ]
  },
  {
   "cell_type": "code",
   "execution_count": 8,
   "metadata": {},
   "outputs": [
    {
     "name": "stdout",
     "output_type": "stream",
     "text": [
      "EHR dataset could be at the line level.\n"
     ]
    }
   ],
   "source": [
    "stu.df_level_test(df)"
   ]
  },
  {
   "cell_type": "markdown",
   "metadata": {},
   "source": [
    "## EDA"
   ]
  },
  {
   "cell_type": "markdown",
   "metadata": {},
   "source": [
    "**Question 2**: Utilizing the library of your choice (recommend Pandas and Seaborn or matplotlib though), perform exploratory data analysis on the dataset. In particular be sure to address the following questions:  \n",
    "    - a. Field(s) with high amount of missing/zero values\n",
    "    - b. Based off the frequency histogram for each numerical field, which numerical field(s) has/have a Gaussian(normal) distribution shape?\n",
    "    - c. Which field(s) have high cardinality and why (HINT: ndc_code is one feature)\n",
    "    - d. Please describe the demographic distributions in the dataset for the age and gender fields.\n",
    "    \n"
   ]
  },
  {
   "cell_type": "markdown",
   "metadata": {},
   "source": [
    "**OPTIONAL**: Use the Tensorflow Data Validation and Analysis library to complete. \n",
    "- The Tensorflow Data Validation and Analysis library(https://www.tensorflow.org/tfx/data_validation/get_started) is a useful tool for analyzing and summarizing dataset statistics. It is especially useful because it can scale to large datasets that do not fit into memory. \n",
    "- Note that there are some bugs that are still being resolved with Chrome v80 and we have moved away from using this for the project. "
   ]
  },
  {
   "cell_type": "markdown",
   "metadata": {},
   "source": [
    "**Student Response**: \n",
    "- a. After checking the unique values and their amount in each column and comparing with other values in the column, I found three labels that may indicate a missing/outlier value: `[?, Unknown/Invalid]`. These values may result from missing (completely) at random. For the sake of simplicity, I replaced data in this missing value list with `np.nan`. And based on the null value counts, `Weight`, `medical_specialty`, `payer_code`, and `ndc_code` have more than 20,000 missing values.  \n",
    "- b. Based on the distribution plots, `num_medications` has a normal distribution. \n",
    "- c. Top 3 fields with high cardinality:\n",
    "    * other_diagnosis_codes (19373)\n",
    "    * primary_diagnosis_code (716)\n",
    "    * ndc_code (251)\n",
    "- d. Demographic distributions in the dataset:\n",
    "    * Race: Caucasian (107,688) is the largest population within the dataset, which is follwed by African American (26427), and Hispanic (2938). Asian (888) is the smallest specified ethinic group represented in the dataset. The dataset consists of 888 records, whose race group is not identified. There are 3309 records with an invalid race entry. The dataset is heavily concentrated on Caucasian population. \n",
    "    * Age: The majority of the dataset are between 40-year-old to 90-year-old. Age group between 70-80 years' old is the most represented one in the dataset. The dataset focus on older people rather than middle ages or the youths. \n",
    "    * Gender: The gender ratio is about 1:1 (female to male), with relatively more female patients. There are 5 records that are associated with unknown/invalid gender information. This dataset represents female and male population quite comparably. "
   ]
  },
  {
   "cell_type": "code",
   "execution_count": 9,
   "metadata": {
    "scrolled": true
   },
   "outputs": [
    {
     "name": "stdout",
     "output_type": "stream",
     "text": [
      "encounter_id consists the following unique values\n",
      "[  2278392    149190     64410 ... 443854148 443857166 443867222]\n",
      "\n",
      "patient_nbr consists the following unique values\n",
      "[  8222157  55629189  86047875 ... 140199494 120975314 175429310]\n",
      "\n",
      "race consists the following unique values\n",
      "['Caucasian' 'AfricanAmerican' '?' 'Other' 'Asian' 'Hispanic']\n",
      "\n",
      "gender consists the following unique values\n",
      "['Female' 'Male' 'Unknown/Invalid']\n",
      "\n",
      "age consists the following unique values\n",
      "['[0-10)' '[10-20)' '[20-30)' '[30-40)' '[40-50)' '[50-60)' '[60-70)'\n",
      " '[70-80)' '[80-90)' '[90-100)']\n",
      "\n",
      "weight consists the following unique values\n",
      "['?' '[75-100)' '[50-75)' '[0-25)' '[100-125)' '[25-50)' '[125-150)'\n",
      " '[175-200)' '[150-175)' '>200']\n",
      "\n",
      "admission_type_id consists the following unique values\n",
      "[6 1 2 3 4 5 8 7]\n",
      "\n",
      "discharge_disposition_id consists the following unique values\n",
      "[25  1  3  6  2  5 11  7 10  4 14 18  8 13 12 16 17 22 23  9 20 15 24 28\n",
      " 19 27]\n",
      "\n",
      "admission_source_id consists the following unique values\n",
      "[ 1  7  2  4  5  6 20  3 17  8  9 14 10 22 11 25 13]\n",
      "\n",
      "time_in_hospital consists the following unique values\n",
      "[ 1  3  2  4  5 13 12  9  7 10  6 11  8 14]\n",
      "\n",
      "payer_code consists the following unique values\n",
      "['?' 'MC' 'MD' 'HM' 'UN' 'BC' 'SP' 'CP' 'SI' 'DM' 'CM' 'CH' 'PO' 'WC' 'OT'\n",
      " 'OG' 'MP' 'FR']\n",
      "\n",
      "medical_specialty consists the following unique values\n",
      "['Pediatrics-Endocrinology' '?' 'InternalMedicine'\n",
      " 'Family/GeneralPractice' 'Cardiology' 'Surgery-General' 'Orthopedics'\n",
      " 'Gastroenterology' 'Surgery-Cardiovascular/Thoracic' 'Nephrology'\n",
      " 'Orthopedics-Reconstructive' 'Psychiatry' 'Emergency/Trauma'\n",
      " 'Pulmonology' 'Surgery-Neuro' 'Obsterics&Gynecology-GynecologicOnco'\n",
      " 'ObstetricsandGynecology' 'Pediatrics' 'Hematology/Oncology'\n",
      " 'Otolaryngology' 'Surgery-Colon&Rectal' 'Pediatrics-CriticalCare'\n",
      " 'Endocrinology' 'Urology' 'Psychiatry-Child/Adolescent'\n",
      " 'Pediatrics-Pulmonology' 'Neurology' 'Anesthesiology-Pediatric'\n",
      " 'Radiology' 'Pediatrics-Hematology-Oncology' 'Psychology' 'Podiatry'\n",
      " 'Gynecology' 'Oncology' 'Pediatrics-Neurology' 'Surgery-Plastic'\n",
      " 'Surgery-Thoracic' 'Surgery-PlasticwithinHeadandNeck' 'Ophthalmology'\n",
      " 'Surgery-Pediatric' 'Pediatrics-EmergencyMedicine'\n",
      " 'PhysicalMedicineandRehabilitation' 'InfectiousDiseases' 'Anesthesiology'\n",
      " 'Rheumatology' 'AllergyandImmunology' 'Surgery-Maxillofacial'\n",
      " 'Pediatrics-InfectiousDiseases' 'Pediatrics-AllergyandImmunology'\n",
      " 'Dentistry' 'Surgeon' 'Surgery-Vascular' 'Osteopath'\n",
      " 'Psychiatry-Addictive' 'Surgery-Cardiovascular' 'PhysicianNotFound'\n",
      " 'Hematology' 'Proctology' 'Obstetrics' 'SurgicalSpecialty' 'Radiologist'\n",
      " 'Pathology' 'Dermatology' 'SportsMedicine' 'Speech' 'Hospitalist'\n",
      " 'OutreachServices' 'Cardiology-Pediatric' 'Perinatology'\n",
      " 'Neurophysiology' 'Endocrinology-Metabolism' 'DCPTEAM' 'Resident']\n",
      "\n",
      "primary_diagnosis_code consists the following unique values\n",
      "['250.83' '276' '648' '8' '197' '414' '428' '398' '434' '250.7' '157'\n",
      " '518' '999' '410' '682' '402' '737' '572' 'V57' '189' '786' '427' '996'\n",
      " '277' '584' '462' '473' '411' '174' '486' '998' '511' '432' '626' '295'\n",
      " '196' '250.6' '618' '182' '845' '423' '808' '250.4' '722' '403' '250.11'\n",
      " '784' '707' '440' '151' '715' '997' '198' '564' '812' '38' '590' '556'\n",
      " '578' '250.32' '433' 'V58' '569' '185' '536' '255' '250.13' '599' '558'\n",
      " '574' '491' '560' '244' '250.03' '577' '730' '188' '824' '250.8' '332'\n",
      " '562' '291' '296' '510' '401' '263' '438' '70' '250.02' '493' '642' '625'\n",
      " '571' '738' '593' '250.42' '807' '456' '446' '575' '250.41' '820' '515'\n",
      " '780' '250.22' '995' '235' '250.82' '721' '787' '162' '724' '282' '514'\n",
      " 'V55' '281' '250.33' '530' '466' '435' '250.12' 'V53' '789' '566' '822'\n",
      " '191' '557' '733' '455' '711' '482' '202' '280' '553' '225' '154' '441'\n",
      " '250.81' '349' '?' '962' '592' '507' '386' '156' '200' '728' '348' '459'\n",
      " '426' '388' '607' '337' '82' '531' '596' '288' '656' '573' '492' '220'\n",
      " '516' '210' '922' '286' '885' '958' '661' '969' '250.93' '227' '112'\n",
      " '404' '823' '532' '416' '346' '535' '453' '250' '595' '211' '303'\n",
      " '250.01' '852' '218' '782' '540' '457' '285' '431' '340' '550' '54' '351'\n",
      " '601' '723' '555' '153' '443' '380' '204' '424' '241' '358' '694' '331'\n",
      " '345' '681' '447' '290' '158' '579' '436' '335' '309' '654' '805' '799'\n",
      " '292' '183' '78' '851' '458' '586' '311' '892' '305' '293' '415' '591'\n",
      " '794' '803' '79' '655' '429' '278' '658' '598' '729' '585' '444' '604'\n",
      " '727' '214' '552' '284' '680' '708' '41' '644' '481' '821' '413' '437'\n",
      " '968' '756' '632' '359' '275' '512' '781' '420' '368' '522' '294' '825'\n",
      " '135' '304' '320' '250.31' '669' '868' '496' '250.43' '826' '567' '3'\n",
      " '203' '53' '251' '565' '161' '495' '49' '250.1' '297' '663' '576' '355'\n",
      " '850' '287' '250.2' '611' '840' '350' '726' '537' '620' '180' '366' '783'\n",
      " '11' '751' '716' '250.3' '199' '464' '580' '836' '664' '283' '813' '966'\n",
      " '289' '965' '184' '480' '608' '333' '972' '212' '117' '788' '924' '959'\n",
      " '621' '238' '785' '714' '942' '250.23' '710' '47' '933' '508' '478' '844'\n",
      " '7' '736' '233' '42' '250.5' '397' '395' '201' '421' '253' '250.92' '600'\n",
      " '494' '977' '39' '659' '312' '614' '647' '652' '646' '274' '861' '425'\n",
      " '527' '451' '485' '217' '250.53' '442' '970' '193' '160' '322' '581'\n",
      " '475' '623' '374' '582' '568' '465' '801' '237' '376' '150' '461' '913'\n",
      " '226' '617' '987' '641' '298' '790' '336' '362' '228' '513' '383' '746'\n",
      " '353' '911' '506' '873' '155' '860' '534' '802' '141' 'V45' '396' '310'\n",
      " '341' '242' '719' '239' '533' '616' '519' '301' 'V66' '5' '989' '230'\n",
      " '385' '300' '853' '871' '570' '848' '463' '9' '934' '250.21' '236' '361'\n",
      " '594' '501' '810' '643' '430' '528' '205' '791' '983' '992' '490' '172'\n",
      " '171' '622' '306' '863' '864' '474' '660' '759' '356' '634' '967' '551'\n",
      " '695' '187' '732' '747' '323' '308' '370' '252' '152' '846' '164' '365'\n",
      " '718' '48' '266' '720' '94' '344' '797' '170' '878' '904' 'V56' '882'\n",
      " '843' '709' '973' '454' '686' '939' '487' '229' '991' '483' '357' '692'\n",
      " '796' '693' '935' '936' '800' '920' 'V26' '261' '307' '262' '250.9' '831'\n",
      " '145' '223' 'V71' '839' '685' 'V54' '35' '34' '179' '964' '136' '324'\n",
      " '389' '815' '334' '143' '526' '588' '192' 'V67' '394' '917' '88' '219'\n",
      " '325' '792' '717' '994' '990' '793' '207' '637' '195' '373' '847' '827'\n",
      " '31' '891' '814' 'V60' '703' '865' '352' '627' '378' '342' '886' '369'\n",
      " '745' '705' '816' '541' '986' '610' '633' '640' '753' '173' '835' '379'\n",
      " '445' '272' '382' '945' '619' '881' '250.52' '866' '405' '916' '215'\n",
      " '893' '75' '671' '928' '906' '897' '725' '867' '115' '890' '734' '521'\n",
      " '674' '470' '834' '146' '696' '524' '980' '691' '384' '142' '879'\n",
      " '250.51' '246' '208' '448' '955' '653' '149' '245' '735' '883' '854'\n",
      " '952' '838' '194' 'V43' '163' '216' '147' '354' '27' '477' '318' '880'\n",
      " '921' '377' '471' '683' '175' '602' '250.91' '982' '706' '375' '417'\n",
      " '131' '347' '870' '148' '862' '61' '817' '914' '360' '684' '314' 'V63'\n",
      " '36' '57' '240' '915' '971' '795' '988' '452' '963' '327' '731' '842'\n",
      " 'V25' '645' '665' '110' '944' '603' '923' '412' '363' '957' '976' '698'\n",
      " '299' '700' '273' '974' '97' '529' '66' '98' '605' '941' '52' '806' '84'\n",
      " '271' '837' '657' '895' '338' '523' '542' '114' '543' '372' 'V70' 'E909'\n",
      " '583' 'V07' '422' '615' '279' '500' '903' '919' '875' '381' '804' '704'\n",
      " '23' '58' '649' '832' '133' '975' '833' '391' '690' '10' 'V51']\n",
      "\n",
      "other_diagnosis_codes consists the following unique values\n",
      "['?|?' '250.01|255' '250|V27' ... '438|412' '291|458' '590|296']\n",
      "\n",
      "number_outpatient consists the following unique values\n",
      "[ 0  2  1  5  7  9  3  8  4 12 11  6 20 15 10 13 14 16 21 35 17 29 36 18\n",
      " 19 27 22 24 42 39 34 26 33 25 23 28 37 38 40]\n",
      "\n",
      "number_inpatient consists the following unique values\n",
      "[ 0  1  2  3  6  5  4  7  8  9 15 10 11 14 12 13 17 16 21 18 19]\n",
      "\n",
      "number_emergency consists the following unique values\n",
      "[ 0  1  2  4  3  9  5  7  6  8 22 25 10 13 42 16 11 28 15 14 18 12 21 20\n",
      " 19 46 76 37 64 63 54 24 29]\n",
      "\n",
      "num_lab_procedures consists the following unique values\n",
      "[ 41  59  11  44  51  31  70  73  68  33  47  62  60  55  49  75  45  29\n",
      "  35  42  66  36  19  64  25  53  52  87  27  37  46  28  48  72  10   2\n",
      "  65  67  40  54  58  57  43  32  83  34  39  69  38  56  22  96  78  61\n",
      "  88  50   1  18  82   9  63  24  71  77  81  76  90  93   3 103  13  80\n",
      "  85  16  15  12  30  23  17  21  79  26   5  95  97  84  14  74 105  86\n",
      "  98  20   6  94   8 102 100   7  89  91  92   4 101  99 114 113 111 129\n",
      " 107 108 106 104 109 120 132 121 126 118]\n",
      "\n",
      "number_diagnoses consists the following unique values\n",
      "[ 1  9  6  7  5  8  3  4  2 16 12 13 15 10 11 14]\n",
      "\n",
      "num_medications consists the following unique values\n",
      "[ 1 18 13 16  8 21 12 28 17 11 15 31  2 23 19  7 20 14 10 22  9 27 25  4\n",
      " 32  6 30 26 24 33  5 39  3 29 61 40 46 41 36 34 35 50 43 42 37 51 38 45\n",
      " 54 52 49 62 55 47 44 53 48 57 59 56 60 63 58 70 67 64 69 65 68 66 81 79\n",
      " 75 72 74]\n",
      "\n",
      "num_procedures consists the following unique values\n",
      "[0 5 1 6 2 3 4]\n",
      "\n",
      "ndc_code consists the following unique values\n",
      "[nan '68071-1701' '0378-1110' '0049-4110' '47918-902' '35208-001'\n",
      " '16729-001' '47918-891' '0115-1742' '0173-0863' '0115-1743' '50090-0353'\n",
      " '0378-7185' '60429-484' '47918-880' '0049-0178' '0009-3449' '0093-8342'\n",
      " '0087-6063' '42571-103' '42385-904' '0378-7187' '42291-605' '0093-9477'\n",
      " '0054-0142' '47918-898' '0173-0861' '0591-0460' '12634-756' '0143-9920'\n",
      " '0591-2719' '0093-8343' '24658-790' '0378-4012' '10631-019' '42571-104'\n",
      " '42291-607' '0591-0461' '29033-031' '42291-559' '0093-7212' '0378-0215'\n",
      " '33342-240' '0087-6060' '65862-671' '25000-134' '33261-961' '0049-4120'\n",
      " '54458-967' '35208-002' '0378-1105' '12634-757' '0143-9919' '0093-8036'\n",
      " '33342-143' '0049-0174' '53217-323' '0093-9364' '50090-1526' '65862-670'\n",
      " '0169-0081' '42291-131' '0009-0352' '0009-0341' '0093-7267' '16714-938'\n",
      " '23155-103' '10631-206' '42291-583' '0615-7982' '0615-8015' '43063-698'\n",
      " '33261-157' '0093-8034' '0087-6070' '25000-131' '51079-425' '42708-083'\n",
      " '50268-359' '0904-6689' '55111-321' '50090-1987' '0115-1744' '0378-4013'\n",
      " '50268-360' '42291-558' '33342-239' '0378-0217' '33342-141' '0378-0318'\n",
      " '0781-5422' '23155-102' '42291-582' '42385-903' '12634-789' '35356-886'\n",
      " '16729-003' '53217-320' '0615-8289' '54458-966' '0591-2720' '24658-791'\n",
      " '0904-6328' '10631-238' '0093-7254' '57664-747' '55111-320' '0378-0048'\n",
      " '23155-149' '33342-142' '51079-426' '24724-016' '42291-610' '0169-0082'\n",
      " '42708-009' '25000-101' '0378-0228' '43063-630' '42571-101' '0781-5634'\n",
      " '50090-3172' '23155-147' '0781-5420' '0143-9918' '43063-121' '43063-946'\n",
      " '0904-6691' '0093-7272' '0039-0221' '0093-8344' '0574-0242' '57664-745'\n",
      " '42385-902' '0185-4416' '50436-7073' '43547-396' '43547-395' '0378-7186'\n",
      " '24658-792' '0093-7255' '16729-002' '29033-032' '0904-6326' '65862-672'\n",
      " '0904-6690' '23155-104' '43063-697' '0054-0141' '50090-3547' '0781-5421'\n",
      " '51991-855' '0781-5503' '51655-103' '0039-0222' '0093-7256' '0169-0084'\n",
      " '0087-6064' '0378-0551' '0087-6071' '33261-372' '0039-0223' '42291-132'\n",
      " '53217-250' '0093-9433' '57237-158' '43063-587' '60429-486' '60846-884'\n",
      " '51655-381' '0054-0140' '16714-939' '53217-285' '0093-7273' '23155-233'\n",
      " '51991-853' '24724-014' '50090-2485' '42291-606' '25000-132' '25000-102'\n",
      " '42291-611' '0591-2412' '42571-102' '0093-8035' '24724-015' '60429-435'\n",
      " '0093-7271' '33261-831' '50090-2486' '68084-954' '68084-458' '33261-145'\n",
      " '0049-0170' '0228-2751' '0378-4011' '23155-235' '0591-3355' '75834-205'\n",
      " '0078-0351' '42291-637' '23155-148' '42291-130' '55111-329' '70771-1015'\n",
      " '0228-2753' '57237-159' '42571-100' '52536-067' '0591-3354' '0009-5013'\n",
      " '0574-0240' '68084-459' '51655-120' '55111-328' '57664-686' '71209-031'\n",
      " '70771-1016' '68382-721' '71209-030' '42291-636' '0574-0241' '57237-157'\n",
      " '49884-985' '33261-892' '50268-358' '43547-394' '52536-063' '60429-434'\n",
      " '23155-234' '57664-684' '68382-722' '76333-126' '60846-882' '0591-2411'\n",
      " '57664-685' '0093-7456' '0009-5014' '42291-305' '42571-105' '76333-127'\n",
      " '51991-854' '0093-7457' '0228-2752' '0093-7455' '60429-485' '23155-115'\n",
      " '0179-0205' '49884-984' '64764-302' '0781-5635' '33342-177' '43063-699']\n",
      "\n",
      "max_glu_serum consists the following unique values\n",
      "['None' '>300' 'Norm' '>200']\n",
      "\n",
      "A1Cresult consists the following unique values\n",
      "['None' '>7' '>8' 'Norm']\n",
      "\n",
      "change consists the following unique values\n",
      "['No' 'Ch']\n",
      "\n",
      "readmitted consists the following unique values\n",
      "['NO' '>30' '<30']\n",
      "\n",
      "payer_code_bin consists the following unique values\n",
      "[0. 1.]\n",
      "\n"
     ]
    }
   ],
   "source": [
    "# Check unique values in each column\n",
    "for col in df.columns:\n",
    "    print('{} consists the following unique values\\n{}\\n'.format(\n",
    "        col, df[col].unique()))\n"
   ]
  },
  {
   "cell_type": "code",
   "execution_count": 10,
   "metadata": {},
   "outputs": [],
   "source": [
    "missing_vals_list = ['?', '?|?', 'Unknown/Invalid']\n",
    "\n",
    "\n",
    "def rm_missingval(df, missing_vals_list=missing_vals_list):\n",
    "    dfm = df.copy()\n",
    "    dfm = dfm.replace(missing_vals_list, np.nan)\n",
    "    dfm.head()\n",
    "    return dfm\n",
    "\n",
    "\n",
    "dfm = rm_missingval(df)\n"
   ]
  },
  {
   "cell_type": "code",
   "execution_count": 11,
   "metadata": {
    "scrolled": false
   },
   "outputs": [
    {
     "data": {
      "text/plain": [
       "weight                      139122\n",
       "medical_specialty            69463\n",
       "payer_code                   54190\n",
       "ndc_code                     23462\n",
       "race                          3309\n",
       "other_diagnosis_codes          340\n",
       "primary_diagnosis_code          33\n",
       "gender                           5\n",
       "patient_nbr                      0\n",
       "age                              0\n",
       "admission_type_id                0\n",
       "discharge_disposition_id         0\n",
       "admission_source_id              0\n",
       "time_in_hospital                 0\n",
       "payer_code_bin                   0\n",
       "readmitted                       0\n",
       "number_outpatient                0\n",
       "number_inpatient                 0\n",
       "number_emergency                 0\n",
       "num_lab_procedures               0\n",
       "number_diagnoses                 0\n",
       "num_medications                  0\n",
       "num_procedures                   0\n",
       "max_glu_serum                    0\n",
       "A1Cresult                        0\n",
       "change                           0\n",
       "encounter_id                     0\n",
       "dtype: int64"
      ]
     },
     "execution_count": 11,
     "metadata": {},
     "output_type": "execute_result"
    }
   ],
   "source": [
    "dfm.isnull().sum().sort_values(ascending=False)"
   ]
  },
  {
   "cell_type": "code",
   "execution_count": 12,
   "metadata": {},
   "outputs": [
    {
     "data": {
      "image/png": "[encoded data removed]",
      "text/plain": [
       "<Figure size 1080x1080 with 12 Axes>"
      ]
     },
     "metadata": {
      "needs_background": "light"
     },
     "output_type": "display_data"
    }
   ],
   "source": [
    "dfm_copy = dfm.copy()\n",
    "del dfm_copy['encounter_id']\n",
    "stu.num_col_dist(dfm_copy)"
   ]
  },
  {
   "cell_type": "code",
   "execution_count": 13,
   "metadata": {},
   "outputs": [
    {
     "data": {
      "text/html": [
       "<div>\n",
       "<style scoped>\n",
       "    .dataframe tbody tr th:only-of-type {\n",
       "        vertical-align: middle;\n",
       "    }\n",
       "\n",
       "    .dataframe tbody tr th {\n",
       "        vertical-align: top;\n",
       "    }\n",
       "\n",
       "    .dataframe thead th {\n",
       "        text-align: right;\n",
       "    }\n",
       "</style>\n",
       "<table border=\"1\" class=\"dataframe\">\n",
       "  <thead>\n",
       "    <tr style=\"text-align: right;\">\n",
       "      <th></th>\n",
       "      <th>col_name</th>\n",
       "      <th>num_unique</th>\n",
       "    </tr>\n",
       "  </thead>\n",
       "  <tbody>\n",
       "    <tr>\n",
       "      <th>9</th>\n",
       "      <td>other_diagnosis_codes</td>\n",
       "      <td>19373</td>\n",
       "    </tr>\n",
       "    <tr>\n",
       "      <th>8</th>\n",
       "      <td>primary_diagnosis_code</td>\n",
       "      <td>716</td>\n",
       "    </tr>\n",
       "    <tr>\n",
       "      <th>10</th>\n",
       "      <td>ndc_code</td>\n",
       "      <td>251</td>\n",
       "    </tr>\n",
       "    <tr>\n",
       "      <th>7</th>\n",
       "      <td>medical_specialty</td>\n",
       "      <td>72</td>\n",
       "    </tr>\n",
       "    <tr>\n",
       "      <th>4</th>\n",
       "      <td>discharge_disposition_id</td>\n",
       "      <td>26</td>\n",
       "    </tr>\n",
       "  </tbody>\n",
       "</table>\n",
       "</div>"
      ],
      "text/plain": [
       "                    col_name  num_unique\n",
       "9      other_diagnosis_codes       19373\n",
       "8     primary_diagnosis_code         716\n",
       "10                  ndc_code         251\n",
       "7          medical_specialty          72\n",
       "4   discharge_disposition_id          26"
      ]
     },
     "execution_count": 13,
     "metadata": {},
     "output_type": "execute_result"
    }
   ],
   "source": [
    "stu.cardinality_count(dfm, top=5)"
   ]
  },
  {
   "cell_type": "code",
   "execution_count": 14,
   "metadata": {},
   "outputs": [
    {
     "data": {
      "image/png": "[encoded data removed]",
      "text/plain": [
       "<Figure size 1080x576 with 2 Axes>"
      ]
     },
     "metadata": {
      "needs_background": "light"
     },
     "output_type": "display_data"
    }
   ],
   "source": [
    "demographics = ['race', 'age']\n",
    "stu.demo_plot(dfm, keys=demographics, rotation=45, save_fig=False)"
   ]
  },
  {
   "cell_type": "code",
   "execution_count": 15,
   "metadata": {},
   "outputs": [
    {
     "data": {
      "text/plain": [
       "Caucasian          107688\n",
       "AfricanAmerican     26427\n",
       "?                    3309\n",
       "Hispanic             2938\n",
       "Other                2174\n",
       "Asian                 888\n",
       "Name: race, dtype: int64"
      ]
     },
     "execution_count": 15,
     "metadata": {},
     "output_type": "execute_result"
    }
   ],
   "source": [
    "df['race'].value_counts()"
   ]
  },
  {
   "cell_type": "code",
   "execution_count": 16,
   "metadata": {},
   "outputs": [
    {
     "data": {
      "text/plain": [
       "[70-80)     36928\n",
       "[60-70)     32741\n",
       "[50-60)     25095\n",
       "[80-90)     23527\n",
       "[40-50)     13729\n",
       "[30-40)      4964\n",
       "[90-100)     3619\n",
       "[20-30)      1927\n",
       "[10-20)       733\n",
       "[0-10)        161\n",
       "Name: age, dtype: int64"
      ]
     },
     "execution_count": 16,
     "metadata": {},
     "output_type": "execute_result"
    }
   ],
   "source": [
    "df['age'].value_counts()"
   ]
  },
  {
   "cell_type": "code",
   "execution_count": 17,
   "metadata": {},
   "outputs": [
    {
     "data": {
      "text/plain": [
       "Female             76185\n",
       "Male               67234\n",
       "Unknown/Invalid        5\n",
       "Name: gender, dtype: int64"
      ]
     },
     "execution_count": 17,
     "metadata": {},
     "output_type": "execute_result"
    }
   ],
   "source": [
    "df['gender'].value_counts()"
   ]
  },
  {
   "cell_type": "code",
   "execution_count": 18,
   "metadata": {},
   "outputs": [],
   "source": [
    "\n",
    "# full_data_stats = tfdv.generate_statistics_from_csv(\n",
    "#     data_location='./data/final_project_dataset.csv')\n",
    "# tfdv.visualize_statistics(full_data_stats)\n"
   ]
  },
  {
   "cell_type": "markdown",
   "metadata": {},
   "source": [
    "## Reduce Dimensionality of the NDC Code Feature"
   ]
  },
  {
   "cell_type": "markdown",
   "metadata": {},
   "source": [
    "**Question 3**: NDC codes are a common format to represent the wide variety of drugs that are prescribed for patient care in the United States. The challenge is that there are many codes that map to the same or similar drug. You are provided with the ndc drug lookup file `./data_schema_references/ndc_lookup_table.csv` derived from the National Drug Codes List site(https://ndclist.com/). Please use this file to come up with a way to reduce the dimensionality of this field and create a new field in the dataset called \"generic_drug_name\" in the output dataframe. "
   ]
  },
  {
   "cell_type": "code",
   "execution_count": 19,
   "metadata": {},
   "outputs": [
    {
     "data": {
      "text/html": [
       "<div>\n",
       "<style scoped>\n",
       "    .dataframe tbody tr th:only-of-type {\n",
       "        vertical-align: middle;\n",
       "    }\n",
       "\n",
       "    .dataframe tbody tr th {\n",
       "        vertical-align: top;\n",
       "    }\n",
       "\n",
       "    .dataframe thead th {\n",
       "        text-align: right;\n",
       "    }\n",
       "</style>\n",
       "<table border=\"1\" class=\"dataframe\">\n",
       "  <thead>\n",
       "    <tr style=\"text-align: right;\">\n",
       "      <th></th>\n",
       "      <th>NDC_Code</th>\n",
       "      <th>Proprietary Name</th>\n",
       "      <th>Non-proprietary Name</th>\n",
       "      <th>Dosage Form</th>\n",
       "      <th>Route Name</th>\n",
       "      <th>Company Name</th>\n",
       "      <th>Product Type</th>\n",
       "    </tr>\n",
       "  </thead>\n",
       "  <tbody>\n",
       "    <tr>\n",
       "      <th>0</th>\n",
       "      <td>0087-6060</td>\n",
       "      <td>Glucophage</td>\n",
       "      <td>Metformin Hydrochloride</td>\n",
       "      <td>Tablet, Film Coated</td>\n",
       "      <td>Oral</td>\n",
       "      <td>Bristol-myers Squibb Company</td>\n",
       "      <td>Human Prescription Drug</td>\n",
       "    </tr>\n",
       "    <tr>\n",
       "      <th>1</th>\n",
       "      <td>0087-6063</td>\n",
       "      <td>Glucophage XR</td>\n",
       "      <td>Metformin Hydrochloride</td>\n",
       "      <td>Tablet, Extended Release</td>\n",
       "      <td>Oral</td>\n",
       "      <td>Bristol-myers Squibb Company</td>\n",
       "      <td>Human Prescription Drug</td>\n",
       "    </tr>\n",
       "    <tr>\n",
       "      <th>2</th>\n",
       "      <td>0087-6064</td>\n",
       "      <td>Glucophage XR</td>\n",
       "      <td>Metformin Hydrochloride</td>\n",
       "      <td>Tablet, Extended Release</td>\n",
       "      <td>Oral</td>\n",
       "      <td>Bristol-myers Squibb Company</td>\n",
       "      <td>Human Prescription Drug</td>\n",
       "    </tr>\n",
       "    <tr>\n",
       "      <th>3</th>\n",
       "      <td>0087-6070</td>\n",
       "      <td>Glucophage</td>\n",
       "      <td>Metformin Hydrochloride</td>\n",
       "      <td>Tablet, Film Coated</td>\n",
       "      <td>Oral</td>\n",
       "      <td>Bristol-myers Squibb Company</td>\n",
       "      <td>Human Prescription Drug</td>\n",
       "    </tr>\n",
       "    <tr>\n",
       "      <th>4</th>\n",
       "      <td>0087-6071</td>\n",
       "      <td>Glucophage</td>\n",
       "      <td>Metformin Hydrochloride</td>\n",
       "      <td>Tablet, Film Coated</td>\n",
       "      <td>Oral</td>\n",
       "      <td>Bristol-myers Squibb Company</td>\n",
       "      <td>Human Prescription Drug</td>\n",
       "    </tr>\n",
       "  </tbody>\n",
       "</table>\n",
       "</div>"
      ],
      "text/plain": [
       "    NDC_Code Proprietary Name     Non-proprietary Name  \\\n",
       "0  0087-6060       Glucophage  Metformin Hydrochloride   \n",
       "1  0087-6063    Glucophage XR  Metformin Hydrochloride   \n",
       "2  0087-6064    Glucophage XR  Metformin Hydrochloride   \n",
       "3  0087-6070       Glucophage  Metformin Hydrochloride   \n",
       "4  0087-6071       Glucophage  Metformin Hydrochloride   \n",
       "\n",
       "                Dosage Form Route Name                  Company Name  \\\n",
       "0       Tablet, Film Coated       Oral  Bristol-myers Squibb Company   \n",
       "1  Tablet, Extended Release       Oral  Bristol-myers Squibb Company   \n",
       "2  Tablet, Extended Release       Oral  Bristol-myers Squibb Company   \n",
       "3       Tablet, Film Coated       Oral  Bristol-myers Squibb Company   \n",
       "4       Tablet, Film Coated       Oral  Bristol-myers Squibb Company   \n",
       "\n",
       "              Product Type  \n",
       "0  Human Prescription Drug  \n",
       "1  Human Prescription Drug  \n",
       "2  Human Prescription Drug  \n",
       "3  Human Prescription Drug  \n",
       "4  Human Prescription Drug  "
      ]
     },
     "execution_count": 19,
     "metadata": {},
     "output_type": "execute_result"
    }
   ],
   "source": [
    "#NDC code lookup file\n",
    "ndc_code_path = \"./medication_lookup_tables/final_ndc_lookup_table\"\n",
    "ndc_code_df = pd.read_csv(ndc_code_path)\n",
    "ndc_code_df.head()"
   ]
  },
  {
   "cell_type": "code",
   "execution_count": 20,
   "metadata": {},
   "outputs": [
    {
     "name": "stdout",
     "output_type": "stream",
     "text": [
      "The dimensionality of NDC_Code is reduced from 251 to 22.\n"
     ]
    }
   ],
   "source": [
    "reduce_dim_df = stu.reduce_dimension_ndc(df, ndc_code_df)"
   ]
  },
  {
   "cell_type": "code",
   "execution_count": 21,
   "metadata": {},
   "outputs": [],
   "source": [
    "# Number of unique values should be less for the new output field\n",
    "assert df['ndc_code'].nunique() > reduce_dim_df['generic_drug_name'].nunique()\n"
   ]
  },
  {
   "cell_type": "markdown",
   "metadata": {},
   "source": [
    "## Select First Encounter for each Patient "
   ]
  },
  {
   "cell_type": "markdown",
   "metadata": {},
   "source": [
    "**Question 4**: In order to simplify the aggregation of data for the model, we will only select the first encounter for each patient in the dataset. This is to reduce the risk of data leakage of future patient encounters and to reduce complexity of the data transformation and modeling steps. We will assume that sorting in numerical order on the encounter_id provides the time horizon for determining which encounters come before and after another."
   ]
  },
  {
   "cell_type": "code",
   "execution_count": 22,
   "metadata": {},
   "outputs": [],
   "source": [
    "first_encounter_df = stu.select_first_encounter(reduce_dim_df)\n"
   ]
  },
  {
   "cell_type": "code",
   "execution_count": 23,
   "metadata": {},
   "outputs": [
    {
     "data": {
      "text/html": [
       "<div>\n",
       "<style scoped>\n",
       "    .dataframe tbody tr th:only-of-type {\n",
       "        vertical-align: middle;\n",
       "    }\n",
       "\n",
       "    .dataframe tbody tr th {\n",
       "        vertical-align: top;\n",
       "    }\n",
       "\n",
       "    .dataframe thead th {\n",
       "        text-align: right;\n",
       "    }\n",
       "</style>\n",
       "<table border=\"1\" class=\"dataframe\">\n",
       "  <thead>\n",
       "    <tr style=\"text-align: right;\">\n",
       "      <th></th>\n",
       "      <th>encounter_id</th>\n",
       "      <th>patient_nbr</th>\n",
       "      <th>race</th>\n",
       "      <th>gender</th>\n",
       "      <th>age</th>\n",
       "      <th>weight</th>\n",
       "      <th>admission_type_id</th>\n",
       "      <th>discharge_disposition_id</th>\n",
       "      <th>admission_source_id</th>\n",
       "      <th>time_in_hospital</th>\n",
       "      <th>payer_code</th>\n",
       "      <th>medical_specialty</th>\n",
       "      <th>primary_diagnosis_code</th>\n",
       "      <th>other_diagnosis_codes</th>\n",
       "      <th>number_outpatient</th>\n",
       "      <th>number_inpatient</th>\n",
       "      <th>number_emergency</th>\n",
       "      <th>num_lab_procedures</th>\n",
       "      <th>number_diagnoses</th>\n",
       "      <th>num_medications</th>\n",
       "      <th>num_procedures</th>\n",
       "      <th>ndc_code</th>\n",
       "      <th>max_glu_serum</th>\n",
       "      <th>A1Cresult</th>\n",
       "      <th>change</th>\n",
       "      <th>readmitted</th>\n",
       "      <th>payer_code_bin</th>\n",
       "      <th>generic_drug_name</th>\n",
       "    </tr>\n",
       "  </thead>\n",
       "  <tbody>\n",
       "    <tr>\n",
       "      <th>12</th>\n",
       "      <td>12522</td>\n",
       "      <td>48330783</td>\n",
       "      <td>Caucasian</td>\n",
       "      <td>Female</td>\n",
       "      <td>[80-90)</td>\n",
       "      <td>?</td>\n",
       "      <td>2</td>\n",
       "      <td>1</td>\n",
       "      <td>4</td>\n",
       "      <td>13</td>\n",
       "      <td>?</td>\n",
       "      <td>?</td>\n",
       "      <td>398</td>\n",
       "      <td>427|38</td>\n",
       "      <td>0</td>\n",
       "      <td>0</td>\n",
       "      <td>0</td>\n",
       "      <td>68</td>\n",
       "      <td>8</td>\n",
       "      <td>28</td>\n",
       "      <td>2</td>\n",
       "      <td>47918-902</td>\n",
       "      <td>None</td>\n",
       "      <td>None</td>\n",
       "      <td>Ch</td>\n",
       "      <td>NO</td>\n",
       "      <td>0.0</td>\n",
       "      <td>Insulin Human</td>\n",
       "    </tr>\n",
       "    <tr>\n",
       "      <th>11</th>\n",
       "      <td>12522</td>\n",
       "      <td>48330783</td>\n",
       "      <td>Caucasian</td>\n",
       "      <td>Female</td>\n",
       "      <td>[80-90)</td>\n",
       "      <td>?</td>\n",
       "      <td>2</td>\n",
       "      <td>1</td>\n",
       "      <td>4</td>\n",
       "      <td>13</td>\n",
       "      <td>?</td>\n",
       "      <td>?</td>\n",
       "      <td>398</td>\n",
       "      <td>427|38</td>\n",
       "      <td>0</td>\n",
       "      <td>0</td>\n",
       "      <td>0</td>\n",
       "      <td>68</td>\n",
       "      <td>8</td>\n",
       "      <td>28</td>\n",
       "      <td>2</td>\n",
       "      <td>0049-4110</td>\n",
       "      <td>None</td>\n",
       "      <td>None</td>\n",
       "      <td>Ch</td>\n",
       "      <td>NO</td>\n",
       "      <td>0.0</td>\n",
       "      <td>Glipizide</td>\n",
       "    </tr>\n",
       "    <tr>\n",
       "      <th>14</th>\n",
       "      <td>15738</td>\n",
       "      <td>63555939</td>\n",
       "      <td>Caucasian</td>\n",
       "      <td>Female</td>\n",
       "      <td>[90-100)</td>\n",
       "      <td>?</td>\n",
       "      <td>3</td>\n",
       "      <td>3</td>\n",
       "      <td>4</td>\n",
       "      <td>12</td>\n",
       "      <td>?</td>\n",
       "      <td>InternalMedicine</td>\n",
       "      <td>434</td>\n",
       "      <td>198|486</td>\n",
       "      <td>0</td>\n",
       "      <td>0</td>\n",
       "      <td>0</td>\n",
       "      <td>33</td>\n",
       "      <td>8</td>\n",
       "      <td>18</td>\n",
       "      <td>3</td>\n",
       "      <td>68071-1701</td>\n",
       "      <td>None</td>\n",
       "      <td>None</td>\n",
       "      <td>Ch</td>\n",
       "      <td>NO</td>\n",
       "      <td>0.0</td>\n",
       "      <td>Human Insulin</td>\n",
       "    </tr>\n",
       "    <tr>\n",
       "      <th>13</th>\n",
       "      <td>15738</td>\n",
       "      <td>63555939</td>\n",
       "      <td>Caucasian</td>\n",
       "      <td>Female</td>\n",
       "      <td>[90-100)</td>\n",
       "      <td>?</td>\n",
       "      <td>3</td>\n",
       "      <td>3</td>\n",
       "      <td>4</td>\n",
       "      <td>12</td>\n",
       "      <td>?</td>\n",
       "      <td>InternalMedicine</td>\n",
       "      <td>434</td>\n",
       "      <td>198|486</td>\n",
       "      <td>0</td>\n",
       "      <td>0</td>\n",
       "      <td>0</td>\n",
       "      <td>33</td>\n",
       "      <td>8</td>\n",
       "      <td>18</td>\n",
       "      <td>3</td>\n",
       "      <td>0173-0863</td>\n",
       "      <td>None</td>\n",
       "      <td>None</td>\n",
       "      <td>Ch</td>\n",
       "      <td>NO</td>\n",
       "      <td>0.0</td>\n",
       "      <td>Rosiglitazone Maleate</td>\n",
       "    </tr>\n",
       "    <tr>\n",
       "      <th>4</th>\n",
       "      <td>16680</td>\n",
       "      <td>42519267</td>\n",
       "      <td>Caucasian</td>\n",
       "      <td>Male</td>\n",
       "      <td>[40-50)</td>\n",
       "      <td>?</td>\n",
       "      <td>1</td>\n",
       "      <td>1</td>\n",
       "      <td>7</td>\n",
       "      <td>1</td>\n",
       "      <td>?</td>\n",
       "      <td>?</td>\n",
       "      <td>197</td>\n",
       "      <td>157|250</td>\n",
       "      <td>0</td>\n",
       "      <td>0</td>\n",
       "      <td>0</td>\n",
       "      <td>51</td>\n",
       "      <td>5</td>\n",
       "      <td>8</td>\n",
       "      <td>0</td>\n",
       "      <td>0049-4110</td>\n",
       "      <td>None</td>\n",
       "      <td>None</td>\n",
       "      <td>Ch</td>\n",
       "      <td>NO</td>\n",
       "      <td>0.0</td>\n",
       "      <td>Glipizide</td>\n",
       "    </tr>\n",
       "  </tbody>\n",
       "</table>\n",
       "</div>"
      ],
      "text/plain": [
       "    encounter_id  patient_nbr       race  gender       age weight  \\\n",
       "12         12522     48330783  Caucasian  Female   [80-90)      ?   \n",
       "11         12522     48330783  Caucasian  Female   [80-90)      ?   \n",
       "14         15738     63555939  Caucasian  Female  [90-100)      ?   \n",
       "13         15738     63555939  Caucasian  Female  [90-100)      ?   \n",
       "4          16680     42519267  Caucasian    Male   [40-50)      ?   \n",
       "\n",
       "    admission_type_id  discharge_disposition_id  admission_source_id  \\\n",
       "12                  2                         1                    4   \n",
       "11                  2                         1                    4   \n",
       "14                  3                         3                    4   \n",
       "13                  3                         3                    4   \n",
       "4                   1                         1                    7   \n",
       "\n",
       "    time_in_hospital payer_code medical_specialty primary_diagnosis_code  \\\n",
       "12                13          ?                 ?                    398   \n",
       "11                13          ?                 ?                    398   \n",
       "14                12          ?  InternalMedicine                    434   \n",
       "13                12          ?  InternalMedicine                    434   \n",
       "4                  1          ?                 ?                    197   \n",
       "\n",
       "   other_diagnosis_codes  number_outpatient  number_inpatient  \\\n",
       "12                427|38                  0                 0   \n",
       "11                427|38                  0                 0   \n",
       "14               198|486                  0                 0   \n",
       "13               198|486                  0                 0   \n",
       "4                157|250                  0                 0   \n",
       "\n",
       "    number_emergency  num_lab_procedures  number_diagnoses  num_medications  \\\n",
       "12                 0                  68                 8               28   \n",
       "11                 0                  68                 8               28   \n",
       "14                 0                  33                 8               18   \n",
       "13                 0                  33                 8               18   \n",
       "4                  0                  51                 5                8   \n",
       "\n",
       "    num_procedures    ndc_code max_glu_serum A1Cresult change readmitted  \\\n",
       "12               2   47918-902          None      None     Ch         NO   \n",
       "11               2   0049-4110          None      None     Ch         NO   \n",
       "14               3  68071-1701          None      None     Ch         NO   \n",
       "13               3   0173-0863          None      None     Ch         NO   \n",
       "4                0   0049-4110          None      None     Ch         NO   \n",
       "\n",
       "    payer_code_bin      generic_drug_name  \n",
       "12             0.0          Insulin Human  \n",
       "11             0.0              Glipizide  \n",
       "14             0.0          Human Insulin  \n",
       "13             0.0  Rosiglitazone Maleate  \n",
       "4              0.0              Glipizide  "
      ]
     },
     "execution_count": 23,
     "metadata": {},
     "output_type": "execute_result"
    }
   ],
   "source": [
    "first_encounter_df.head()\n"
   ]
  },
  {
   "cell_type": "code",
   "execution_count": 24,
   "metadata": {},
   "outputs": [
    {
     "name": "stdout",
     "output_type": "stream",
     "text": [
      "Number of unique patients:71518\n",
      "Number of unique encounters:71518\n",
      "Tests passed!!\n"
     ]
    }
   ],
   "source": [
    "# unique patients in transformed dataset\n",
    "unique_patients = first_encounter_df['patient_nbr'].nunique()\n",
    "print(\"Number of unique patients:{}\".format(unique_patients))\n",
    "\n",
    "# unique encounters in transformed dataset\n",
    "unique_encounters = first_encounter_df['encounter_id'].nunique()\n",
    "print(\"Number of unique encounters:{}\".format(unique_encounters))\n",
    "\n",
    "original_unique_patient_number = reduce_dim_df['patient_nbr'].nunique()\n",
    "\n",
    "# check if number of unique patients is equal to the number of unique encounters\n",
    "# and patients in the final dataset\n",
    "assert original_unique_patient_number == unique_patients\n",
    "assert original_unique_patient_number == unique_encounters\n",
    "print(\"Tests passed!!\")\n"
   ]
  },
  {
   "cell_type": "markdown",
   "metadata": {},
   "source": [
    "## Aggregate Dataset "
   ]
  },
  {
   "cell_type": "markdown",
   "metadata": {},
   "source": [
    "In order to provide a broad scope of the steps and to prevent students from getting stuck with data transformations, we have selected the aggregation columns and provided a function to build the dataset at the appropriate level. The 'aggregate_dataset\" function that you can find in the 'utils.py' file can take the preceding dataframe with the 'generic_drug_name' field and transform the data appropriately for the project. \n",
    "\n",
    "To make it simpler for students, we are creating dummy columns for each unique generic drug name and adding those are input features to the model. There are other options for data representation but this is out of scope for the time constraints of the course."
   ]
  },
  {
   "cell_type": "code",
   "execution_count": null,
   "metadata": {},
   "outputs": [],
   "source": [
    "exclusion_list = ['generic_drug_name', 'ndc_code']\n",
    "grouping_field_list = [\n",
    "    c for c in first_encounter_df.columns if c not in exclusion_list]\n",
    "agg_drug_df, ndc_col_list = aggregate_dataset(\n",
    "    first_encounter_df, grouping_field_list, 'generic_drug_name')\n"
   ]
  },
  {
   "cell_type": "markdown",
   "metadata": {},
   "source": [
    "Student response:     \n",
    "The `weight` field should be dropped, as there are 97% of data missing and it will not provide us with much useful information.    \n",
    "    While the missing rate for `payer_code` is 37.78%, this variable can be informative in predicting the the length of stay in hopspital where a patient is `self-pay` (SP). When a patient's in-hopital stay is not covered by insurance, it is less likely for the patient to stay for a long period of time. Thus, binarizing `payer_code` can be helpful in predicting the time in hospital. "
   ]
  },
  {
   "cell_type": "code",
   "execution_count": 26,
   "metadata": {},
   "outputs": [
    {
     "data": {
      "text/html": [
       "<div>\n",
       "<style scoped>\n",
       "    .dataframe tbody tr th:only-of-type {\n",
       "        vertical-align: middle;\n",
       "    }\n",
       "\n",
       "    .dataframe tbody tr th {\n",
       "        vertical-align: top;\n",
       "    }\n",
       "\n",
       "    .dataframe thead th {\n",
       "        text-align: right;\n",
       "    }\n",
       "</style>\n",
       "<table border=\"1\" class=\"dataframe\">\n",
       "  <thead>\n",
       "    <tr style=\"text-align: right;\">\n",
       "      <th></th>\n",
       "      <th>encounter_id</th>\n",
       "      <th>patient_nbr</th>\n",
       "      <th>race</th>\n",
       "      <th>gender</th>\n",
       "      <th>age</th>\n",
       "      <th>weight</th>\n",
       "      <th>admission_type_id</th>\n",
       "      <th>discharge_disposition_id</th>\n",
       "      <th>admission_source_id</th>\n",
       "      <th>time_in_hospital</th>\n",
       "      <th>payer_code</th>\n",
       "      <th>medical_specialty</th>\n",
       "      <th>primary_diagnosis_code</th>\n",
       "      <th>other_diagnosis_codes</th>\n",
       "      <th>number_outpatient</th>\n",
       "      <th>number_inpatient</th>\n",
       "      <th>number_emergency</th>\n",
       "      <th>num_lab_procedures</th>\n",
       "      <th>number_diagnoses</th>\n",
       "      <th>num_medications</th>\n",
       "      <th>num_procedures</th>\n",
       "      <th>max_glu_serum</th>\n",
       "      <th>A1Cresult</th>\n",
       "      <th>change</th>\n",
       "      <th>readmitted</th>\n",
       "      <th>payer_code_bin</th>\n",
       "      <th>generic_drug_name_array</th>\n",
       "      <th>Acarbose</th>\n",
       "      <th>Glimepiride</th>\n",
       "      <th>Glipizide</th>\n",
       "      <th>Glipizide_And_Metformin_Hcl</th>\n",
       "      <th>Glipizide_And_Metformin_Hydrochloride</th>\n",
       "      <th>Glyburide</th>\n",
       "      <th>Glyburide_And_Metformin_Hydrochloride</th>\n",
       "      <th>Glyburide-metformin_Hydrochloride</th>\n",
       "      <th>Human_Insulin</th>\n",
       "      <th>Insulin_Human</th>\n",
       "      <th>Metformin_Hcl</th>\n",
       "      <th>Metformin_Hydrochloride</th>\n",
       "      <th>Miglitol</th>\n",
       "      <th>Nateglinide</th>\n",
       "      <th>Pioglitazole_And_Metformin_Hydrochloride</th>\n",
       "      <th>Pioglitazone</th>\n",
       "      <th>Pioglitazone_Hydrochloride_And_Glimepiride</th>\n",
       "      <th>Repaglinide</th>\n",
       "      <th>Rosiglitazone_Maleate</th>\n",
       "      <th>Tolazamide</th>\n",
       "      <th>Tolbutamide</th>\n",
       "    </tr>\n",
       "  </thead>\n",
       "  <tbody>\n",
       "    <tr>\n",
       "      <th>0</th>\n",
       "      <td>12522</td>\n",
       "      <td>48330783</td>\n",
       "      <td>Caucasian</td>\n",
       "      <td>Female</td>\n",
       "      <td>[80-90)</td>\n",
       "      <td>?</td>\n",
       "      <td>2</td>\n",
       "      <td>1</td>\n",
       "      <td>4</td>\n",
       "      <td>13</td>\n",
       "      <td>?</td>\n",
       "      <td>?</td>\n",
       "      <td>398</td>\n",
       "      <td>427|38</td>\n",
       "      <td>0</td>\n",
       "      <td>0</td>\n",
       "      <td>0</td>\n",
       "      <td>68</td>\n",
       "      <td>8</td>\n",
       "      <td>28</td>\n",
       "      <td>2</td>\n",
       "      <td>None</td>\n",
       "      <td>None</td>\n",
       "      <td>Ch</td>\n",
       "      <td>NO</td>\n",
       "      <td>0.0</td>\n",
       "      <td>[Insulin Human, Glipizide]</td>\n",
       "      <td>0.0</td>\n",
       "      <td>0.0</td>\n",
       "      <td>1.0</td>\n",
       "      <td>0.0</td>\n",
       "      <td>0.0</td>\n",
       "      <td>0.0</td>\n",
       "      <td>0.0</td>\n",
       "      <td>0.0</td>\n",
       "      <td>0.0</td>\n",
       "      <td>1.0</td>\n",
       "      <td>0.0</td>\n",
       "      <td>0.0</td>\n",
       "      <td>0.0</td>\n",
       "      <td>0.0</td>\n",
       "      <td>0.0</td>\n",
       "      <td>0.0</td>\n",
       "      <td>0.0</td>\n",
       "      <td>0.0</td>\n",
       "      <td>0.0</td>\n",
       "      <td>0.0</td>\n",
       "      <td>0.0</td>\n",
       "    </tr>\n",
       "    <tr>\n",
       "      <th>1</th>\n",
       "      <td>15738</td>\n",
       "      <td>63555939</td>\n",
       "      <td>Caucasian</td>\n",
       "      <td>Female</td>\n",
       "      <td>[90-100)</td>\n",
       "      <td>?</td>\n",
       "      <td>3</td>\n",
       "      <td>3</td>\n",
       "      <td>4</td>\n",
       "      <td>12</td>\n",
       "      <td>?</td>\n",
       "      <td>InternalMedicine</td>\n",
       "      <td>434</td>\n",
       "      <td>198|486</td>\n",
       "      <td>0</td>\n",
       "      <td>0</td>\n",
       "      <td>0</td>\n",
       "      <td>33</td>\n",
       "      <td>8</td>\n",
       "      <td>18</td>\n",
       "      <td>3</td>\n",
       "      <td>None</td>\n",
       "      <td>None</td>\n",
       "      <td>Ch</td>\n",
       "      <td>NO</td>\n",
       "      <td>0.0</td>\n",
       "      <td>[Human Insulin, Rosiglitazone Maleate]</td>\n",
       "      <td>0.0</td>\n",
       "      <td>0.0</td>\n",
       "      <td>0.0</td>\n",
       "      <td>0.0</td>\n",
       "      <td>0.0</td>\n",
       "      <td>0.0</td>\n",
       "      <td>0.0</td>\n",
       "      <td>0.0</td>\n",
       "      <td>1.0</td>\n",
       "      <td>0.0</td>\n",
       "      <td>0.0</td>\n",
       "      <td>0.0</td>\n",
       "      <td>0.0</td>\n",
       "      <td>0.0</td>\n",
       "      <td>0.0</td>\n",
       "      <td>0.0</td>\n",
       "      <td>0.0</td>\n",
       "      <td>0.0</td>\n",
       "      <td>1.0</td>\n",
       "      <td>0.0</td>\n",
       "      <td>0.0</td>\n",
       "    </tr>\n",
       "    <tr>\n",
       "      <th>2</th>\n",
       "      <td>16680</td>\n",
       "      <td>42519267</td>\n",
       "      <td>Caucasian</td>\n",
       "      <td>Male</td>\n",
       "      <td>[40-50)</td>\n",
       "      <td>?</td>\n",
       "      <td>1</td>\n",
       "      <td>1</td>\n",
       "      <td>7</td>\n",
       "      <td>1</td>\n",
       "      <td>?</td>\n",
       "      <td>?</td>\n",
       "      <td>197</td>\n",
       "      <td>157|250</td>\n",
       "      <td>0</td>\n",
       "      <td>0</td>\n",
       "      <td>0</td>\n",
       "      <td>51</td>\n",
       "      <td>5</td>\n",
       "      <td>8</td>\n",
       "      <td>0</td>\n",
       "      <td>None</td>\n",
       "      <td>None</td>\n",
       "      <td>Ch</td>\n",
       "      <td>NO</td>\n",
       "      <td>0.0</td>\n",
       "      <td>[Glipizide, Human Insulin]</td>\n",
       "      <td>0.0</td>\n",
       "      <td>0.0</td>\n",
       "      <td>1.0</td>\n",
       "      <td>0.0</td>\n",
       "      <td>0.0</td>\n",
       "      <td>0.0</td>\n",
       "      <td>0.0</td>\n",
       "      <td>0.0</td>\n",
       "      <td>1.0</td>\n",
       "      <td>0.0</td>\n",
       "      <td>0.0</td>\n",
       "      <td>0.0</td>\n",
       "      <td>0.0</td>\n",
       "      <td>0.0</td>\n",
       "      <td>0.0</td>\n",
       "      <td>0.0</td>\n",
       "      <td>0.0</td>\n",
       "      <td>0.0</td>\n",
       "      <td>0.0</td>\n",
       "      <td>0.0</td>\n",
       "      <td>0.0</td>\n",
       "    </tr>\n",
       "    <tr>\n",
       "      <th>3</th>\n",
       "      <td>28236</td>\n",
       "      <td>89869032</td>\n",
       "      <td>AfricanAmerican</td>\n",
       "      <td>Female</td>\n",
       "      <td>[40-50)</td>\n",
       "      <td>?</td>\n",
       "      <td>1</td>\n",
       "      <td>1</td>\n",
       "      <td>7</td>\n",
       "      <td>9</td>\n",
       "      <td>?</td>\n",
       "      <td>?</td>\n",
       "      <td>250.7</td>\n",
       "      <td>403|996</td>\n",
       "      <td>0</td>\n",
       "      <td>0</td>\n",
       "      <td>0</td>\n",
       "      <td>47</td>\n",
       "      <td>9</td>\n",
       "      <td>17</td>\n",
       "      <td>2</td>\n",
       "      <td>None</td>\n",
       "      <td>None</td>\n",
       "      <td>No</td>\n",
       "      <td>&gt;30</td>\n",
       "      <td>0.0</td>\n",
       "      <td>[Human Insulin]</td>\n",
       "      <td>0.0</td>\n",
       "      <td>0.0</td>\n",
       "      <td>0.0</td>\n",
       "      <td>0.0</td>\n",
       "      <td>0.0</td>\n",
       "      <td>0.0</td>\n",
       "      <td>0.0</td>\n",
       "      <td>0.0</td>\n",
       "      <td>1.0</td>\n",
       "      <td>0.0</td>\n",
       "      <td>0.0</td>\n",
       "      <td>0.0</td>\n",
       "      <td>0.0</td>\n",
       "      <td>0.0</td>\n",
       "      <td>0.0</td>\n",
       "      <td>0.0</td>\n",
       "      <td>0.0</td>\n",
       "      <td>0.0</td>\n",
       "      <td>0.0</td>\n",
       "      <td>0.0</td>\n",
       "      <td>0.0</td>\n",
       "    </tr>\n",
       "    <tr>\n",
       "      <th>4</th>\n",
       "      <td>35754</td>\n",
       "      <td>82637451</td>\n",
       "      <td>Caucasian</td>\n",
       "      <td>Male</td>\n",
       "      <td>[50-60)</td>\n",
       "      <td>?</td>\n",
       "      <td>2</td>\n",
       "      <td>1</td>\n",
       "      <td>2</td>\n",
       "      <td>3</td>\n",
       "      <td>?</td>\n",
       "      <td>?</td>\n",
       "      <td>414</td>\n",
       "      <td>411|250</td>\n",
       "      <td>0</td>\n",
       "      <td>0</td>\n",
       "      <td>0</td>\n",
       "      <td>31</td>\n",
       "      <td>9</td>\n",
       "      <td>16</td>\n",
       "      <td>6</td>\n",
       "      <td>None</td>\n",
       "      <td>None</td>\n",
       "      <td>No</td>\n",
       "      <td>&gt;30</td>\n",
       "      <td>0.0</td>\n",
       "      <td>[Insulin Human]</td>\n",
       "      <td>0.0</td>\n",
       "      <td>0.0</td>\n",
       "      <td>0.0</td>\n",
       "      <td>0.0</td>\n",
       "      <td>0.0</td>\n",
       "      <td>0.0</td>\n",
       "      <td>0.0</td>\n",
       "      <td>0.0</td>\n",
       "      <td>0.0</td>\n",
       "      <td>1.0</td>\n",
       "      <td>0.0</td>\n",
       "      <td>0.0</td>\n",
       "      <td>0.0</td>\n",
       "      <td>0.0</td>\n",
       "      <td>0.0</td>\n",
       "      <td>0.0</td>\n",
       "      <td>0.0</td>\n",
       "      <td>0.0</td>\n",
       "      <td>0.0</td>\n",
       "      <td>0.0</td>\n",
       "      <td>0.0</td>\n",
       "    </tr>\n",
       "  </tbody>\n",
       "</table>\n",
       "</div>"
      ],
      "text/plain": [
       "   encounter_id  patient_nbr             race  gender       age weight  \\\n",
       "0         12522     48330783        Caucasian  Female   [80-90)      ?   \n",
       "1         15738     63555939        Caucasian  Female  [90-100)      ?   \n",
       "2         16680     42519267        Caucasian    Male   [40-50)      ?   \n",
       "3         28236     89869032  AfricanAmerican  Female   [40-50)      ?   \n",
       "4         35754     82637451        Caucasian    Male   [50-60)      ?   \n",
       "\n",
       "   admission_type_id  discharge_disposition_id  admission_source_id  \\\n",
       "0                  2                         1                    4   \n",
       "1                  3                         3                    4   \n",
       "2                  1                         1                    7   \n",
       "3                  1                         1                    7   \n",
       "4                  2                         1                    2   \n",
       "\n",
       "   time_in_hospital payer_code medical_specialty primary_diagnosis_code  \\\n",
       "0                13          ?                 ?                    398   \n",
       "1                12          ?  InternalMedicine                    434   \n",
       "2                 1          ?                 ?                    197   \n",
       "3                 9          ?                 ?                  250.7   \n",
       "4                 3          ?                 ?                    414   \n",
       "\n",
       "  other_diagnosis_codes  number_outpatient  number_inpatient  \\\n",
       "0                427|38                  0                 0   \n",
       "1               198|486                  0                 0   \n",
       "2               157|250                  0                 0   \n",
       "3               403|996                  0                 0   \n",
       "4               411|250                  0                 0   \n",
       "\n",
       "   number_emergency  num_lab_procedures  number_diagnoses  num_medications  \\\n",
       "0                 0                  68                 8               28   \n",
       "1                 0                  33                 8               18   \n",
       "2                 0                  51                 5                8   \n",
       "3                 0                  47                 9               17   \n",
       "4                 0                  31                 9               16   \n",
       "\n",
       "   num_procedures max_glu_serum A1Cresult change readmitted  payer_code_bin  \\\n",
       "0               2          None      None     Ch         NO             0.0   \n",
       "1               3          None      None     Ch         NO             0.0   \n",
       "2               0          None      None     Ch         NO             0.0   \n",
       "3               2          None      None     No        >30             0.0   \n",
       "4               6          None      None     No        >30             0.0   \n",
       "\n",
       "                  generic_drug_name_array  Acarbose  Glimepiride  Glipizide  \\\n",
       "0              [Insulin Human, Glipizide]       0.0          0.0        1.0   \n",
       "1  [Human Insulin, Rosiglitazone Maleate]       0.0          0.0        0.0   \n",
       "2              [Glipizide, Human Insulin]       0.0          0.0        1.0   \n",
       "3                         [Human Insulin]       0.0          0.0        0.0   \n",
       "4                         [Insulin Human]       0.0          0.0        0.0   \n",
       "\n",
       "   Glipizide_And_Metformin_Hcl  Glipizide_And_Metformin_Hydrochloride  \\\n",
       "0                          0.0                                    0.0   \n",
       "1                          0.0                                    0.0   \n",
       "2                          0.0                                    0.0   \n",
       "3                          0.0                                    0.0   \n",
       "4                          0.0                                    0.0   \n",
       "\n",
       "   Glyburide  Glyburide_And_Metformin_Hydrochloride  \\\n",
       "0        0.0                                    0.0   \n",
       "1        0.0                                    0.0   \n",
       "2        0.0                                    0.0   \n",
       "3        0.0                                    0.0   \n",
       "4        0.0                                    0.0   \n",
       "\n",
       "   Glyburide-metformin_Hydrochloride  Human_Insulin  Insulin_Human  \\\n",
       "0                                0.0            0.0            1.0   \n",
       "1                                0.0            1.0            0.0   \n",
       "2                                0.0            1.0            0.0   \n",
       "3                                0.0            1.0            0.0   \n",
       "4                                0.0            0.0            1.0   \n",
       "\n",
       "   Metformin_Hcl  Metformin_Hydrochloride  Miglitol  Nateglinide  \\\n",
       "0            0.0                      0.0       0.0          0.0   \n",
       "1            0.0                      0.0       0.0          0.0   \n",
       "2            0.0                      0.0       0.0          0.0   \n",
       "3            0.0                      0.0       0.0          0.0   \n",
       "4            0.0                      0.0       0.0          0.0   \n",
       "\n",
       "   Pioglitazole_And_Metformin_Hydrochloride  Pioglitazone  \\\n",
       "0                                       0.0           0.0   \n",
       "1                                       0.0           0.0   \n",
       "2                                       0.0           0.0   \n",
       "3                                       0.0           0.0   \n",
       "4                                       0.0           0.0   \n",
       "\n",
       "   Pioglitazone_Hydrochloride_And_Glimepiride  Repaglinide  \\\n",
       "0                                         0.0          0.0   \n",
       "1                                         0.0          0.0   \n",
       "2                                         0.0          0.0   \n",
       "3                                         0.0          0.0   \n",
       "4                                         0.0          0.0   \n",
       "\n",
       "   Rosiglitazone_Maleate  Tolazamide  Tolbutamide  \n",
       "0                    0.0         0.0          0.0  \n",
       "1                    1.0         0.0          0.0  \n",
       "2                    0.0         0.0          0.0  \n",
       "3                    0.0         0.0          0.0  \n",
       "4                    0.0         0.0          0.0  "
      ]
     },
     "execution_count": 26,
     "metadata": {},
     "output_type": "execute_result"
    }
   ],
   "source": [
    "agg_drug_df.head()\n"
   ]
  },
  {
   "cell_type": "code",
   "execution_count": 27,
   "metadata": {},
   "outputs": [
    {
     "data": {
      "text/plain": [
       "(71518, 143424)"
      ]
     },
     "execution_count": 27,
     "metadata": {},
     "output_type": "execute_result"
    }
   ],
   "source": [
    "len(agg_drug_df), len(df)\n"
   ]
  },
  {
   "cell_type": "code",
   "execution_count": 28,
   "metadata": {},
   "outputs": [],
   "source": [
    "assert len(agg_drug_df) == agg_drug_df['patient_nbr'].nunique(\n",
    ") == agg_drug_df['encounter_id'].nunique()\n"
   ]
  },
  {
   "cell_type": "markdown",
   "metadata": {},
   "source": [
    "## Prepare Fields and Cast Dataset "
   ]
  },
  {
   "cell_type": "markdown",
   "metadata": {},
   "source": [
    "### Feature Selection"
   ]
  },
  {
   "cell_type": "markdown",
   "metadata": {},
   "source": [
    "**Question 5**: After you have aggregated the dataset to the right level, we can do feature selection (we will include the ndc_col_list, dummy column features too). In the block below, please select the categorical and numerical features that you will use for the model, so that we can create a dataset subset. \n",
    "\n",
    "For the payer_code and weight fields, please provide whether you think we should include/exclude the field in our model and give a justification/rationale for this based off of the statistics of the data. Feel free to use visualizations or summary statistics to support your choice."
   ]
  },
  {
   "cell_type": "code",
   "execution_count": 29,
   "metadata": {},
   "outputs": [],
   "source": [
    "rdf = reduce_dim_df.copy()\n",
    "rdf = rdf.replace(missing_vals_list, np.nan)"
   ]
  },
  {
   "cell_type": "code",
   "execution_count": 30,
   "metadata": {},
   "outputs": [],
   "source": [
    "missing_val_df = pd.DataFrame({'col_name': rdf.columns,\n",
    "                               'counts_nan': rdf.isnull().sum(),\n",
    "                               'percent_nan': round(100*rdf.isnull().sum()/len(rdf), 2)\n",
    "                               })\n"
   ]
  },
  {
   "cell_type": "code",
   "execution_count": 31,
   "metadata": {},
   "outputs": [
    {
     "data": {
      "text/html": [
       "<div>\n",
       "<style scoped>\n",
       "    .dataframe tbody tr th:only-of-type {\n",
       "        vertical-align: middle;\n",
       "    }\n",
       "\n",
       "    .dataframe tbody tr th {\n",
       "        vertical-align: top;\n",
       "    }\n",
       "\n",
       "    .dataframe thead th {\n",
       "        text-align: right;\n",
       "    }\n",
       "</style>\n",
       "<table border=\"1\" class=\"dataframe\">\n",
       "  <thead>\n",
       "    <tr style=\"text-align: right;\">\n",
       "      <th></th>\n",
       "      <th>col_name</th>\n",
       "      <th>counts_nan</th>\n",
       "      <th>percent_nan</th>\n",
       "    </tr>\n",
       "  </thead>\n",
       "  <tbody>\n",
       "    <tr>\n",
       "      <th>5</th>\n",
       "      <td>weight</td>\n",
       "      <td>139122</td>\n",
       "      <td>97.00</td>\n",
       "    </tr>\n",
       "    <tr>\n",
       "      <th>11</th>\n",
       "      <td>medical_specialty</td>\n",
       "      <td>69463</td>\n",
       "      <td>48.43</td>\n",
       "    </tr>\n",
       "    <tr>\n",
       "      <th>10</th>\n",
       "      <td>payer_code</td>\n",
       "      <td>54190</td>\n",
       "      <td>37.78</td>\n",
       "    </tr>\n",
       "    <tr>\n",
       "      <th>27</th>\n",
       "      <td>generic_drug_name</td>\n",
       "      <td>23462</td>\n",
       "      <td>16.36</td>\n",
       "    </tr>\n",
       "    <tr>\n",
       "      <th>21</th>\n",
       "      <td>ndc_code</td>\n",
       "      <td>23462</td>\n",
       "      <td>16.36</td>\n",
       "    </tr>\n",
       "  </tbody>\n",
       "</table>\n",
       "</div>"
      ],
      "text/plain": [
       "             col_name  counts_nan  percent_nan\n",
       "5              weight      139122        97.00\n",
       "11  medical_specialty       69463        48.43\n",
       "10         payer_code       54190        37.78\n",
       "27  generic_drug_name       23462        16.36\n",
       "21           ndc_code       23462        16.36"
      ]
     },
     "execution_count": 31,
     "metadata": {},
     "output_type": "execute_result"
    }
   ],
   "source": [
    "missing_val_df = missing_val_df.reset_index(\n",
    "    drop=True).sort_values('counts_nan', ascending=False)\n",
    "missing_val_df.head(5)\n"
   ]
  },
  {
   "cell_type": "code",
   "execution_count": 32,
   "metadata": {
    "scrolled": true
   },
   "outputs": [
    {
     "data": {
      "text/plain": [
       "?            139122\n",
       "[75-100)       1817\n",
       "[50-75)        1133\n",
       "[100-125)       890\n",
       "[125-150)       200\n",
       "[25-50)         118\n",
       "[0-25)           67\n",
       "[150-175)        55\n",
       "[175-200)        18\n",
       ">200              4\n",
       "Name: weight, dtype: int64"
      ]
     },
     "execution_count": 32,
     "metadata": {},
     "output_type": "execute_result"
    }
   ],
   "source": [
    "reduce_dim_df.weight.value_counts()\n"
   ]
  },
  {
   "cell_type": "code",
   "execution_count": 33,
   "metadata": {
    "scrolled": true
   },
   "outputs": [
    {
     "data": {
      "text/plain": [
       "?     54190\n",
       "MC    46532\n",
       "HM     8784\n",
       "SP     7613\n",
       "BC     6991\n",
       "MD     4983\n",
       "CP     3687\n",
       "UN     3665\n",
       "CM     2971\n",
       "OG     1532\n",
       "PO      919\n",
       "DM      757\n",
       "WC      230\n",
       "CH      208\n",
       "OT      160\n",
       "MP      122\n",
       "SI       79\n",
       "FR        1\n",
       "Name: payer_code, dtype: int64"
      ]
     },
     "execution_count": 33,
     "metadata": {},
     "output_type": "execute_result"
    }
   ],
   "source": [
    "reduce_dim_df.payer_code.value_counts()\n"
   ]
  },
  {
   "cell_type": "code",
   "execution_count": 34,
   "metadata": {},
   "outputs": [],
   "source": [
    "DDM = [\n",
    "    'admission_type_id',\n",
    "    'discharge_disposition_id',\n",
    "    'admission_source_id',\n",
    "    'primary_diagnosis_code',\n",
    "    'other_diagnosis_codes',\n",
    "    'change'\n",
    "]\n"
   ]
  },
  {
   "cell_type": "code",
   "execution_count": 35,
   "metadata": {},
   "outputs": [],
   "source": [
    "num = [\n",
    "    'payer_code_bin',\n",
    "    'num_lab_procedures',\n",
    "    'number_diagnoses',\n",
    "    'num_medications',\n",
    "    'num_procedures'\n",
    "]\n"
   ]
  },
  {
   "cell_type": "code",
   "execution_count": 36,
   "metadata": {},
   "outputs": [],
   "source": [
    "'''\n",
    "Please update the list to include the features you think are appropriate for the\n",
    "model and the field that we will be using to train the model. There are three\n",
    "required demographic features for the model and I have inserted a list with them\n",
    "already in the categorical list. These will be required for later steps when\n",
    "analyzing data splits and model biases.\n",
    "'''\n",
    "required_demo_col_list = ['race', 'gender', 'age']\n",
    "student_categorical_col_list = DDM + required_demo_col_list + ndc_col_list\n",
    "student_numerical_col_list = num\n",
    "PREDICTOR_FIELD = 'time_in_hospital'\n"
   ]
  },
  {
   "cell_type": "code",
   "execution_count": 37,
   "metadata": {},
   "outputs": [],
   "source": [
    "def select_model_features(df, categorical_col_list, numerical_col_list, PREDICTOR_FIELD, grouping_key='patient_nbr'):\n",
    "    selected_col_list = [grouping_key] + [PREDICTOR_FIELD] + \\\n",
    "        categorical_col_list + numerical_col_list\n",
    "    return agg_drug_df[selected_col_list]\n"
   ]
  },
  {
   "cell_type": "code",
   "execution_count": 38,
   "metadata": {},
   "outputs": [],
   "source": [
    "selected_features_df = select_model_features(rdf, student_categorical_col_list, student_numerical_col_list,\n",
    "                                             PREDICTOR_FIELD)\n"
   ]
  },
  {
   "cell_type": "code",
   "execution_count": 39,
   "metadata": {},
   "outputs": [],
   "source": [
    "selected_features_df = selected_features_df.replace(missing_vals_list, np.nan)\n"
   ]
  },
  {
   "cell_type": "markdown",
   "metadata": {},
   "source": [
    "### Preprocess Dataset - Casting and Imputing  "
   ]
  },
  {
   "cell_type": "markdown",
   "metadata": {},
   "source": [
    "We will cast and impute the dataset before splitting so that we do not have to repeat these steps across the splits in the next step. For imputing, there can be deeper analysis into which features to impute and how to impute but for the sake of time, we are taking a general strategy of imputing zero for only numerical features. \n",
    "\n",
    "OPTIONAL: What are some potential issues with this approach? Can you recommend a better way and also implement it?    \n",
    "**Answer**: some values may be missing not at random, and can be found back by interpreting the relationship between the missing data and the rest of the data in the dataset. This approach may lead to a unnecessarily reduced dataset size.  "
   ]
  },
  {
   "cell_type": "code",
   "execution_count": 40,
   "metadata": {},
   "outputs": [],
   "source": [
    "processed_df = preprocess_df(selected_features_df, student_categorical_col_list,\n",
    "                             student_numerical_col_list, PREDICTOR_FIELD, categorical_impute_value='nan', numerical_impute_value=0)\n"
   ]
  },
  {
   "cell_type": "code",
   "execution_count": 41,
   "metadata": {},
   "outputs": [
    {
     "data": {
      "text/html": [
       "<div>\n",
       "<style scoped>\n",
       "    .dataframe tbody tr th:only-of-type {\n",
       "        vertical-align: middle;\n",
       "    }\n",
       "\n",
       "    .dataframe tbody tr th {\n",
       "        vertical-align: top;\n",
       "    }\n",
       "\n",
       "    .dataframe thead th {\n",
       "        text-align: right;\n",
       "    }\n",
       "</style>\n",
       "<table border=\"1\" class=\"dataframe\">\n",
       "  <thead>\n",
       "    <tr style=\"text-align: right;\">\n",
       "      <th></th>\n",
       "      <th>patient_nbr</th>\n",
       "      <th>time_in_hospital</th>\n",
       "      <th>admission_type_id</th>\n",
       "      <th>discharge_disposition_id</th>\n",
       "      <th>admission_source_id</th>\n",
       "      <th>primary_diagnosis_code</th>\n",
       "      <th>other_diagnosis_codes</th>\n",
       "      <th>change</th>\n",
       "      <th>race</th>\n",
       "      <th>gender</th>\n",
       "      <th>age</th>\n",
       "      <th>Acarbose</th>\n",
       "      <th>Glimepiride</th>\n",
       "      <th>Glipizide</th>\n",
       "      <th>Glipizide_And_Metformin_Hcl</th>\n",
       "      <th>Glipizide_And_Metformin_Hydrochloride</th>\n",
       "      <th>Glyburide</th>\n",
       "      <th>Glyburide_And_Metformin_Hydrochloride</th>\n",
       "      <th>Glyburide-metformin_Hydrochloride</th>\n",
       "      <th>Human_Insulin</th>\n",
       "      <th>Insulin_Human</th>\n",
       "      <th>Metformin_Hcl</th>\n",
       "      <th>Metformin_Hydrochloride</th>\n",
       "      <th>Miglitol</th>\n",
       "      <th>Nateglinide</th>\n",
       "      <th>Pioglitazole_And_Metformin_Hydrochloride</th>\n",
       "      <th>Pioglitazone</th>\n",
       "      <th>Pioglitazone_Hydrochloride_And_Glimepiride</th>\n",
       "      <th>Repaglinide</th>\n",
       "      <th>Rosiglitazone_Maleate</th>\n",
       "      <th>Tolazamide</th>\n",
       "      <th>Tolbutamide</th>\n",
       "      <th>payer_code_bin</th>\n",
       "      <th>num_lab_procedures</th>\n",
       "      <th>number_diagnoses</th>\n",
       "      <th>num_medications</th>\n",
       "      <th>num_procedures</th>\n",
       "    </tr>\n",
       "  </thead>\n",
       "  <tbody>\n",
       "    <tr>\n",
       "      <th>0</th>\n",
       "      <td>48330783</td>\n",
       "      <td>13.0</td>\n",
       "      <td>2</td>\n",
       "      <td>1</td>\n",
       "      <td>4</td>\n",
       "      <td>398</td>\n",
       "      <td>427|38</td>\n",
       "      <td>Ch</td>\n",
       "      <td>Caucasian</td>\n",
       "      <td>Female</td>\n",
       "      <td>[80-90)</td>\n",
       "      <td>0.0</td>\n",
       "      <td>0.0</td>\n",
       "      <td>1.0</td>\n",
       "      <td>0.0</td>\n",
       "      <td>0.0</td>\n",
       "      <td>0.0</td>\n",
       "      <td>0.0</td>\n",
       "      <td>0.0</td>\n",
       "      <td>0.0</td>\n",
       "      <td>1.0</td>\n",
       "      <td>0.0</td>\n",
       "      <td>0.0</td>\n",
       "      <td>0.0</td>\n",
       "      <td>0.0</td>\n",
       "      <td>0.0</td>\n",
       "      <td>0.0</td>\n",
       "      <td>0.0</td>\n",
       "      <td>0.0</td>\n",
       "      <td>0.0</td>\n",
       "      <td>0.0</td>\n",
       "      <td>0.0</td>\n",
       "      <td>0.0</td>\n",
       "      <td>68</td>\n",
       "      <td>8</td>\n",
       "      <td>28</td>\n",
       "      <td>2</td>\n",
       "    </tr>\n",
       "    <tr>\n",
       "      <th>1</th>\n",
       "      <td>63555939</td>\n",
       "      <td>12.0</td>\n",
       "      <td>3</td>\n",
       "      <td>3</td>\n",
       "      <td>4</td>\n",
       "      <td>434</td>\n",
       "      <td>198|486</td>\n",
       "      <td>Ch</td>\n",
       "      <td>Caucasian</td>\n",
       "      <td>Female</td>\n",
       "      <td>[90-100)</td>\n",
       "      <td>0.0</td>\n",
       "      <td>0.0</td>\n",
       "      <td>0.0</td>\n",
       "      <td>0.0</td>\n",
       "      <td>0.0</td>\n",
       "      <td>0.0</td>\n",
       "      <td>0.0</td>\n",
       "      <td>0.0</td>\n",
       "      <td>1.0</td>\n",
       "      <td>0.0</td>\n",
       "      <td>0.0</td>\n",
       "      <td>0.0</td>\n",
       "      <td>0.0</td>\n",
       "      <td>0.0</td>\n",
       "      <td>0.0</td>\n",
       "      <td>0.0</td>\n",
       "      <td>0.0</td>\n",
       "      <td>0.0</td>\n",
       "      <td>1.0</td>\n",
       "      <td>0.0</td>\n",
       "      <td>0.0</td>\n",
       "      <td>0.0</td>\n",
       "      <td>33</td>\n",
       "      <td>8</td>\n",
       "      <td>18</td>\n",
       "      <td>3</td>\n",
       "    </tr>\n",
       "    <tr>\n",
       "      <th>2</th>\n",
       "      <td>42519267</td>\n",
       "      <td>1.0</td>\n",
       "      <td>1</td>\n",
       "      <td>1</td>\n",
       "      <td>7</td>\n",
       "      <td>197</td>\n",
       "      <td>157|250</td>\n",
       "      <td>Ch</td>\n",
       "      <td>Caucasian</td>\n",
       "      <td>Male</td>\n",
       "      <td>[40-50)</td>\n",
       "      <td>0.0</td>\n",
       "      <td>0.0</td>\n",
       "      <td>1.0</td>\n",
       "      <td>0.0</td>\n",
       "      <td>0.0</td>\n",
       "      <td>0.0</td>\n",
       "      <td>0.0</td>\n",
       "      <td>0.0</td>\n",
       "      <td>1.0</td>\n",
       "      <td>0.0</td>\n",
       "      <td>0.0</td>\n",
       "      <td>0.0</td>\n",
       "      <td>0.0</td>\n",
       "      <td>0.0</td>\n",
       "      <td>0.0</td>\n",
       "      <td>0.0</td>\n",
       "      <td>0.0</td>\n",
       "      <td>0.0</td>\n",
       "      <td>0.0</td>\n",
       "      <td>0.0</td>\n",
       "      <td>0.0</td>\n",
       "      <td>0.0</td>\n",
       "      <td>51</td>\n",
       "      <td>5</td>\n",
       "      <td>8</td>\n",
       "      <td>0</td>\n",
       "    </tr>\n",
       "    <tr>\n",
       "      <th>3</th>\n",
       "      <td>89869032</td>\n",
       "      <td>9.0</td>\n",
       "      <td>1</td>\n",
       "      <td>1</td>\n",
       "      <td>7</td>\n",
       "      <td>250.7</td>\n",
       "      <td>403|996</td>\n",
       "      <td>No</td>\n",
       "      <td>AfricanAmerican</td>\n",
       "      <td>Female</td>\n",
       "      <td>[40-50)</td>\n",
       "      <td>0.0</td>\n",
       "      <td>0.0</td>\n",
       "      <td>0.0</td>\n",
       "      <td>0.0</td>\n",
       "      <td>0.0</td>\n",
       "      <td>0.0</td>\n",
       "      <td>0.0</td>\n",
       "      <td>0.0</td>\n",
       "      <td>1.0</td>\n",
       "      <td>0.0</td>\n",
       "      <td>0.0</td>\n",
       "      <td>0.0</td>\n",
       "      <td>0.0</td>\n",
       "      <td>0.0</td>\n",
       "      <td>0.0</td>\n",
       "      <td>0.0</td>\n",
       "      <td>0.0</td>\n",
       "      <td>0.0</td>\n",
       "      <td>0.0</td>\n",
       "      <td>0.0</td>\n",
       "      <td>0.0</td>\n",
       "      <td>0.0</td>\n",
       "      <td>47</td>\n",
       "      <td>9</td>\n",
       "      <td>17</td>\n",
       "      <td>2</td>\n",
       "    </tr>\n",
       "    <tr>\n",
       "      <th>4</th>\n",
       "      <td>82637451</td>\n",
       "      <td>3.0</td>\n",
       "      <td>2</td>\n",
       "      <td>1</td>\n",
       "      <td>2</td>\n",
       "      <td>414</td>\n",
       "      <td>411|250</td>\n",
       "      <td>No</td>\n",
       "      <td>Caucasian</td>\n",
       "      <td>Male</td>\n",
       "      <td>[50-60)</td>\n",
       "      <td>0.0</td>\n",
       "      <td>0.0</td>\n",
       "      <td>0.0</td>\n",
       "      <td>0.0</td>\n",
       "      <td>0.0</td>\n",
       "      <td>0.0</td>\n",
       "      <td>0.0</td>\n",
       "      <td>0.0</td>\n",
       "      <td>0.0</td>\n",
       "      <td>1.0</td>\n",
       "      <td>0.0</td>\n",
       "      <td>0.0</td>\n",
       "      <td>0.0</td>\n",
       "      <td>0.0</td>\n",
       "      <td>0.0</td>\n",
       "      <td>0.0</td>\n",
       "      <td>0.0</td>\n",
       "      <td>0.0</td>\n",
       "      <td>0.0</td>\n",
       "      <td>0.0</td>\n",
       "      <td>0.0</td>\n",
       "      <td>0.0</td>\n",
       "      <td>31</td>\n",
       "      <td>9</td>\n",
       "      <td>16</td>\n",
       "      <td>6</td>\n",
       "    </tr>\n",
       "  </tbody>\n",
       "</table>\n",
       "</div>"
      ],
      "text/plain": [
       "   patient_nbr  time_in_hospital admission_type_id discharge_disposition_id  \\\n",
       "0     48330783              13.0                 2                        1   \n",
       "1     63555939              12.0                 3                        3   \n",
       "2     42519267               1.0                 1                        1   \n",
       "3     89869032               9.0                 1                        1   \n",
       "4     82637451               3.0                 2                        1   \n",
       "\n",
       "  admission_source_id primary_diagnosis_code other_diagnosis_codes change  \\\n",
       "0                   4                    398                427|38     Ch   \n",
       "1                   4                    434               198|486     Ch   \n",
       "2                   7                    197               157|250     Ch   \n",
       "3                   7                  250.7               403|996     No   \n",
       "4                   2                    414               411|250     No   \n",
       "\n",
       "              race  gender       age Acarbose Glimepiride Glipizide  \\\n",
       "0        Caucasian  Female   [80-90)      0.0         0.0       1.0   \n",
       "1        Caucasian  Female  [90-100)      0.0         0.0       0.0   \n",
       "2        Caucasian    Male   [40-50)      0.0         0.0       1.0   \n",
       "3  AfricanAmerican  Female   [40-50)      0.0         0.0       0.0   \n",
       "4        Caucasian    Male   [50-60)      0.0         0.0       0.0   \n",
       "\n",
       "  Glipizide_And_Metformin_Hcl Glipizide_And_Metformin_Hydrochloride Glyburide  \\\n",
       "0                         0.0                                   0.0       0.0   \n",
       "1                         0.0                                   0.0       0.0   \n",
       "2                         0.0                                   0.0       0.0   \n",
       "3                         0.0                                   0.0       0.0   \n",
       "4                         0.0                                   0.0       0.0   \n",
       "\n",
       "  Glyburide_And_Metformin_Hydrochloride Glyburide-metformin_Hydrochloride  \\\n",
       "0                                   0.0                               0.0   \n",
       "1                                   0.0                               0.0   \n",
       "2                                   0.0                               0.0   \n",
       "3                                   0.0                               0.0   \n",
       "4                                   0.0                               0.0   \n",
       "\n",
       "  Human_Insulin Insulin_Human Metformin_Hcl Metformin_Hydrochloride Miglitol  \\\n",
       "0           0.0           1.0           0.0                     0.0      0.0   \n",
       "1           1.0           0.0           0.0                     0.0      0.0   \n",
       "2           1.0           0.0           0.0                     0.0      0.0   \n",
       "3           1.0           0.0           0.0                     0.0      0.0   \n",
       "4           0.0           1.0           0.0                     0.0      0.0   \n",
       "\n",
       "  Nateglinide Pioglitazole_And_Metformin_Hydrochloride Pioglitazone  \\\n",
       "0         0.0                                      0.0          0.0   \n",
       "1         0.0                                      0.0          0.0   \n",
       "2         0.0                                      0.0          0.0   \n",
       "3         0.0                                      0.0          0.0   \n",
       "4         0.0                                      0.0          0.0   \n",
       "\n",
       "  Pioglitazone_Hydrochloride_And_Glimepiride Repaglinide  \\\n",
       "0                                        0.0         0.0   \n",
       "1                                        0.0         0.0   \n",
       "2                                        0.0         0.0   \n",
       "3                                        0.0         0.0   \n",
       "4                                        0.0         0.0   \n",
       "\n",
       "  Rosiglitazone_Maleate Tolazamide Tolbutamide  payer_code_bin  \\\n",
       "0                   0.0        0.0         0.0             0.0   \n",
       "1                   1.0        0.0         0.0             0.0   \n",
       "2                   0.0        0.0         0.0             0.0   \n",
       "3                   0.0        0.0         0.0             0.0   \n",
       "4                   0.0        0.0         0.0             0.0   \n",
       "\n",
       "   num_lab_procedures  number_diagnoses  num_medications  num_procedures  \n",
       "0                  68                 8               28               2  \n",
       "1                  33                 8               18               3  \n",
       "2                  51                 5                8               0  \n",
       "3                  47                 9               17               2  \n",
       "4                  31                 9               16               6  "
      ]
     },
     "execution_count": 41,
     "metadata": {},
     "output_type": "execute_result"
    }
   ],
   "source": [
    "processed_df.head()\n"
   ]
  },
  {
   "cell_type": "markdown",
   "metadata": {},
   "source": [
    "## Split Dataset"
   ]
  },
  {
   "cell_type": "markdown",
   "metadata": {},
   "source": [
    "**Question 6**: In order to prepare the data for being trained and evaluated by a deep learning model, we will split the dataset into three partitions, with the validation partition used for optimizing the model hyperparameters during training. One of the key parts is that we need to be sure that the data does not accidently leak across partitions.\n",
    "\n",
    "Please complete the function below to split the input dataset into three partitions(train, validation, test) with the following requirements.\n",
    "- Approximately 60%/20%/20%  train/validation/test split\n",
    "- Randomly sample different patients into each data partition\n",
    "- **IMPORTANT** Make sure that a patient's data is not in more than one partition, so that we can avoid possible data leakage.\n",
    "- Make sure that the total number of unique patients across the splits is equal to the total number of unique patients in the original dataset\n",
    "- Total number of rows in original dataset = sum of rows across all three dataset partitions"
   ]
  },
  {
   "cell_type": "code",
   "execution_count": 42,
   "metadata": {},
   "outputs": [
    {
     "name": "stdout",
     "output_type": "stream",
     "text": [
      "Dataset is splited into train (42911, 60.00%), validation (14304, 20.00%), and test (14303, 20.00%)\n",
      "Training partition has a shape =  (42911, 37)\n",
      "Validation partition has a shape =  (14304, 37)\n",
      "Test partition has a shape =  (14303, 37)\n",
      "No overlapping among partitions.\n"
     ]
    }
   ],
   "source": [
    "# from student_utils import patient_dataset_splitter\n",
    "d_train, d_val, d_test = stu.patient_dataset_splitter(\n",
    "    processed_df, 'patient_nbr')\n"
   ]
  },
  {
   "cell_type": "code",
   "execution_count": 43,
   "metadata": {},
   "outputs": [
    {
     "name": "stdout",
     "output_type": "stream",
     "text": [
      "Test passed for number of total rows equal!\n"
     ]
    }
   ],
   "source": [
    "assert len(d_train) + len(d_val) + len(d_test) == len(processed_df)\n",
    "print(\"Test passed for number of total rows equal!\")\n"
   ]
  },
  {
   "cell_type": "code",
   "execution_count": 44,
   "metadata": {},
   "outputs": [
    {
     "name": "stdout",
     "output_type": "stream",
     "text": [
      "Test passed for number of unique patients being equal!\n"
     ]
    }
   ],
   "source": [
    "assert (d_train['patient_nbr'].nunique() + d_val['patient_nbr'].nunique() +\n",
    "        d_test['patient_nbr'].nunique()) == agg_drug_df['patient_nbr'].nunique()\n",
    "print(\"Test passed for number of unique patients being equal!\")\n"
   ]
  },
  {
   "cell_type": "markdown",
   "metadata": {},
   "source": [
    "### Demographic Representation Analysis of Split"
   ]
  },
  {
   "cell_type": "markdown",
   "metadata": {},
   "source": [
    "After the split, we should check to see the distribution of key features/groups and make sure that there is representative samples across the partitions. The show_group_stats_viz function in the utils.py file can be used to group and visualize different groups and dataframe partitions."
   ]
  },
  {
   "cell_type": "markdown",
   "metadata": {},
   "source": [
    "### Label Distribution Across Partitions"
   ]
  },
  {
   "cell_type": "markdown",
   "metadata": {},
   "source": [
    "Below you can see the distributution of the label across your splits. Are the histogram distribution shapes similar across partitions?\n",
    "\n",
    "**Student response**: Yes, they are pretty similar across partitions."
   ]
  },
  {
   "cell_type": "code",
   "execution_count": 45,
   "metadata": {},
   "outputs": [
    {
     "name": "stdout",
     "output_type": "stream",
     "text": [
      "time_in_hospital\n",
      "1.0     10717\n",
      "2.0     12397\n",
      "3.0     12701\n",
      "4.0      9567\n",
      "5.0      6839\n",
      "6.0      5171\n",
      "7.0      3999\n",
      "8.0      2919\n",
      "9.0      1990\n",
      "10.0     1558\n",
      "11.0     1241\n",
      "12.0      955\n",
      "13.0      795\n",
      "14.0      669\n",
      "dtype: int64\n",
      "AxesSubplot(0.125,0.125;0.775x0.755)\n"
     ]
    },
    {
     "data": {
      "image/png": "[encoded data removed]",
      "text/plain": [
       "<Figure size 432x288 with 1 Axes>"
      ]
     },
     "metadata": {
      "needs_background": "light"
     },
     "output_type": "display_data"
    }
   ],
   "source": [
    "show_group_stats_viz(processed_df, PREDICTOR_FIELD)"
   ]
  },
  {
   "cell_type": "code",
   "execution_count": 46,
   "metadata": {},
   "outputs": [
    {
     "name": "stdout",
     "output_type": "stream",
     "text": [
      "time_in_hospital\n",
      "1.0     6418\n",
      "2.0     7534\n",
      "3.0     7616\n",
      "4.0     5705\n",
      "5.0     4064\n",
      "6.0     3026\n",
      "7.0     2350\n",
      "8.0     1800\n",
      "9.0     1180\n",
      "10.0     962\n",
      "11.0     750\n",
      "12.0     573\n",
      "13.0     528\n",
      "14.0     405\n",
      "dtype: int64\n",
      "AxesSubplot(0.125,0.125;0.775x0.755)\n"
     ]
    },
    {
     "data": {
      "image/png": "[encoded data removed]",
      "text/plain": [
       "<Figure size 432x288 with 1 Axes>"
      ]
     },
     "metadata": {
      "needs_background": "light"
     },
     "output_type": "display_data"
    }
   ],
   "source": [
    "show_group_stats_viz(d_train, PREDICTOR_FIELD)"
   ]
  },
  {
   "cell_type": "code",
   "execution_count": 47,
   "metadata": {},
   "outputs": [
    {
     "name": "stdout",
     "output_type": "stream",
     "text": [
      "time_in_hospital\n",
      "1.0     2182\n",
      "2.0     2450\n",
      "3.0     2564\n",
      "4.0     1942\n",
      "5.0     1369\n",
      "6.0     1055\n",
      "7.0      824\n",
      "8.0      535\n",
      "9.0      380\n",
      "10.0     300\n",
      "11.0     243\n",
      "12.0     197\n",
      "13.0     137\n",
      "14.0     125\n",
      "dtype: int64\n",
      "AxesSubplot(0.125,0.125;0.775x0.755)\n"
     ]
    },
    {
     "data": {
      "image/png": "[encoded data removed]",
      "text/plain": [
       "<Figure size 432x288 with 1 Axes>"
      ]
     },
     "metadata": {
      "needs_background": "light"
     },
     "output_type": "display_data"
    }
   ],
   "source": [
    "show_group_stats_viz(d_test, PREDICTOR_FIELD)"
   ]
  },
  {
   "cell_type": "markdown",
   "metadata": {},
   "source": [
    "### Demographic Group Analysis"
   ]
  },
  {
   "cell_type": "markdown",
   "metadata": {},
   "source": [
    "We should check that our partitions/splits of the dataset are similar in terms of their demographic profiles. Below you can see how we might visualize and analyze the full dataset vs. the partitions."
   ]
  },
  {
   "cell_type": "code",
   "execution_count": 48,
   "metadata": {},
   "outputs": [
    {
     "name": "stdout",
     "output_type": "stream",
     "text": [
      "gender\n",
      "Female    38025\n",
      "Male      33490\n",
      "nan           3\n",
      "dtype: int64\n",
      "AxesSubplot(0.125,0.125;0.775x0.755)\n"
     ]
    },
    {
     "data": {
      "image/png": "[encoded data removed]",
      "text/plain": [
       "<Figure size 432x288 with 1 Axes>"
      ]
     },
     "metadata": {
      "needs_background": "light"
     },
     "output_type": "display_data"
    }
   ],
   "source": [
    "# Full dataset before splitting\n",
    "patient_demo_features = ['race', 'gender', 'age', 'patient_nbr']\n",
    "patient_group_analysis_df = processed_df[patient_demo_features].groupby(\n",
    "    'patient_nbr').head(1).reset_index(drop=True)\n",
    "show_group_stats_viz(patient_group_analysis_df, 'gender')\n"
   ]
  },
  {
   "cell_type": "code",
   "execution_count": 49,
   "metadata": {},
   "outputs": [
    {
     "name": "stdout",
     "output_type": "stream",
     "text": [
      "gender\n",
      "Female    22850\n",
      "Male      20061\n",
      "dtype: int64\n",
      "AxesSubplot(0.125,0.125;0.775x0.755)\n"
     ]
    },
    {
     "data": {
      "image/png": "[encoded data removed]",
      "text/plain": [
       "<Figure size 432x288 with 1 Axes>"
      ]
     },
     "metadata": {
      "needs_background": "light"
     },
     "output_type": "display_data"
    }
   ],
   "source": [
    "# Training partition\n",
    "show_group_stats_viz(d_train, 'gender')\n"
   ]
  },
  {
   "cell_type": "code",
   "execution_count": 50,
   "metadata": {},
   "outputs": [
    {
     "name": "stdout",
     "output_type": "stream",
     "text": [
      "gender\n",
      "Female    7590\n",
      "Male      6710\n",
      "nan          3\n",
      "dtype: int64\n",
      "AxesSubplot(0.125,0.125;0.775x0.755)\n"
     ]
    },
    {
     "data": {
      "image/png": "[encoded data removed]",
      "text/plain": [
       "<Figure size 432x288 with 1 Axes>"
      ]
     },
     "metadata": {
      "needs_background": "light"
     },
     "output_type": "display_data"
    }
   ],
   "source": [
    "# Test partition\n",
    "show_group_stats_viz(d_test, 'gender')\n"
   ]
  },
  {
   "cell_type": "markdown",
   "metadata": {},
   "source": [
    "### Convert Dataset Splits to TF Dataset"
   ]
  },
  {
   "cell_type": "markdown",
   "metadata": {},
   "source": [
    "We have provided you the function to convert the Pandas dataframe to TF tensors using the TF Dataset API. \n",
    "Please note that this is not a scalable method and for larger datasets, the 'make_csv_dataset' method is recommended -https://www.tensorflow.org/api_docs/python/tf/data/experimental/make_csv_dataset."
   ]
  },
  {
   "cell_type": "code",
   "execution_count": 51,
   "metadata": {},
   "outputs": [],
   "source": [
    "# Convert dataset from Pandas dataframes to TF dataset\n",
    "batch_size = 128\n",
    "diabetes_train_ds = df_to_dataset(\n",
    "    d_train, PREDICTOR_FIELD, batch_size=batch_size)\n",
    "diabetes_val_ds = df_to_dataset(d_val, PREDICTOR_FIELD, batch_size=batch_size)\n",
    "diabetes_test_ds = df_to_dataset(\n",
    "    d_test, PREDICTOR_FIELD, batch_size=batch_size)\n"
   ]
  },
  {
   "cell_type": "code",
   "execution_count": 52,
   "metadata": {},
   "outputs": [],
   "source": [
    "# We use this sample of the dataset to show transformations later\n",
    "diabetes_batch = next(iter(diabetes_train_ds))[0]\n",
    "\n",
    "def demo(feature_column, example_batch):\n",
    "    feature_layer = layers.DenseFeatures(feature_column)\n",
    "    print(feature_layer(example_batch))\n"
   ]
  },
  {
   "cell_type": "markdown",
   "metadata": {},
   "source": [
    "## Create Features with TF Feature Columns"
   ]
  },
  {
   "cell_type": "markdown",
   "metadata": {},
   "source": [
    "### Build Vocabulary for Categorical Features"
   ]
  },
  {
   "cell_type": "markdown",
   "metadata": {},
   "source": [
    "Before we can create the TF categorical features, we must first create the vocab files with the unique values for a given field that are from the **training** dataset. Below we have provided a function that you can use that only requires providing the pandas train dataset partition and the list of the categorical columns in a list format. The output variable 'vocab_file_list' will be a list of the file paths that can be used in the next step for creating the categorical features."
   ]
  },
  {
   "cell_type": "code",
   "execution_count": 53,
   "metadata": {},
   "outputs": [],
   "source": [
    "vocab_file_list = build_vocab_files(d_train, student_categorical_col_list)\n"
   ]
  },
  {
   "cell_type": "code",
   "execution_count": 54,
   "metadata": {},
   "outputs": [
    {
     "data": {
      "text/plain": [
       "'./diabetes_vocab/admission_type_id_vocab.txt'"
      ]
     },
     "execution_count": 54,
     "metadata": {},
     "output_type": "execute_result"
    }
   ],
   "source": [
    "vocab_file_list[0]\n"
   ]
  },
  {
   "cell_type": "markdown",
   "metadata": {},
   "source": [
    "### Create Categorical Features with Tensorflow Feature Column API"
   ]
  },
  {
   "cell_type": "markdown",
   "metadata": {},
   "source": [
    "**Question 7**: Using the vocab file list from above that was derived fromt the features you selected earlier, please create categorical features with the Tensorflow Feature Column API, https://www.tensorflow.org/api_docs/python/tf/feature_column. Below is a function to help guide you."
   ]
  },
  {
   "cell_type": "code",
   "execution_count": 55,
   "metadata": {
    "scrolled": true
   },
   "outputs": [
    {
     "name": "stdout",
     "output_type": "stream",
     "text": [
      "INFO:tensorflow:vocabulary_size = 9 in admission_type_id is inferred from the number of elements in the vocabulary_file ./diabetes_vocab/admission_type_id_vocab.txt.\n",
      "INFO:tensorflow:vocabulary_size = 26 in discharge_disposition_id is inferred from the number of elements in the vocabulary_file ./diabetes_vocab/discharge_disposition_id_vocab.txt.\n",
      "INFO:tensorflow:vocabulary_size = 17 in admission_source_id is inferred from the number of elements in the vocabulary_file ./diabetes_vocab/admission_source_id_vocab.txt.\n",
      "INFO:tensorflow:vocabulary_size = 654 in primary_diagnosis_code is inferred from the number of elements in the vocabulary_file ./diabetes_vocab/primary_diagnosis_code_vocab.txt.\n",
      "INFO:tensorflow:vocabulary_size = 11526 in other_diagnosis_codes is inferred from the number of elements in the vocabulary_file ./diabetes_vocab/other_diagnosis_codes_vocab.txt.\n",
      "INFO:tensorflow:vocabulary_size = 3 in change is inferred from the number of elements in the vocabulary_file ./diabetes_vocab/change_vocab.txt.\n",
      "INFO:tensorflow:vocabulary_size = 7 in race is inferred from the number of elements in the vocabulary_file ./diabetes_vocab/race_vocab.txt.\n",
      "INFO:tensorflow:vocabulary_size = 3 in gender is inferred from the number of elements in the vocabulary_file ./diabetes_vocab/gender_vocab.txt.\n",
      "INFO:tensorflow:vocabulary_size = 11 in age is inferred from the number of elements in the vocabulary_file ./diabetes_vocab/age_vocab.txt.\n",
      "INFO:tensorflow:vocabulary_size = 4 in Acarbose is inferred from the number of elements in the vocabulary_file ./diabetes_vocab/Acarbose_vocab.txt.\n",
      "INFO:tensorflow:vocabulary_size = 4 in Glimepiride is inferred from the number of elements in the vocabulary_file ./diabetes_vocab/Glimepiride_vocab.txt.\n",
      "INFO:tensorflow:vocabulary_size = 4 in Glipizide is inferred from the number of elements in the vocabulary_file ./diabetes_vocab/Glipizide_vocab.txt.\n",
      "INFO:tensorflow:vocabulary_size = 4 in Glipizide_And_Metformin_Hcl is inferred from the number of elements in the vocabulary_file ./diabetes_vocab/Glipizide_And_Metformin_Hcl_vocab.txt.\n",
      "INFO:tensorflow:vocabulary_size = 4 in Glipizide_And_Metformin_Hydrochloride is inferred from the number of elements in the vocabulary_file ./diabetes_vocab/Glipizide_And_Metformin_Hydrochloride_vocab.txt.\n",
      "INFO:tensorflow:vocabulary_size = 4 in Glyburide is inferred from the number of elements in the vocabulary_file ./diabetes_vocab/Glyburide_vocab.txt.\n",
      "INFO:tensorflow:vocabulary_size = 4 in Glyburide_And_Metformin_Hydrochloride is inferred from the number of elements in the vocabulary_file ./diabetes_vocab/Glyburide_And_Metformin_Hydrochloride_vocab.txt.\n",
      "INFO:tensorflow:vocabulary_size = 4 in Glyburide-metformin_Hydrochloride is inferred from the number of elements in the vocabulary_file ./diabetes_vocab/Glyburide-metformin_Hydrochloride_vocab.txt.\n",
      "INFO:tensorflow:vocabulary_size = 4 in Human_Insulin is inferred from the number of elements in the vocabulary_file ./diabetes_vocab/Human_Insulin_vocab.txt.\n",
      "INFO:tensorflow:vocabulary_size = 4 in Insulin_Human is inferred from the number of elements in the vocabulary_file ./diabetes_vocab/Insulin_Human_vocab.txt.\n",
      "INFO:tensorflow:vocabulary_size = 4 in Metformin_Hcl is inferred from the number of elements in the vocabulary_file ./diabetes_vocab/Metformin_Hcl_vocab.txt.\n",
      "INFO:tensorflow:vocabulary_size = 4 in Metformin_Hydrochloride is inferred from the number of elements in the vocabulary_file ./diabetes_vocab/Metformin_Hydrochloride_vocab.txt.\n",
      "INFO:tensorflow:vocabulary_size = 4 in Miglitol is inferred from the number of elements in the vocabulary_file ./diabetes_vocab/Miglitol_vocab.txt.\n",
      "INFO:tensorflow:vocabulary_size = 4 in Nateglinide is inferred from the number of elements in the vocabulary_file ./diabetes_vocab/Nateglinide_vocab.txt.\n",
      "INFO:tensorflow:vocabulary_size = 4 in Pioglitazole_And_Metformin_Hydrochloride is inferred from the number of elements in the vocabulary_file ./diabetes_vocab/Pioglitazole_And_Metformin_Hydrochloride_vocab.txt.\n",
      "INFO:tensorflow:vocabulary_size = 4 in Pioglitazone is inferred from the number of elements in the vocabulary_file ./diabetes_vocab/Pioglitazone_vocab.txt.\n",
      "INFO:tensorflow:vocabulary_size = 4 in Pioglitazone_Hydrochloride_And_Glimepiride is inferred from the number of elements in the vocabulary_file ./diabetes_vocab/Pioglitazone_Hydrochloride_And_Glimepiride_vocab.txt.\n",
      "INFO:tensorflow:vocabulary_size = 4 in Repaglinide is inferred from the number of elements in the vocabulary_file ./diabetes_vocab/Repaglinide_vocab.txt.\n",
      "INFO:tensorflow:vocabulary_size = 4 in Rosiglitazone_Maleate is inferred from the number of elements in the vocabulary_file ./diabetes_vocab/Rosiglitazone_Maleate_vocab.txt.\n",
      "INFO:tensorflow:vocabulary_size = 4 in Tolazamide is inferred from the number of elements in the vocabulary_file ./diabetes_vocab/Tolazamide_vocab.txt.\n",
      "INFO:tensorflow:vocabulary_size = 4 in Tolbutamide is inferred from the number of elements in the vocabulary_file ./diabetes_vocab/Tolbutamide_vocab.txt.\n"
     ]
    }
   ],
   "source": [
    "tf_cat_col_list = stu.create_tf_categorical_feature_cols(\n",
    "    student_categorical_col_list, d_train)\n"
   ]
  },
  {
   "cell_type": "code",
   "execution_count": 56,
   "metadata": {},
   "outputs": [
    {
     "name": "stdout",
     "output_type": "stream",
     "text": [
      "Example categorical field:\n",
      "IndicatorColumn(categorical_column=VocabularyFileCategoricalColumn(key='admission_type_id', vocabulary_file='./diabetes_vocab/admission_type_id_vocab.txt', vocabulary_size=9, num_oov_buckets=1, dtype=tf.string, default_value=-1))\n",
      "WARNING:tensorflow:Layer dense_features is casting an input tensor from dtype float64 to the layer's dtype of float32, which is new behavior in TensorFlow 2.  The layer has dtype float32 because it's dtype defaults to floatx.\n",
      "\n",
      "If you intended to run this layer in float32, you can safely ignore this warning. If in doubt, this warning is likely only an issue if you are porting a TensorFlow 1.X model to TensorFlow 2.\n",
      "\n",
      "To change all layers to have dtype float64 by default, call `tf.keras.backend.set_floatx('float64')`. To change just this layer, pass dtype='float64' to the layer constructor. If you are the author of this layer, you can disable autocasting by passing autocast=False to the base Layer constructor.\n",
      "\n",
      "WARNING:tensorflow:From /opt/conda/lib/python3.7/site-packages/tensorflow_core/python/feature_column/feature_column_v2.py:4267: IndicatorColumn._variable_shape (from tensorflow.python.feature_column.feature_column_v2) is deprecated and will be removed in a future version.\n",
      "Instructions for updating:\n",
      "The old _FeatureColumn APIs are being deprecated. Please use the new FeatureColumn APIs instead.\n",
      "WARNING:tensorflow:From /opt/conda/lib/python3.7/site-packages/tensorflow_core/python/feature_column/feature_column_v2.py:4322: VocabularyFileCategoricalColumn._num_buckets (from tensorflow.python.feature_column.feature_column_v2) is deprecated and will be removed in a future version.\n",
      "Instructions for updating:\n",
      "The old _FeatureColumn APIs are being deprecated. Please use the new FeatureColumn APIs instead.\n",
      "tf.Tensor(\n",
      "[[0. 0. 0. ... 0. 0. 0.]\n",
      " [0. 0. 1. ... 0. 0. 0.]\n",
      " [0. 0. 1. ... 0. 0. 0.]\n",
      " ...\n",
      " [0. 0. 1. ... 0. 0. 0.]\n",
      " [0. 0. 1. ... 0. 0. 0.]\n",
      " [0. 0. 1. ... 0. 0. 0.]], shape=(128, 10), dtype=float32)\n"
     ]
    }
   ],
   "source": [
    "test_cat_var1 = tf_cat_col_list[0]\n",
    "print(\"Example categorical field:\\n{}\".format(test_cat_var1))\n",
    "demo(test_cat_var1, diabetes_batch)"
   ]
  },
  {
   "cell_type": "markdown",
   "metadata": {},
   "source": [
    "### Create Numerical Features with TF Feature Columns"
   ]
  },
  {
   "cell_type": "markdown",
   "metadata": {},
   "source": [
    "**Question 8**: Using the TF Feature Column API(https://www.tensorflow.org/api_docs/python/tf/feature_column/), please create normalized Tensorflow numeric features for the model. Try to use the z-score normalizer function below to help as well as the 'calculate_stats_from_train_data' function."
   ]
  },
  {
   "cell_type": "markdown",
   "metadata": {},
   "source": [
    "For simplicity the create_tf_numerical_feature_cols function below uses the same normalizer function across all features(z-score normalization) but if you have time feel free to analyze and adapt the normalizer based off the statistical distributions. You may find this as a good resource in determining which transformation fits best for the data https://developers.google.com/machine-learning/data-prep/transform/normalization.\n"
   ]
  },
  {
   "cell_type": "code",
   "execution_count": 57,
   "metadata": {},
   "outputs": [],
   "source": [
    "from student_utils import create_tf_numeric_feature\n",
    "import functools\n"
   ]
  },
  {
   "cell_type": "code",
   "execution_count": 58,
   "metadata": {},
   "outputs": [],
   "source": [
    "def calculate_stats_from_train_data(df, col):\n",
    "    mean = df[col].describe()['mean']\n",
    "    std = df[col].describe()['std']\n",
    "    return mean, std\n",
    "\n",
    "\n",
    "def create_tf_numerical_feature_cols(numerical_col_list, train_df):\n",
    "    tf_numeric_col_list = []\n",
    "    for c in numerical_col_list:\n",
    "        mean, std = calculate_stats_from_train_data(train_df, c)\n",
    "        tf_numeric_feature = create_tf_numeric_feature(c, mean, std)\n",
    "        tf_numeric_col_list.append(tf_numeric_feature)\n",
    "    return tf_numeric_col_list\n"
   ]
  },
  {
   "cell_type": "code",
   "execution_count": 59,
   "metadata": {},
   "outputs": [],
   "source": [
    "tf_cont_col_list = create_tf_numerical_feature_cols(student_numerical_col_list, d_train)"
   ]
  },
  {
   "cell_type": "code",
   "execution_count": 60,
   "metadata": {
    "scrolled": true
   },
   "outputs": [
    {
     "name": "stdout",
     "output_type": "stream",
     "text": [
      "Example continuous field:\n",
      "NumericColumn(key='payer_code_bin', shape=(1,), default_value=(0,), dtype=tf.float64, normalizer_fn=functools.partial(<function normalize_numeric_with_zscore at 0x7f0872003200>, mean=0.046514879634592526, std=0.21059980815473528))\n",
      "\n",
      "WARNING:tensorflow:Layer dense_features_1 is casting an input tensor from dtype float64 to the layer's dtype of float32, which is new behavior in TensorFlow 2.  The layer has dtype float32 because it's dtype defaults to floatx.\n",
      "\n",
      "If you intended to run this layer in float32, you can safely ignore this warning. If in doubt, this warning is likely only an issue if you are porting a TensorFlow 1.X model to TensorFlow 2.\n",
      "\n",
      "To change all layers to have dtype float64 by default, call `tf.keras.backend.set_floatx('float64')`. To change just this layer, pass dtype='float64' to the layer constructor. If you are the author of this layer, you can disable autocasting by passing autocast=False to the base Layer constructor.\n",
      "\n",
      "tf.Tensor(\n",
      "[[-0.22086857]\n",
      " [-0.22086857]\n",
      " [-0.22086857]\n",
      " [-0.22086857]\n",
      " [ 4.527474  ]\n",
      " [-0.22086857]\n",
      " [-0.22086857]\n",
      " [-0.22086857]\n",
      " [-0.22086857]\n",
      " [-0.22086857]\n",
      " [-0.22086857]\n",
      " [-0.22086857]\n",
      " [-0.22086857]\n",
      " [-0.22086857]\n",
      " [-0.22086857]\n",
      " [-0.22086857]\n",
      " [-0.22086857]\n",
      " [-0.22086857]\n",
      " [-0.22086857]\n",
      " [-0.22086857]\n",
      " [-0.22086857]\n",
      " [-0.22086857]\n",
      " [-0.22086857]\n",
      " [-0.22086857]\n",
      " [-0.22086857]\n",
      " [-0.22086857]\n",
      " [-0.22086857]\n",
      " [-0.22086857]\n",
      " [-0.22086857]\n",
      " [-0.22086857]\n",
      " [-0.22086857]\n",
      " [-0.22086857]\n",
      " [-0.22086857]\n",
      " [ 4.527474  ]\n",
      " [-0.22086857]\n",
      " [-0.22086857]\n",
      " [ 4.527474  ]\n",
      " [-0.22086857]\n",
      " [-0.22086857]\n",
      " [-0.22086857]\n",
      " [ 4.527474  ]\n",
      " [-0.22086857]\n",
      " [-0.22086857]\n",
      " [-0.22086857]\n",
      " [-0.22086857]\n",
      " [-0.22086857]\n",
      " [-0.22086857]\n",
      " [-0.22086857]\n",
      " [-0.22086857]\n",
      " [-0.22086857]\n",
      " [-0.22086857]\n",
      " [-0.22086857]\n",
      " [-0.22086857]\n",
      " [-0.22086857]\n",
      " [-0.22086857]\n",
      " [-0.22086857]\n",
      " [-0.22086857]\n",
      " [-0.22086857]\n",
      " [-0.22086857]\n",
      " [-0.22086857]\n",
      " [-0.22086857]\n",
      " [-0.22086857]\n",
      " [-0.22086857]\n",
      " [-0.22086857]\n",
      " [-0.22086857]\n",
      " [-0.22086857]\n",
      " [ 4.527474  ]\n",
      " [-0.22086857]\n",
      " [-0.22086857]\n",
      " [-0.22086857]\n",
      " [-0.22086857]\n",
      " [-0.22086857]\n",
      " [-0.22086857]\n",
      " [-0.22086857]\n",
      " [-0.22086857]\n",
      " [-0.22086857]\n",
      " [-0.22086857]\n",
      " [-0.22086857]\n",
      " [-0.22086857]\n",
      " [-0.22086857]\n",
      " [-0.22086857]\n",
      " [-0.22086857]\n",
      " [-0.22086857]\n",
      " [-0.22086857]\n",
      " [-0.22086857]\n",
      " [-0.22086857]\n",
      " [-0.22086857]\n",
      " [-0.22086857]\n",
      " [-0.22086857]\n",
      " [-0.22086857]\n",
      " [-0.22086857]\n",
      " [-0.22086857]\n",
      " [-0.22086857]\n",
      " [-0.22086857]\n",
      " [-0.22086857]\n",
      " [-0.22086857]\n",
      " [ 4.527474  ]\n",
      " [-0.22086857]\n",
      " [-0.22086857]\n",
      " [-0.22086857]\n",
      " [-0.22086857]\n",
      " [-0.22086857]\n",
      " [-0.22086857]\n",
      " [-0.22086857]\n",
      " [-0.22086857]\n",
      " [-0.22086857]\n",
      " [-0.22086857]\n",
      " [-0.22086857]\n",
      " [-0.22086857]\n",
      " [-0.22086857]\n",
      " [-0.22086857]\n",
      " [-0.22086857]\n",
      " [-0.22086857]\n",
      " [-0.22086857]\n",
      " [-0.22086857]\n",
      " [-0.22086857]\n",
      " [-0.22086857]\n",
      " [-0.22086857]\n",
      " [-0.22086857]\n",
      " [-0.22086857]\n",
      " [-0.22086857]\n",
      " [-0.22086857]\n",
      " [-0.22086857]\n",
      " [-0.22086857]\n",
      " [-0.22086857]\n",
      " [-0.22086857]\n",
      " [-0.22086857]\n",
      " [-0.22086857]], shape=(128, 1), dtype=float32)\n"
     ]
    }
   ],
   "source": [
    "test_cont_var1 = tf_cont_col_list[0]\n",
    "print(\"Example continuous field:\\n{}\\n\".format(test_cont_var1))\n",
    "demo(test_cont_var1, diabetes_batch)\n"
   ]
  },
  {
   "cell_type": "markdown",
   "metadata": {},
   "source": [
    "## Build Model"
   ]
  },
  {
   "cell_type": "markdown",
   "metadata": {},
   "source": [
    "### Use DenseFeatures to combine features for model"
   ]
  },
  {
   "cell_type": "markdown",
   "metadata": {},
   "source": [
    "Now that we have prepared categorical and numerical features using Tensorflow's Feature Column API, we can combine them into a dense vector representation for the model. Below we will create this new input layer, which we will call 'claim_feature_layer'."
   ]
  },
  {
   "cell_type": "code",
   "execution_count": 61,
   "metadata": {},
   "outputs": [],
   "source": [
    "claim_feature_columns = tf_cat_col_list + tf_cont_col_list\n",
    "claim_feature_layer = tf.keras.layers.DenseFeatures(claim_feature_columns)\n"
   ]
  },
  {
   "cell_type": "markdown",
   "metadata": {},
   "source": [
    "### Build Sequential API Model from DenseFeatures and TF Probability Layers"
   ]
  },
  {
   "cell_type": "markdown",
   "metadata": {},
   "source": [
    "Below we have provided some boilerplate code for building a model that connects the Sequential API, DenseFeatures, and Tensorflow Probability layers into a deep learning model. There are many opportunities to further optimize and explore different architectures through benchmarking and testing approaches in various research papers, loss and evaluation metrics, learning curves, hyperparameter tuning, TF probability layers, etc. Feel free to modify and explore as you wish."
   ]
  },
  {
   "cell_type": "markdown",
   "metadata": {},
   "source": [
    "**OPTIONAL**: Come up with a more optimal neural network architecture and hyperparameters. Share the process in discovering the architecture and hyperparameters.\n"
   ]
  },
  {
   "cell_type": "code",
   "execution_count": 62,
   "metadata": {},
   "outputs": [],
   "source": [
    "def build_sequential_model(feature_layer):\n",
    "    model = tf.keras.Sequential([\n",
    "        feature_layer,\n",
    "        tf.keras.layers.Dense(128, activation='relu'),\n",
    "        tf.keras.layers.Dense(64, activation='relu'),\n",
    "        tfp.layers.DenseVariational(\n",
    "            1+1, posterior_mean_field, prior_trainable),\n",
    "        tfp.layers.DistributionLambda(\n",
    "            lambda t:tfp.distributions.Normal(loc=t[..., :1],\n",
    "                                              scale=1e-3 +\n",
    "                                              tf.math.softplus(\n",
    "                                                  0.01 * t[..., 1:])\n",
    "                                              )\n",
    "        ),\n",
    "    ])\n",
    "    return model\n",
    "\n",
    "\n",
    "def build_diabetes_model(train_ds, val_ds,  feature_layer,  epochs=30, loss_metric='mse'):\n",
    "    model = build_sequential_model(feature_layer)\n",
    "    model.compile(optimizer=tf.keras.optimizers.RMSprop(\n",
    "        lr=1e-3), loss=loss_metric, metrics=[loss_metric])\n",
    "    early_stop = tf.keras.callbacks.EarlyStopping(\n",
    "        monitor=loss_metric, patience=5)\n",
    "    # reduceLR = tf.keras.callbacks.ReduceLROnPlateau(monitor=loss_metric, factor=0.1,\n",
    "    #                                                 patience=3, min_lr=1e-6)\n",
    "    history = model.fit(train_ds, validation_data=val_ds,\n",
    "                        callbacks=[early_stop],\n",
    "                        epochs=epochs)\n",
    "    return model, history\n"
   ]
  },
  {
   "cell_type": "code",
   "execution_count": 63,
   "metadata": {
    "scrolled": false
   },
   "outputs": [
    {
     "name": "stdout",
     "output_type": "stream",
     "text": [
      "Train for 336 steps, validate for 112 steps\n",
      "Epoch 1/30\n",
      "336/336 [==============================] - 21s 64ms/step - loss: 25.2507 - mse: 25.0779 - val_loss: 19.6061 - val_mse: 19.1918\n",
      "Epoch 2/30\n",
      "336/336 [==============================] - 12s 36ms/step - loss: 17.7368 - mse: 17.2662 - val_loss: 15.8800 - val_mse: 15.2098\n",
      "Epoch 3/30\n",
      "336/336 [==============================] - 11s 34ms/step - loss: 13.6167 - mse: 12.8296 - val_loss: 11.6297 - val_mse: 10.7720\n",
      "Epoch 4/30\n",
      "336/336 [==============================] - 12s 36ms/step - loss: 11.7220 - mse: 10.8856 - val_loss: 11.7548 - val_mse: 10.9571\n",
      "Epoch 5/30\n",
      "336/336 [==============================] - 12s 37ms/step - loss: 10.9302 - mse: 10.1627 - val_loss: 9.9854 - val_mse: 8.9136\n",
      "Epoch 6/30\n",
      "336/336 [==============================] - 12s 37ms/step - loss: 10.2993 - mse: 9.4935 - val_loss: 8.9781 - val_mse: 7.9992\n",
      "Epoch 7/30\n",
      "336/336 [==============================] - 13s 38ms/step - loss: 9.5700 - mse: 8.7292 - val_loss: 8.2239 - val_mse: 7.3863\n",
      "Epoch 8/30\n",
      "336/336 [==============================] - 12s 37ms/step - loss: 8.8574 - mse: 7.9533 - val_loss: 8.5061 - val_mse: 7.7113\n",
      "Epoch 9/30\n",
      "336/336 [==============================] - 12s 37ms/step - loss: 8.5520 - mse: 7.6835 - val_loss: 8.0046 - val_mse: 7.1230\n",
      "Epoch 10/30\n",
      "336/336 [==============================] - 13s 38ms/step - loss: 8.0438 - mse: 7.3033 - val_loss: 7.7829 - val_mse: 6.8925\n",
      "Epoch 11/30\n",
      "336/336 [==============================] - 12s 35ms/step - loss: 8.1073 - mse: 7.3210 - val_loss: 8.0077 - val_mse: 7.0210\n",
      "Epoch 12/30\n",
      "336/336 [==============================] - 11s 33ms/step - loss: 8.1013 - mse: 7.1758 - val_loss: 7.8116 - val_mse: 7.0462\n",
      "Epoch 13/30\n",
      "336/336 [==============================] - 12s 36ms/step - loss: 7.6972 - mse: 6.8994 - val_loss: 8.2938 - val_mse: 7.2141\n",
      "Epoch 14/30\n",
      "336/336 [==============================] - 12s 37ms/step - loss: 7.4995 - mse: 6.7370 - val_loss: 7.8367 - val_mse: 7.0315\n",
      "Epoch 15/30\n",
      "336/336 [==============================] - 12s 36ms/step - loss: 7.5542 - mse: 6.6539 - val_loss: 7.5464 - val_mse: 7.0410\n",
      "Epoch 16/30\n",
      "336/336 [==============================] - 11s 33ms/step - loss: 7.3045 - mse: 6.5126 - val_loss: 8.1393 - val_mse: 7.2635\n",
      "Epoch 17/30\n",
      "336/336 [==============================] - 12s 36ms/step - loss: 7.1649 - mse: 6.4241 - val_loss: 7.4586 - val_mse: 6.8236\n",
      "Epoch 18/30\n",
      "336/336 [==============================] - 12s 37ms/step - loss: 7.3502 - mse: 6.4624 - val_loss: 7.6768 - val_mse: 6.7952\n",
      "Epoch 19/30\n",
      "336/336 [==============================] - 13s 37ms/step - loss: 7.1643 - mse: 6.2671 - val_loss: 8.2051 - val_mse: 7.4973\n",
      "Epoch 20/30\n",
      "336/336 [==============================] - 12s 34ms/step - loss: 7.0811 - mse: 6.2940 - val_loss: 6.9311 - val_mse: 6.2931\n",
      "Epoch 21/30\n",
      "336/336 [==============================] - 11s 33ms/step - loss: 6.8507 - mse: 6.0672 - val_loss: 7.6967 - val_mse: 6.9923\n",
      "Epoch 22/30\n",
      "336/336 [==============================] - 12s 35ms/step - loss: 6.7864 - mse: 5.9875 - val_loss: 7.4001 - val_mse: 6.5965\n",
      "Epoch 23/30\n",
      "336/336 [==============================] - 12s 36ms/step - loss: 6.5164 - mse: 5.7142 - val_loss: 7.4668 - val_mse: 6.5097\n",
      "Epoch 24/30\n",
      "336/336 [==============================] - 12s 37ms/step - loss: 6.6549 - mse: 5.7973 - val_loss: 7.0809 - val_mse: 6.3429\n",
      "Epoch 25/30\n",
      "336/336 [==============================] - 11s 33ms/step - loss: 6.3182 - mse: 5.5284 - val_loss: 7.6080 - val_mse: 6.8062\n",
      "Epoch 26/30\n",
      "336/336 [==============================] - 12s 35ms/step - loss: 6.4719 - mse: 5.6398 - val_loss: 7.1096 - val_mse: 6.2817\n",
      "Epoch 27/30\n",
      "336/336 [==============================] - 11s 34ms/step - loss: 6.4473 - mse: 5.6700 - val_loss: 6.8969 - val_mse: 6.1816\n",
      "Epoch 28/30\n",
      "336/336 [==============================] - 13s 37ms/step - loss: 6.2595 - mse: 5.4620 - val_loss: 7.0469 - val_mse: 6.3556\n",
      "Epoch 29/30\n",
      "336/336 [==============================] - 12s 35ms/step - loss: 6.3473 - mse: 5.5184 - val_loss: 7.1116 - val_mse: 6.3537\n",
      "Epoch 30/30\n",
      "336/336 [==============================] - 11s 33ms/step - loss: 6.3094 - mse: 5.5244 - val_loss: 7.5118 - val_mse: 6.6036\n"
     ]
    }
   ],
   "source": [
    "diabetes_model, history = build_diabetes_model(\n",
    "    diabetes_train_ds, diabetes_val_ds, claim_feature_layer)\n"
   ]
  },
  {
   "cell_type": "code",
   "execution_count": 64,
   "metadata": {},
   "outputs": [
    {
     "data": {
      "image/png": "[encoded data removed]",
      "text/plain": [
       "<Figure size 864x432 with 2 Axes>"
      ]
     },
     "metadata": {
      "needs_background": "light"
     },
     "output_type": "display_data"
    }
   ],
   "source": [
    "stu.plot_history(history)"
   ]
  },
  {
   "cell_type": "markdown",
   "metadata": {},
   "source": [
    "## Process Model's Prediction Outputs"
   ]
  },
  {
   "cell_type": "markdown",
   "metadata": {},
   "source": [
    "**Question 9**: Now that we have trained a model with TF Probability layers, we can extract the mean and standard deviation for each prediction. Please fill in the answer for the m and s variables below."
   ]
  },
  {
   "cell_type": "code",
   "execution_count": 65,
   "metadata": {},
   "outputs": [],
   "source": [
    "feature_list = student_categorical_col_list + student_numerical_col_list\n",
    "diabetes_x_tst = dict(d_test[feature_list])\n",
    "diabetes_yhat = diabetes_model(diabetes_x_tst)\n",
    "preds = diabetes_model.predict(diabetes_test_ds)\n"
   ]
  },
  {
   "cell_type": "code",
   "execution_count": 66,
   "metadata": {},
   "outputs": [],
   "source": [
    "m, s = stu.get_mean_std_from_preds(diabetes_yhat)\n"
   ]
  },
  {
   "cell_type": "markdown",
   "metadata": {},
   "source": [
    "### Show Prediction Output "
   ]
  },
  {
   "cell_type": "code",
   "execution_count": 67,
   "metadata": {},
   "outputs": [],
   "source": [
    "prob_outputs = {\n",
    "    \"pred\": preds.flatten(),\n",
    "    \"actual_value\": d_test['time_in_hospital'].values,\n",
    "    \"pred_mean\": m.numpy().flatten(),\n",
    "    \"pred_std\": s.numpy().flatten()\n",
    "}\n",
    "prob_output_df = pd.DataFrame(prob_outputs)\n"
   ]
  },
  {
   "cell_type": "code",
   "execution_count": 68,
   "metadata": {},
   "outputs": [
    {
     "data": {
      "text/html": [
       "<div>\n",
       "<style scoped>\n",
       "    .dataframe tbody tr th:only-of-type {\n",
       "        vertical-align: middle;\n",
       "    }\n",
       "\n",
       "    .dataframe tbody tr th {\n",
       "        vertical-align: top;\n",
       "    }\n",
       "\n",
       "    .dataframe thead th {\n",
       "        text-align: right;\n",
       "    }\n",
       "</style>\n",
       "<table border=\"1\" class=\"dataframe\">\n",
       "  <thead>\n",
       "    <tr style=\"text-align: right;\">\n",
       "      <th></th>\n",
       "      <th>pred</th>\n",
       "      <th>actual_value</th>\n",
       "      <th>pred_mean</th>\n",
       "      <th>pred_std</th>\n",
       "    </tr>\n",
       "  </thead>\n",
       "  <tbody>\n",
       "    <tr>\n",
       "      <th>0</th>\n",
       "      <td>1.847066</td>\n",
       "      <td>5.0</td>\n",
       "      <td>3.284983</td>\n",
       "      <td>0.703686</td>\n",
       "    </tr>\n",
       "    <tr>\n",
       "      <th>1</th>\n",
       "      <td>3.323271</td>\n",
       "      <td>5.0</td>\n",
       "      <td>3.160859</td>\n",
       "      <td>0.702637</td>\n",
       "    </tr>\n",
       "    <tr>\n",
       "      <th>2</th>\n",
       "      <td>2.606595</td>\n",
       "      <td>2.0</td>\n",
       "      <td>1.897070</td>\n",
       "      <td>0.701917</td>\n",
       "    </tr>\n",
       "    <tr>\n",
       "      <th>3</th>\n",
       "      <td>2.877123</td>\n",
       "      <td>5.0</td>\n",
       "      <td>4.805962</td>\n",
       "      <td>0.703693</td>\n",
       "    </tr>\n",
       "    <tr>\n",
       "      <th>4</th>\n",
       "      <td>2.800219</td>\n",
       "      <td>13.0</td>\n",
       "      <td>5.265440</td>\n",
       "      <td>0.705145</td>\n",
       "    </tr>\n",
       "  </tbody>\n",
       "</table>\n",
       "</div>"
      ],
      "text/plain": [
       "       pred  actual_value  pred_mean  pred_std\n",
       "0  1.847066           5.0   3.284983  0.703686\n",
       "1  3.323271           5.0   3.160859  0.702637\n",
       "2  2.606595           2.0   1.897070  0.701917\n",
       "3  2.877123           5.0   4.805962  0.703693\n",
       "4  2.800219          13.0   5.265440  0.705145"
      ]
     },
     "execution_count": 68,
     "metadata": {},
     "output_type": "execute_result"
    }
   ],
   "source": [
    "prob_output_df.head() "
   ]
  },
  {
   "cell_type": "markdown",
   "metadata": {},
   "source": [
    "### Convert Regression Output to Classification Output for Patient Selection"
   ]
  },
  {
   "cell_type": "markdown",
   "metadata": {},
   "source": [
    "**Question 10**: Given the output predictions, convert it to a binary label for whether the patient meets the time criteria or does not (HINT: use the mean prediction numpy array). The expected output is a numpy array with a 1 or 0 based off if the prediction meets or doesnt meet the criteria."
   ]
  },
  {
   "cell_type": "code",
   "execution_count": 69,
   "metadata": {},
   "outputs": [],
   "source": [
    "from student_utils import get_student_binary_prediction\n",
    "student_binary_prediction = get_student_binary_prediction(\n",
    "    prob_output_df, 'pred_mean')\n"
   ]
  },
  {
   "cell_type": "markdown",
   "metadata": {},
   "source": [
    "### Add Binary Prediction to Test Dataframe"
   ]
  },
  {
   "cell_type": "markdown",
   "metadata": {},
   "source": [
    "Using the student_binary_prediction output that is a numpy array with binary labels, we can use this to add to a dataframe to better visualize and also to prepare the data for the Aequitas toolkit. The Aequitas toolkit requires that the predictions be mapped to a binary label for the predictions (called 'score' field) and the actual value (called 'label_value')."
   ]
  },
  {
   "cell_type": "code",
   "execution_count": 70,
   "metadata": {},
   "outputs": [],
   "source": [
    "def add_pred_to_test(test_df, pred_np, demo_col_list):\n",
    "    for c in demo_col_list:\n",
    "        test_df[c] = test_df[c].astype(str)\n",
    "    test_df['score'] = pred_np\n",
    "    test_df['label_value'] = test_df['time_in_hospital'].apply(\n",
    "        lambda x: 1 if x >= 5 else 0)\n",
    "    return test_df\n",
    "\n",
    "\n",
    "pred_test_df = add_pred_to_test(\n",
    "    d_test, student_binary_prediction, ['race', 'gender'])\n"
   ]
  },
  {
   "cell_type": "code",
   "execution_count": 71,
   "metadata": {},
   "outputs": [],
   "source": [
    "ptd = pred_test_df[['patient_nbr', 'gender', 'race',\n",
    "                    'time_in_hospital', 'score', 'label_value']]\n"
   ]
  },
  {
   "cell_type": "code",
   "execution_count": 72,
   "metadata": {},
   "outputs": [],
   "source": [
    "a = DDM + num + ['score', 'label_value'] "
   ]
  },
  {
   "cell_type": "code",
   "execution_count": 73,
   "metadata": {},
   "outputs": [],
   "source": [
    "ptd = pred_test_df[a]"
   ]
  },
  {
   "cell_type": "code",
   "execution_count": 74,
   "metadata": {},
   "outputs": [
    {
     "data": {
      "text/html": [
       "<div>\n",
       "<style scoped>\n",
       "    .dataframe tbody tr th:only-of-type {\n",
       "        vertical-align: middle;\n",
       "    }\n",
       "\n",
       "    .dataframe tbody tr th {\n",
       "        vertical-align: top;\n",
       "    }\n",
       "\n",
       "    .dataframe thead th {\n",
       "        text-align: right;\n",
       "    }\n",
       "</style>\n",
       "<table border=\"1\" class=\"dataframe\">\n",
       "  <thead>\n",
       "    <tr style=\"text-align: right;\">\n",
       "      <th></th>\n",
       "      <th>admission_type_id</th>\n",
       "      <th>discharge_disposition_id</th>\n",
       "      <th>admission_source_id</th>\n",
       "      <th>primary_diagnosis_code</th>\n",
       "      <th>other_diagnosis_codes</th>\n",
       "      <th>change</th>\n",
       "      <th>payer_code_bin</th>\n",
       "      <th>num_lab_procedures</th>\n",
       "      <th>number_diagnoses</th>\n",
       "      <th>num_medications</th>\n",
       "      <th>num_procedures</th>\n",
       "      <th>score</th>\n",
       "      <th>label_value</th>\n",
       "    </tr>\n",
       "  </thead>\n",
       "  <tbody>\n",
       "    <tr>\n",
       "      <th>4</th>\n",
       "      <td>6</td>\n",
       "      <td>2</td>\n",
       "      <td>4</td>\n",
       "      <td>998</td>\n",
       "      <td>996|41</td>\n",
       "      <td>Ch</td>\n",
       "      <td>0.0</td>\n",
       "      <td>44</td>\n",
       "      <td>6</td>\n",
       "      <td>29</td>\n",
       "      <td>2</td>\n",
       "      <td>1</td>\n",
       "      <td>1</td>\n",
       "    </tr>\n",
       "    <tr>\n",
       "      <th>13</th>\n",
       "      <td>1</td>\n",
       "      <td>3</td>\n",
       "      <td>7</td>\n",
       "      <td>426</td>\n",
       "      <td>428|518</td>\n",
       "      <td>Ch</td>\n",
       "      <td>0.0</td>\n",
       "      <td>36</td>\n",
       "      <td>9</td>\n",
       "      <td>25</td>\n",
       "      <td>2</td>\n",
       "      <td>1</td>\n",
       "      <td>1</td>\n",
       "    </tr>\n",
       "    <tr>\n",
       "      <th>19</th>\n",
       "      <td>1</td>\n",
       "      <td>3</td>\n",
       "      <td>7</td>\n",
       "      <td>507</td>\n",
       "      <td>428|250.02</td>\n",
       "      <td>No</td>\n",
       "      <td>0.0</td>\n",
       "      <td>34</td>\n",
       "      <td>7</td>\n",
       "      <td>18</td>\n",
       "      <td>2</td>\n",
       "      <td>1</td>\n",
       "      <td>1</td>\n",
       "    </tr>\n",
       "    <tr>\n",
       "      <th>20</th>\n",
       "      <td>6</td>\n",
       "      <td>6</td>\n",
       "      <td>17</td>\n",
       "      <td>424</td>\n",
       "      <td>427|428</td>\n",
       "      <td>Ch</td>\n",
       "      <td>0.0</td>\n",
       "      <td>76</td>\n",
       "      <td>9</td>\n",
       "      <td>49</td>\n",
       "      <td>4</td>\n",
       "      <td>1</td>\n",
       "      <td>1</td>\n",
       "    </tr>\n",
       "    <tr>\n",
       "      <th>21</th>\n",
       "      <td>3</td>\n",
       "      <td>22</td>\n",
       "      <td>1</td>\n",
       "      <td>414</td>\n",
       "      <td>427|427</td>\n",
       "      <td>Ch</td>\n",
       "      <td>0.0</td>\n",
       "      <td>47</td>\n",
       "      <td>9</td>\n",
       "      <td>63</td>\n",
       "      <td>3</td>\n",
       "      <td>1</td>\n",
       "      <td>1</td>\n",
       "    </tr>\n",
       "    <tr>\n",
       "      <th>28</th>\n",
       "      <td>5</td>\n",
       "      <td>6</td>\n",
       "      <td>17</td>\n",
       "      <td>823</td>\n",
       "      <td>250.03|E880</td>\n",
       "      <td>Ch</td>\n",
       "      <td>0.0</td>\n",
       "      <td>17</td>\n",
       "      <td>6</td>\n",
       "      <td>15</td>\n",
       "      <td>3</td>\n",
       "      <td>1</td>\n",
       "      <td>0</td>\n",
       "    </tr>\n",
       "    <tr>\n",
       "      <th>29</th>\n",
       "      <td>1</td>\n",
       "      <td>1</td>\n",
       "      <td>7</td>\n",
       "      <td>250.22</td>\n",
       "      <td>276|788</td>\n",
       "      <td>Ch</td>\n",
       "      <td>0.0</td>\n",
       "      <td>72</td>\n",
       "      <td>8</td>\n",
       "      <td>15</td>\n",
       "      <td>3</td>\n",
       "      <td>1</td>\n",
       "      <td>1</td>\n",
       "    </tr>\n",
       "    <tr>\n",
       "      <th>34</th>\n",
       "      <td>1</td>\n",
       "      <td>1</td>\n",
       "      <td>7</td>\n",
       "      <td>577</td>\n",
       "      <td>574|535</td>\n",
       "      <td>No</td>\n",
       "      <td>0.0</td>\n",
       "      <td>56</td>\n",
       "      <td>9</td>\n",
       "      <td>13</td>\n",
       "      <td>4</td>\n",
       "      <td>1</td>\n",
       "      <td>0</td>\n",
       "    </tr>\n",
       "    <tr>\n",
       "      <th>36</th>\n",
       "      <td>1</td>\n",
       "      <td>6</td>\n",
       "      <td>7</td>\n",
       "      <td>162</td>\n",
       "      <td>491|553</td>\n",
       "      <td>No</td>\n",
       "      <td>0.0</td>\n",
       "      <td>42</td>\n",
       "      <td>9</td>\n",
       "      <td>23</td>\n",
       "      <td>1</td>\n",
       "      <td>1</td>\n",
       "      <td>0</td>\n",
       "    </tr>\n",
       "    <tr>\n",
       "      <th>38</th>\n",
       "      <td>2</td>\n",
       "      <td>1</td>\n",
       "      <td>1</td>\n",
       "      <td>410</td>\n",
       "      <td>285|250.01</td>\n",
       "      <td>Ch</td>\n",
       "      <td>0.0</td>\n",
       "      <td>75</td>\n",
       "      <td>6</td>\n",
       "      <td>33</td>\n",
       "      <td>6</td>\n",
       "      <td>1</td>\n",
       "      <td>1</td>\n",
       "    </tr>\n",
       "  </tbody>\n",
       "</table>\n",
       "</div>"
      ],
      "text/plain": [
       "   admission_type_id discharge_disposition_id admission_source_id  \\\n",
       "4                  6                        2                   4   \n",
       "13                 1                        3                   7   \n",
       "19                 1                        3                   7   \n",
       "20                 6                        6                  17   \n",
       "21                 3                       22                   1   \n",
       "28                 5                        6                  17   \n",
       "29                 1                        1                   7   \n",
       "34                 1                        1                   7   \n",
       "36                 1                        6                   7   \n",
       "38                 2                        1                   1   \n",
       "\n",
       "   primary_diagnosis_code other_diagnosis_codes change  payer_code_bin  \\\n",
       "4                     998                996|41     Ch             0.0   \n",
       "13                    426               428|518     Ch             0.0   \n",
       "19                    507            428|250.02     No             0.0   \n",
       "20                    424               427|428     Ch             0.0   \n",
       "21                    414               427|427     Ch             0.0   \n",
       "28                    823           250.03|E880     Ch             0.0   \n",
       "29                 250.22               276|788     Ch             0.0   \n",
       "34                    577               574|535     No             0.0   \n",
       "36                    162               491|553     No             0.0   \n",
       "38                    410            285|250.01     Ch             0.0   \n",
       "\n",
       "    num_lab_procedures  number_diagnoses  num_medications  num_procedures  \\\n",
       "4                   44                 6               29               2   \n",
       "13                  36                 9               25               2   \n",
       "19                  34                 7               18               2   \n",
       "20                  76                 9               49               4   \n",
       "21                  47                 9               63               3   \n",
       "28                  17                 6               15               3   \n",
       "29                  72                 8               15               3   \n",
       "34                  56                 9               13               4   \n",
       "36                  42                 9               23               1   \n",
       "38                  75                 6               33               6   \n",
       "\n",
       "    score  label_value  \n",
       "4       1            1  \n",
       "13      1            1  \n",
       "19      1            1  \n",
       "20      1            1  \n",
       "21      1            1  \n",
       "28      1            0  \n",
       "29      1            1  \n",
       "34      1            0  \n",
       "36      1            0  \n",
       "38      1            1  "
      ]
     },
     "execution_count": 74,
     "metadata": {},
     "output_type": "execute_result"
    }
   ],
   "source": [
    "ptd[ptd['score']==1].head(10)"
   ]
  },
  {
   "cell_type": "markdown",
   "metadata": {},
   "source": [
    "## Model Evaluation Metrics "
   ]
  },
  {
   "cell_type": "markdown",
   "metadata": {},
   "source": [
    "**Question 11**: Now it is time to use the newly created binary labels in the 'pred_test_df' dataframe to evaluate the model with some common classification metrics. Please create a report summary of the performance of the model and be sure to give the ROC AUC, F1 score(weighted), class precision and recall scores. "
   ]
  },
  {
   "cell_type": "markdown",
   "metadata": {},
   "source": [
    "For the report please be sure to include the following three parts:\n",
    "- With a non-technical audience in mind, explain the precision-recall tradeoff in regard to how you have optimized your model.\n",
    "\n",
    "- What are some areas of improvement for future iterations?\n",
    "\n",
    "**Answer**:    \n",
    "Precision measures the model's ability to retrieve the relevant cases, while recall determines the model's ability to identify all relevant cases within a dataset.    \n",
    "\n",
    "Based on the classification metrics, we can see that the trained model has 96% recall and 73% precision for the negative class, while it reaches 38% recall and 83% precision for the positive class. This means that, among 100 patients that will actually stay in hopital for no less than 5 days, the trained model can identify 38 out of them correctly. If we use the model to select 100 patients for the study, 83 patients are likely to stay in hospital for more than 5 days. \n",
    "\n",
    "In the future iterations, we need to improve the recall for positive cases because we expect the model to correctly identify all patients that satisfy the study requirements. "
   ]
  },
  {
   "cell_type": "code",
   "execution_count": 75,
   "metadata": {},
   "outputs": [],
   "source": [
    "from sklearn.metrics import brier_score_loss, f1_score, classification_report, roc_auc_score, confusion_matrix, precision_score, recall_score\n"
   ]
  },
  {
   "cell_type": "code",
   "execution_count": 76,
   "metadata": {},
   "outputs": [],
   "source": [
    "labels = pred_test_df['label_value']\n",
    "score = pred_test_df['score']"
   ]
  },
  {
   "cell_type": "code",
   "execution_count": 77,
   "metadata": {},
   "outputs": [
    {
     "name": "stdout",
     "output_type": "stream",
     "text": [
      "              precision    recall  f1-score   support\n",
      "\n",
      "           0       0.73      0.96      0.83      9138\n",
      "           1       0.83      0.38      0.52      5165\n",
      "\n",
      "    accuracy                           0.75     14303\n",
      "   macro avg       0.78      0.67      0.67     14303\n",
      "weighted avg       0.77      0.75      0.72     14303\n",
      "\n"
     ]
    }
   ],
   "source": [
    "# AUC, F1, precision and recall\n",
    "# Summary\n",
    "class_report = classification_report(labels, score)\n",
    "print(class_report)"
   ]
  },
  {
   "cell_type": "code",
   "execution_count": 78,
   "metadata": {},
   "outputs": [
    {
     "name": "stdout",
     "output_type": "stream",
     "text": [
      "Brier Score is 0.25\n"
     ]
    }
   ],
   "source": [
    "brier_score = brier_score_loss(labels, score)\n",
    "print('Brier Score is {:.2f}'.format(brier_score))\n"
   ]
  },
  {
   "cell_type": "code",
   "execution_count": 79,
   "metadata": {},
   "outputs": [
    {
     "name": "stdout",
     "output_type": "stream",
     "text": [
      "F1 score: 0.7173629302637784\n",
      "AUROC score: 0.6674647764078685\n"
     ]
    }
   ],
   "source": [
    "f1 = f1_score(labels, score, average='weighted')\n",
    "print(f'F1 score: {f1}')\n",
    "\n",
    "auroc = roc_auc_score(labels, score)\n",
    "print(f'AUROC score: {auroc}')\n"
   ]
  },
  {
   "cell_type": "code",
   "execution_count": 80,
   "metadata": {},
   "outputs": [
    {
     "data": {
      "text/plain": [
       "(8738, 400, 3209, 1956)"
      ]
     },
     "execution_count": 80,
     "metadata": {},
     "output_type": "execute_result"
    }
   ],
   "source": [
    "tn, fp, fn, tp = confusion_matrix(labels, (score > 0.5).astype(int)).ravel()\n",
    "tn, fp, fn, tp\n"
   ]
  },
  {
   "cell_type": "markdown",
   "metadata": {},
   "source": [
    "## Evaluating Potential Model Biases with Aequitas Toolkit"
   ]
  },
  {
   "cell_type": "markdown",
   "metadata": {},
   "source": [
    "### Prepare Data For Aequitas Bias Toolkit "
   ]
  },
  {
   "cell_type": "markdown",
   "metadata": {},
   "source": [
    "Using the gender and race fields, we will prepare the data for the Aequitas Toolkit."
   ]
  },
  {
   "cell_type": "code",
   "execution_count": 81,
   "metadata": {},
   "outputs": [
    {
     "name": "stdout",
     "output_type": "stream",
     "text": [
      "model_id, score_thresholds 1 {'rank_abs': [2356]}\n"
     ]
    },
    {
     "name": "stderr",
     "output_type": "stream",
     "text": [
      "/opt/conda/lib/python3.7/site-packages/aequitas/group.py:143: SettingWithCopyWarning: \n",
      "A value is trying to be set on a copy of a slice from a DataFrame.\n",
      "Try using .loc[row_indexer,col_indexer] = value instead\n",
      "\n",
      "See the caveats in the documentation: https://pandas.pydata.org/pandas-docs/stable/user_guide/indexing.html#returning-a-view-versus-a-copy\n",
      "  df['score'] = df['score'].astype(float)\n"
     ]
    }
   ],
   "source": [
    "# Aequitas\n",
    "from aequitas.preprocessing import preprocess_input_df\n",
    "from aequitas.group import Group\n",
    "from aequitas.plotting import Plot\n",
    "from aequitas.bias import Bias\n",
    "from aequitas.fairness import Fairness\n",
    "\n",
    "ae_subset_df = pred_test_df[['race', 'gender', 'score', 'label_value']]\n",
    "ae_df, _ = preprocess_input_df(ae_subset_df)\n",
    "g = Group()\n",
    "xtab, _ = g.get_crosstabs(ae_df)\n",
    "absolute_metrics = g.list_absolute_metrics(xtab)\n",
    "clean_xtab = xtab.fillna(-1)\n",
    "aqp = Plot()\n",
    "b = Bias()\n"
   ]
  },
  {
   "cell_type": "markdown",
   "metadata": {},
   "source": [
    "### Reference Group Selection"
   ]
  },
  {
   "cell_type": "markdown",
   "metadata": {},
   "source": [
    "Below we have chosen the reference group for our analysis but feel free to select another one."
   ]
  },
  {
   "cell_type": "code",
   "execution_count": 82,
   "metadata": {},
   "outputs": [
    {
     "name": "stdout",
     "output_type": "stream",
     "text": [
      "get_disparity_predefined_group()\n"
     ]
    },
    {
     "name": "stderr",
     "output_type": "stream",
     "text": [
      "/opt/conda/lib/python3.7/site-packages/aequitas/bias.py:368: FutureWarning: The pandas.np module is deprecated and will be removed from pandas in a future version. Import numpy directly instead\n",
      "  df = df.replace(pd.np.inf, fill_divbyzero)\n",
      "/opt/conda/lib/python3.7/site-packages/aequitas/fairness.py:32: FutureWarning: The pandas.np module is deprecated and will be removed from pandas in a future version. Import numpy directly instead\n",
      "  self.fair_eval = lambda tau: lambda x: pd.np.nan if pd.np.isnan(x) else \\\n",
      "/opt/conda/lib/python3.7/site-packages/aequitas/fairness.py:45: FutureWarning: The pandas.np module is deprecated and will be removed from pandas in a future version. Import numpy directly instead\n",
      "  self.high_level_pair_eval = lambda col1, col2: lambda x: pd.np.nan if (pd.np.isnan(x[col1]) and pd.np.isnan(x[col2])) \\\n"
     ]
    }
   ],
   "source": [
    "# test reference group with Caucasian Male\n",
    "bdf = b.get_disparity_predefined_groups(clean_xtab,\n",
    "                                        original_df=ae_df,\n",
    "                                        ref_groups_dict={'race': 'Caucasian', 'gender': 'Male'\n",
    "                                                         },\n",
    "                                        alpha=0.05,\n",
    "                                        check_significance=False)\n",
    "\n",
    "\n",
    "f = Fairness()\n",
    "fdf = f.get_group_value_fairness(bdf)\n"
   ]
  },
  {
   "cell_type": "markdown",
   "metadata": {},
   "source": [
    "## Race and Gender Bias Analysis for Patient Selection"
   ]
  },
  {
   "cell_type": "markdown",
   "metadata": {},
   "source": [
    "**Question 12**: For the gender and race fields, please plot two metrics that are important for patient selection below and state whether there is a significant bias in your model across any of the groups along with justification for your statement.\n",
    "\n",
    "**Answer**:     \n",
    "The model does not show a significant bias towards gender.    \n",
    "`Asian` and `Other` groups are more likely to be correctly selected for the study, while the model has a significantly lower precision for predicting `Hispanic` patients. "
   ]
  },
  {
   "cell_type": "code",
   "execution_count": 83,
   "metadata": {},
   "outputs": [],
   "source": [
    "# Plot two metrics\n",
    "\n",
    "# Is there significant bias in your model for either race or gender?\n"
   ]
  },
  {
   "cell_type": "code",
   "execution_count": 84,
   "metadata": {
    "scrolled": false
   },
   "outputs": [
    {
     "data": {
      "image/png": "[encoded data removed]",
      "text/plain": [
       "<Figure size 1800x432 with 3 Axes>"
      ]
     },
     "metadata": {
      "needs_background": "light"
     },
     "output_type": "display_data"
    }
   ],
   "source": [
    "p = aqp.plot_group_metric_all(\n",
    "    clean_xtab, metrics=['tpr', 'fpr', 'precision'], ncols=3)\n"
   ]
  },
  {
   "cell_type": "markdown",
   "metadata": {},
   "source": [
    "## Fairness Analysis Example - Relative to a Reference Group "
   ]
  },
  {
   "cell_type": "markdown",
   "metadata": {},
   "source": [
    "**Question 13**: Earlier we defined our reference group and then calculated disparity metrics relative to this grouping. Please provide a visualization of the fairness evaluation for this reference group and analyze whether there is disparity.\n",
    "\n",
    "**Student Response**:    \n",
    "From the fairness disparity analysis, we can see that `Asian` and `Other` groups have approximately the same amount of population as the `Hispanic` group in the dataset, the former ones have a much lower false positive rate, which indicates a large false positive rate disparity with regard to race. While for both gender groups, the false positive rates are fairly close. "
   ]
  },
  {
   "cell_type": "code",
   "execution_count": 85,
   "metadata": {},
   "outputs": [
    {
     "data": {
      "image/png": "[encoded data removed]",
      "text/plain": [
       "<Figure size 720x360 with 1 Axes>"
      ]
     },
     "metadata": {
      "needs_background": "light"
     },
     "output_type": "display_data"
    }
   ],
   "source": [
    "# Reference group fairness plot\n",
    "fpr_fairness = aqp.plot_fairness_group(fdf, group_metric='fpr', title=True)\n"
   ]
  },
  {
   "cell_type": "code",
   "execution_count": 86,
   "metadata": {},
   "outputs": [
    {
     "data": {
      "image/png": "[encoded data removed]",
      "text/plain": [
       "<Figure size 720x360 with 1 Axes>"
      ]
     },
     "metadata": {
      "needs_background": "light"
     },
     "output_type": "display_data"
    }
   ],
   "source": [
    "tpr_fairness = aqp.plot_fairness_group(fdf, group_metric='tpr', title=True)\n"
   ]
  },
  {
   "cell_type": "code",
   "execution_count": 87,
   "metadata": {},
   "outputs": [
    {
     "data": {
      "image/png": "[encoded data removed]",
      "text/plain": [
       "<Figure size 360x288 with 2 Axes>"
      ]
     },
     "metadata": {
      "needs_background": "light"
     },
     "output_type": "display_data"
    }
   ],
   "source": [
    "fpr_disparity_race = aqp.plot_disparity(bdf, group_metric='fpr_disparity',\n",
    "                                        attribute_name='race')\n"
   ]
  },
  {
   "cell_type": "code",
   "execution_count": 88,
   "metadata": {},
   "outputs": [
    {
     "data": {
      "image/png": "[encoded data removed]",
      "text/plain": [
       "<Figure size 360x288 with 2 Axes>"
      ]
     },
     "metadata": {
      "needs_background": "light"
     },
     "output_type": "display_data"
    }
   ],
   "source": [
    "fpr_disparity_gender = aqp.plot_disparity(bdf, group_metric='fpr_disparity',\n",
    "                                          attribute_name='gender')\n"
   ]
  }
 ],
 "metadata": {
  "kernelspec": {
   "display_name": "Python 3",
   "language": "python",
   "name": "python3"
  },
  "language_info": {
   "codemirror_mode": {
    "name": "ipython",
    "version": 3
   },
   "file_extension": ".py",
   "mimetype": "text/x-python",
   "name": "python",
   "nbconvert_exporter": "python",
   "pygments_lexer": "ipython3",
   "version": "3.7.6"
  }
 },
 "nbformat": 4,
 "nbformat_minor": 2
}
